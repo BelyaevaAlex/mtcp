{
 "cells": [
  {
   "cell_type": "code",
   "execution_count": 153,
   "id": "dd3043be-1fec-4795-8cdc-dcbab58ca983",
   "metadata": {
    "tags": []
   },
   "outputs": [],
   "source": [
    "import torch\n",
    "from torch.utils.data import Dataset, DataLoader\n",
    "import pandas as pd\n",
    "from pycox.models import LogisticHazard\n",
    "from sklearn.model_selection import train_test_split\n",
    "from pycox.evaluation import EvalSurv\n",
    "import numpy as np\n",
    "import wandb\n",
    "from pycox.models.loss import NLLLogistiHazardLoss\n",
    "from rna.encoder import RNAEncoder\n",
    "from sklearn.model_selection import StratifiedKFold"
   ]
  },
  {
   "cell_type": "code",
   "execution_count": 154,
   "id": "f197b70c-d95d-4e66-8bd8-22fb47348ddf",
   "metadata": {
    "tags": []
   },
   "outputs": [
    {
     "data": {
      "text/plain": [
       "True"
      ]
     },
     "execution_count": 154,
     "metadata": {},
     "output_type": "execute_result"
    }
   ],
   "source": [
    "torch.cuda.is_available()"
   ]
  },
  {
   "cell_type": "code",
   "execution_count": 159,
   "id": "796c72bf-5d0c-4fce-a333-a5a0d855b6d6",
   "metadata": {
    "tags": []
   },
   "outputs": [],
   "source": [
    "dataset_path ='../data/dataset.csv'"
   ]
  },
  {
   "cell_type": "code",
   "execution_count": 160,
   "id": "ee291dbe-1cbe-441d-b100-d4e254c9a9b5",
   "metadata": {
    "tags": []
   },
   "outputs": [],
   "source": [
    "root_path ='../'"
   ]
  },
  {
   "cell_type": "code",
   "execution_count": 161,
   "id": "5e854e80-06ab-4801-9e36-598fc8b2b7fc",
   "metadata": {
    "tags": []
   },
   "outputs": [],
   "source": [
    "dataset=pd.read_csv(dataset_path)"
   ]
  },
  {
   "cell_type": "code",
   "execution_count": 166,
   "id": "44c88dfb-3a60-46a1-bee0-7b7324664909",
   "metadata": {
    "tags": []
   },
   "outputs": [],
   "source": [
    "dataset['RNA'] =dataset['RNA'].str.replace(\"../..\", \"\")"
   ]
  },
  {
   "cell_type": "code",
   "execution_count": 167,
   "id": "aa5d6c56-6557-4b8a-adf9-1c15552fc4ea",
   "metadata": {
    "tags": []
   },
   "outputs": [],
   "source": [
    "dataset.to_csv(\"../data/dataset.csv\", index=False)"
   ]
  },
  {
   "cell_type": "code",
   "execution_count": 132,
   "id": "858b067b-fd7c-485b-abf7-99fdcbf429aa",
   "metadata": {
    "tags": []
   },
   "outputs": [],
   "source": [
    "del dataset['Unnamed: 0']"
   ]
  },
  {
   "cell_type": "code",
   "execution_count": 133,
   "id": "29538080-dff7-416f-afc3-5bc23168b6cf",
   "metadata": {
    "tags": []
   },
   "outputs": [
    {
     "data": {
      "text/html": [
       "<div>\n",
       "<style scoped>\n",
       "    .dataframe tbody tr th:only-of-type {\n",
       "        vertical-align: middle;\n",
       "    }\n",
       "\n",
       "    .dataframe tbody tr th {\n",
       "        vertical-align: top;\n",
       "    }\n",
       "\n",
       "    .dataframe thead th {\n",
       "        text-align: right;\n",
       "    }\n",
       "</style>\n",
       "<table border=\"1\" class=\"dataframe\">\n",
       "  <thead>\n",
       "    <tr style=\"text-align: right;\">\n",
       "      <th></th>\n",
       "      <th>submitter_id</th>\n",
       "      <th>tumor_stage</th>\n",
       "      <th>age_at_diagnosis</th>\n",
       "      <th>prior_treatment</th>\n",
       "      <th>prior_malignancy</th>\n",
       "      <th>synchronous_malignancy</th>\n",
       "      <th>days_to_last_follow_up</th>\n",
       "      <th>gender</th>\n",
       "      <th>race</th>\n",
       "      <th>vital_status</th>\n",
       "      <th>...</th>\n",
       "      <th>group</th>\n",
       "      <th>IDH</th>\n",
       "      <th>MGMT</th>\n",
       "      <th>X1p19q</th>\n",
       "      <th>19.20.gain</th>\n",
       "      <th>7g10l</th>\n",
       "      <th>TERT</th>\n",
       "      <th>ATRX</th>\n",
       "      <th>DNAm</th>\n",
       "      <th>RNA</th>\n",
       "    </tr>\n",
       "  </thead>\n",
       "  <tbody>\n",
       "    <tr>\n",
       "      <th>0</th>\n",
       "      <td>TCGA-CS-4938</td>\n",
       "      <td>NaN</td>\n",
       "      <td>11509.0</td>\n",
       "      <td>No</td>\n",
       "      <td>no</td>\n",
       "      <td>No</td>\n",
       "      <td>3574.0</td>\n",
       "      <td>female</td>\n",
       "      <td>white</td>\n",
       "      <td>Alive</td>\n",
       "      <td>...</td>\n",
       "      <td>train</td>\n",
       "      <td>Mutant</td>\n",
       "      <td>Unmethylated</td>\n",
       "      <td>non-codel</td>\n",
       "      <td>No chr 19/20 gain</td>\n",
       "      <td>No combined CNA</td>\n",
       "      <td>Not expressed</td>\n",
       "      <td>Mutant</td>\n",
       "      <td>NaN</td>\n",
       "      <td>../../DRIM/data/TCGA/GBMLGG/RNA/a282f56a-0884-...</td>\n",
       "    </tr>\n",
       "    <tr>\n",
       "      <th>1</th>\n",
       "      <td>TCGA-CS-4941</td>\n",
       "      <td>NaN</td>\n",
       "      <td>24578.0</td>\n",
       "      <td>No</td>\n",
       "      <td>no</td>\n",
       "      <td>No</td>\n",
       "      <td>NaN</td>\n",
       "      <td>male</td>\n",
       "      <td>white</td>\n",
       "      <td>Dead</td>\n",
       "      <td>...</td>\n",
       "      <td>train</td>\n",
       "      <td>WT</td>\n",
       "      <td>Methylated</td>\n",
       "      <td>non-codel</td>\n",
       "      <td>No chr 19/20 gain</td>\n",
       "      <td>Gain chr 7 &amp; loss chr 10</td>\n",
       "      <td>Expressed</td>\n",
       "      <td>WT</td>\n",
       "      <td>NaN</td>\n",
       "      <td>../../DRIM/data/TCGA/GBMLGG/RNA/20443648-a8c8-...</td>\n",
       "    </tr>\n",
       "    <tr>\n",
       "      <th>2</th>\n",
       "      <td>TCGA-CS-4942</td>\n",
       "      <td>NaN</td>\n",
       "      <td>16297.0</td>\n",
       "      <td>No</td>\n",
       "      <td>no</td>\n",
       "      <td>No</td>\n",
       "      <td>NaN</td>\n",
       "      <td>female</td>\n",
       "      <td>black or african american</td>\n",
       "      <td>Dead</td>\n",
       "      <td>...</td>\n",
       "      <td>train</td>\n",
       "      <td>Mutant</td>\n",
       "      <td>Unmethylated</td>\n",
       "      <td>non-codel</td>\n",
       "      <td>No chr 19/20 gain</td>\n",
       "      <td>No combined CNA</td>\n",
       "      <td>Not expressed</td>\n",
       "      <td>Mutant</td>\n",
       "      <td>NaN</td>\n",
       "      <td>../../DRIM/data/TCGA/GBMLGG/RNA/81c11217-7d87-...</td>\n",
       "    </tr>\n",
       "    <tr>\n",
       "      <th>3</th>\n",
       "      <td>TCGA-CS-4943</td>\n",
       "      <td>NaN</td>\n",
       "      <td>13565.0</td>\n",
       "      <td>No</td>\n",
       "      <td>no</td>\n",
       "      <td>No</td>\n",
       "      <td>NaN</td>\n",
       "      <td>male</td>\n",
       "      <td>white</td>\n",
       "      <td>Dead</td>\n",
       "      <td>...</td>\n",
       "      <td>train</td>\n",
       "      <td>Mutant</td>\n",
       "      <td>Methylated</td>\n",
       "      <td>non-codel</td>\n",
       "      <td>No chr 19/20 gain</td>\n",
       "      <td>No combined CNA</td>\n",
       "      <td>Not expressed</td>\n",
       "      <td>Mutant</td>\n",
       "      <td>NaN</td>\n",
       "      <td>../../DRIM/data/TCGA/GBMLGG/RNA/bb459bb7-ff32-...</td>\n",
       "    </tr>\n",
       "    <tr>\n",
       "      <th>4</th>\n",
       "      <td>TCGA-CS-4944</td>\n",
       "      <td>NaN</td>\n",
       "      <td>18494.0</td>\n",
       "      <td>No</td>\n",
       "      <td>no</td>\n",
       "      <td>No</td>\n",
       "      <td>1828.0</td>\n",
       "      <td>male</td>\n",
       "      <td>white</td>\n",
       "      <td>Alive</td>\n",
       "      <td>...</td>\n",
       "      <td>train</td>\n",
       "      <td>Mutant</td>\n",
       "      <td>Methylated</td>\n",
       "      <td>non-codel</td>\n",
       "      <td>No chr 19/20 gain</td>\n",
       "      <td>No combined CNA</td>\n",
       "      <td>Expressed</td>\n",
       "      <td>WT</td>\n",
       "      <td>NaN</td>\n",
       "      <td>../../DRIM/data/TCGA/GBMLGG/RNA/ddda9728-45af-...</td>\n",
       "    </tr>\n",
       "    <tr>\n",
       "      <th>...</th>\n",
       "      <td>...</td>\n",
       "      <td>...</td>\n",
       "      <td>...</td>\n",
       "      <td>...</td>\n",
       "      <td>...</td>\n",
       "      <td>...</td>\n",
       "      <td>...</td>\n",
       "      <td>...</td>\n",
       "      <td>...</td>\n",
       "      <td>...</td>\n",
       "      <td>...</td>\n",
       "      <td>...</td>\n",
       "      <td>...</td>\n",
       "      <td>...</td>\n",
       "      <td>...</td>\n",
       "      <td>...</td>\n",
       "      <td>...</td>\n",
       "      <td>...</td>\n",
       "      <td>...</td>\n",
       "      <td>...</td>\n",
       "      <td>...</td>\n",
       "    </tr>\n",
       "    <tr>\n",
       "      <th>1099</th>\n",
       "      <td>TCGA-87-5896</td>\n",
       "      <td>NaN</td>\n",
       "      <td>18391.0</td>\n",
       "      <td>No</td>\n",
       "      <td>NaN</td>\n",
       "      <td>NaN</td>\n",
       "      <td>800.0</td>\n",
       "      <td>female</td>\n",
       "      <td>white</td>\n",
       "      <td>Alive</td>\n",
       "      <td>...</td>\n",
       "      <td>test</td>\n",
       "      <td>WT</td>\n",
       "      <td>Unmethylated</td>\n",
       "      <td>non-codel</td>\n",
       "      <td>No chr 19/20 gain</td>\n",
       "      <td>Gain chr 7 &amp; loss chr 10</td>\n",
       "      <td>NaN</td>\n",
       "      <td>WT</td>\n",
       "      <td>NaN</td>\n",
       "      <td>NaN</td>\n",
       "    </tr>\n",
       "    <tr>\n",
       "      <th>1100</th>\n",
       "      <td>TCGA-OX-A56R</td>\n",
       "      <td>NaN</td>\n",
       "      <td>25178.0</td>\n",
       "      <td>No</td>\n",
       "      <td>no</td>\n",
       "      <td>No</td>\n",
       "      <td>NaN</td>\n",
       "      <td>male</td>\n",
       "      <td>black or african american</td>\n",
       "      <td>Dead</td>\n",
       "      <td>...</td>\n",
       "      <td>train</td>\n",
       "      <td>WT</td>\n",
       "      <td>Methylated</td>\n",
       "      <td>non-codel</td>\n",
       "      <td>No chr 19/20 gain</td>\n",
       "      <td>Gain chr 7 &amp; loss chr 10</td>\n",
       "      <td>NaN</td>\n",
       "      <td>WT</td>\n",
       "      <td>NaN</td>\n",
       "      <td>NaN</td>\n",
       "    </tr>\n",
       "    <tr>\n",
       "      <th>1101</th>\n",
       "      <td>TCGA-RR-A6KA</td>\n",
       "      <td>NaN</td>\n",
       "      <td>26582.0</td>\n",
       "      <td>No</td>\n",
       "      <td>no</td>\n",
       "      <td>No</td>\n",
       "      <td>NaN</td>\n",
       "      <td>female</td>\n",
       "      <td>black or african american</td>\n",
       "      <td>Dead</td>\n",
       "      <td>...</td>\n",
       "      <td>train</td>\n",
       "      <td>WT</td>\n",
       "      <td>Methylated</td>\n",
       "      <td>non-codel</td>\n",
       "      <td>Gain chr 19/20</td>\n",
       "      <td>No combined CNA</td>\n",
       "      <td>NaN</td>\n",
       "      <td>WT</td>\n",
       "      <td>NaN</td>\n",
       "      <td>NaN</td>\n",
       "    </tr>\n",
       "    <tr>\n",
       "      <th>1102</th>\n",
       "      <td>TCGA-RR-A6KB</td>\n",
       "      <td>NaN</td>\n",
       "      <td>18713.0</td>\n",
       "      <td>No</td>\n",
       "      <td>no</td>\n",
       "      <td>No</td>\n",
       "      <td>0.0</td>\n",
       "      <td>male</td>\n",
       "      <td>black or african american</td>\n",
       "      <td>Alive</td>\n",
       "      <td>...</td>\n",
       "      <td>train</td>\n",
       "      <td>WT</td>\n",
       "      <td>Unmethylated</td>\n",
       "      <td>non-codel</td>\n",
       "      <td>No chr 19/20 gain</td>\n",
       "      <td>Gain chr 7 &amp; loss chr 10</td>\n",
       "      <td>NaN</td>\n",
       "      <td>WT</td>\n",
       "      <td>NaN</td>\n",
       "      <td>NaN</td>\n",
       "    </tr>\n",
       "    <tr>\n",
       "      <th>1103</th>\n",
       "      <td>TCGA-RR-A6KC</td>\n",
       "      <td>NaN</td>\n",
       "      <td>20302.0</td>\n",
       "      <td>No</td>\n",
       "      <td>no</td>\n",
       "      <td>No</td>\n",
       "      <td>NaN</td>\n",
       "      <td>male</td>\n",
       "      <td>black or african american</td>\n",
       "      <td>Dead</td>\n",
       "      <td>...</td>\n",
       "      <td>train</td>\n",
       "      <td>WT</td>\n",
       "      <td>Unmethylated</td>\n",
       "      <td>non-codel</td>\n",
       "      <td>Gain chr 19/20</td>\n",
       "      <td>Gain chr 7 &amp; loss chr 10</td>\n",
       "      <td>NaN</td>\n",
       "      <td>WT</td>\n",
       "      <td>NaN</td>\n",
       "      <td>NaN</td>\n",
       "    </tr>\n",
       "  </tbody>\n",
       "</table>\n",
       "<p>1104 rows × 26 columns</p>\n",
       "</div>"
      ],
      "text/plain": [
       "      submitter_id  tumor_stage  age_at_diagnosis prior_treatment  \\\n",
       "0     TCGA-CS-4938          NaN           11509.0              No   \n",
       "1     TCGA-CS-4941          NaN           24578.0              No   \n",
       "2     TCGA-CS-4942          NaN           16297.0              No   \n",
       "3     TCGA-CS-4943          NaN           13565.0              No   \n",
       "4     TCGA-CS-4944          NaN           18494.0              No   \n",
       "...            ...          ...               ...             ...   \n",
       "1099  TCGA-87-5896          NaN           18391.0              No   \n",
       "1100  TCGA-OX-A56R          NaN           25178.0              No   \n",
       "1101  TCGA-RR-A6KA          NaN           26582.0              No   \n",
       "1102  TCGA-RR-A6KB          NaN           18713.0              No   \n",
       "1103  TCGA-RR-A6KC          NaN           20302.0              No   \n",
       "\n",
       "     prior_malignancy synchronous_malignancy  days_to_last_follow_up  gender  \\\n",
       "0                  no                     No                  3574.0  female   \n",
       "1                  no                     No                     NaN    male   \n",
       "2                  no                     No                     NaN  female   \n",
       "3                  no                     No                     NaN    male   \n",
       "4                  no                     No                  1828.0    male   \n",
       "...               ...                    ...                     ...     ...   \n",
       "1099              NaN                    NaN                   800.0  female   \n",
       "1100               no                     No                     NaN    male   \n",
       "1101               no                     No                     NaN  female   \n",
       "1102               no                     No                     0.0    male   \n",
       "1103               no                     No                     NaN    male   \n",
       "\n",
       "                           race vital_status  ...  group     IDH  \\\n",
       "0                         white        Alive  ...  train  Mutant   \n",
       "1                         white         Dead  ...  train      WT   \n",
       "2     black or african american         Dead  ...  train  Mutant   \n",
       "3                         white         Dead  ...  train  Mutant   \n",
       "4                         white        Alive  ...  train  Mutant   \n",
       "...                         ...          ...  ...    ...     ...   \n",
       "1099                      white        Alive  ...   test      WT   \n",
       "1100  black or african american         Dead  ...  train      WT   \n",
       "1101  black or african american         Dead  ...  train      WT   \n",
       "1102  black or african american        Alive  ...  train      WT   \n",
       "1103  black or african american         Dead  ...  train      WT   \n",
       "\n",
       "              MGMT     X1p19q         19.20.gain                     7g10l  \\\n",
       "0     Unmethylated  non-codel  No chr 19/20 gain           No combined CNA   \n",
       "1       Methylated  non-codel  No chr 19/20 gain  Gain chr 7 & loss chr 10   \n",
       "2     Unmethylated  non-codel  No chr 19/20 gain           No combined CNA   \n",
       "3       Methylated  non-codel  No chr 19/20 gain           No combined CNA   \n",
       "4       Methylated  non-codel  No chr 19/20 gain           No combined CNA   \n",
       "...            ...        ...                ...                       ...   \n",
       "1099  Unmethylated  non-codel  No chr 19/20 gain  Gain chr 7 & loss chr 10   \n",
       "1100    Methylated  non-codel  No chr 19/20 gain  Gain chr 7 & loss chr 10   \n",
       "1101    Methylated  non-codel     Gain chr 19/20           No combined CNA   \n",
       "1102  Unmethylated  non-codel  No chr 19/20 gain  Gain chr 7 & loss chr 10   \n",
       "1103  Unmethylated  non-codel     Gain chr 19/20  Gain chr 7 & loss chr 10   \n",
       "\n",
       "               TERT    ATRX DNAm  \\\n",
       "0     Not expressed  Mutant  NaN   \n",
       "1         Expressed      WT  NaN   \n",
       "2     Not expressed  Mutant  NaN   \n",
       "3     Not expressed  Mutant  NaN   \n",
       "4         Expressed      WT  NaN   \n",
       "...             ...     ...  ...   \n",
       "1099            NaN      WT  NaN   \n",
       "1100            NaN      WT  NaN   \n",
       "1101            NaN      WT  NaN   \n",
       "1102            NaN      WT  NaN   \n",
       "1103            NaN      WT  NaN   \n",
       "\n",
       "                                                    RNA  \n",
       "0     ../../DRIM/data/TCGA/GBMLGG/RNA/a282f56a-0884-...  \n",
       "1     ../../DRIM/data/TCGA/GBMLGG/RNA/20443648-a8c8-...  \n",
       "2     ../../DRIM/data/TCGA/GBMLGG/RNA/81c11217-7d87-...  \n",
       "3     ../../DRIM/data/TCGA/GBMLGG/RNA/bb459bb7-ff32-...  \n",
       "4     ../../DRIM/data/TCGA/GBMLGG/RNA/ddda9728-45af-...  \n",
       "...                                                 ...  \n",
       "1099                                                NaN  \n",
       "1100                                                NaN  \n",
       "1101                                                NaN  \n",
       "1102                                                NaN  \n",
       "1103                                                NaN  \n",
       "\n",
       "[1104 rows x 26 columns]"
      ]
     },
     "execution_count": 133,
     "metadata": {},
     "output_type": "execute_result"
    }
   ],
   "source": [
    "dataset"
   ]
  },
  {
   "cell_type": "code",
   "execution_count": 138,
   "id": "cdd4d722-1de8-457b-b16c-5e149a486748",
   "metadata": {
    "tags": []
   },
   "outputs": [],
   "source": [
    "train_brain = dataset[dataset.group == 'train']\n",
    "test_brain = dataset[dataset.group == 'test']"
   ]
  },
  {
   "cell_type": "code",
   "execution_count": 139,
   "id": "d3c0b58b-4b2a-440a-9c8f-6afde2fdb39c",
   "metadata": {
    "tags": []
   },
   "outputs": [
    {
     "data": {
      "text/html": [
       "<div>\n",
       "<style scoped>\n",
       "    .dataframe tbody tr th:only-of-type {\n",
       "        vertical-align: middle;\n",
       "    }\n",
       "\n",
       "    .dataframe tbody tr th {\n",
       "        vertical-align: top;\n",
       "    }\n",
       "\n",
       "    .dataframe thead th {\n",
       "        text-align: right;\n",
       "    }\n",
       "</style>\n",
       "<table border=\"1\" class=\"dataframe\">\n",
       "  <thead>\n",
       "    <tr style=\"text-align: right;\">\n",
       "      <th></th>\n",
       "      <th>submitter_id</th>\n",
       "      <th>tumor_stage</th>\n",
       "      <th>age_at_diagnosis</th>\n",
       "      <th>prior_treatment</th>\n",
       "      <th>prior_malignancy</th>\n",
       "      <th>synchronous_malignancy</th>\n",
       "      <th>days_to_last_follow_up</th>\n",
       "      <th>gender</th>\n",
       "      <th>race</th>\n",
       "      <th>vital_status</th>\n",
       "      <th>...</th>\n",
       "      <th>group</th>\n",
       "      <th>IDH</th>\n",
       "      <th>MGMT</th>\n",
       "      <th>X1p19q</th>\n",
       "      <th>19.20.gain</th>\n",
       "      <th>7g10l</th>\n",
       "      <th>TERT</th>\n",
       "      <th>ATRX</th>\n",
       "      <th>DNAm</th>\n",
       "      <th>RNA</th>\n",
       "    </tr>\n",
       "  </thead>\n",
       "  <tbody>\n",
       "    <tr>\n",
       "      <th>0</th>\n",
       "      <td>TCGA-CS-4938</td>\n",
       "      <td>NaN</td>\n",
       "      <td>11509.0</td>\n",
       "      <td>No</td>\n",
       "      <td>no</td>\n",
       "      <td>No</td>\n",
       "      <td>3574.0</td>\n",
       "      <td>female</td>\n",
       "      <td>white</td>\n",
       "      <td>Alive</td>\n",
       "      <td>...</td>\n",
       "      <td>train</td>\n",
       "      <td>Mutant</td>\n",
       "      <td>Unmethylated</td>\n",
       "      <td>non-codel</td>\n",
       "      <td>No chr 19/20 gain</td>\n",
       "      <td>No combined CNA</td>\n",
       "      <td>Not expressed</td>\n",
       "      <td>Mutant</td>\n",
       "      <td>NaN</td>\n",
       "      <td>../../DRIM/data/TCGA/GBMLGG/RNA/a282f56a-0884-...</td>\n",
       "    </tr>\n",
       "    <tr>\n",
       "      <th>1</th>\n",
       "      <td>TCGA-CS-4941</td>\n",
       "      <td>NaN</td>\n",
       "      <td>24578.0</td>\n",
       "      <td>No</td>\n",
       "      <td>no</td>\n",
       "      <td>No</td>\n",
       "      <td>NaN</td>\n",
       "      <td>male</td>\n",
       "      <td>white</td>\n",
       "      <td>Dead</td>\n",
       "      <td>...</td>\n",
       "      <td>train</td>\n",
       "      <td>WT</td>\n",
       "      <td>Methylated</td>\n",
       "      <td>non-codel</td>\n",
       "      <td>No chr 19/20 gain</td>\n",
       "      <td>Gain chr 7 &amp; loss chr 10</td>\n",
       "      <td>Expressed</td>\n",
       "      <td>WT</td>\n",
       "      <td>NaN</td>\n",
       "      <td>../../DRIM/data/TCGA/GBMLGG/RNA/20443648-a8c8-...</td>\n",
       "    </tr>\n",
       "    <tr>\n",
       "      <th>2</th>\n",
       "      <td>TCGA-CS-4942</td>\n",
       "      <td>NaN</td>\n",
       "      <td>16297.0</td>\n",
       "      <td>No</td>\n",
       "      <td>no</td>\n",
       "      <td>No</td>\n",
       "      <td>NaN</td>\n",
       "      <td>female</td>\n",
       "      <td>black or african american</td>\n",
       "      <td>Dead</td>\n",
       "      <td>...</td>\n",
       "      <td>train</td>\n",
       "      <td>Mutant</td>\n",
       "      <td>Unmethylated</td>\n",
       "      <td>non-codel</td>\n",
       "      <td>No chr 19/20 gain</td>\n",
       "      <td>No combined CNA</td>\n",
       "      <td>Not expressed</td>\n",
       "      <td>Mutant</td>\n",
       "      <td>NaN</td>\n",
       "      <td>../../DRIM/data/TCGA/GBMLGG/RNA/81c11217-7d87-...</td>\n",
       "    </tr>\n",
       "    <tr>\n",
       "      <th>3</th>\n",
       "      <td>TCGA-CS-4943</td>\n",
       "      <td>NaN</td>\n",
       "      <td>13565.0</td>\n",
       "      <td>No</td>\n",
       "      <td>no</td>\n",
       "      <td>No</td>\n",
       "      <td>NaN</td>\n",
       "      <td>male</td>\n",
       "      <td>white</td>\n",
       "      <td>Dead</td>\n",
       "      <td>...</td>\n",
       "      <td>train</td>\n",
       "      <td>Mutant</td>\n",
       "      <td>Methylated</td>\n",
       "      <td>non-codel</td>\n",
       "      <td>No chr 19/20 gain</td>\n",
       "      <td>No combined CNA</td>\n",
       "      <td>Not expressed</td>\n",
       "      <td>Mutant</td>\n",
       "      <td>NaN</td>\n",
       "      <td>../../DRIM/data/TCGA/GBMLGG/RNA/bb459bb7-ff32-...</td>\n",
       "    </tr>\n",
       "    <tr>\n",
       "      <th>4</th>\n",
       "      <td>TCGA-CS-4944</td>\n",
       "      <td>NaN</td>\n",
       "      <td>18494.0</td>\n",
       "      <td>No</td>\n",
       "      <td>no</td>\n",
       "      <td>No</td>\n",
       "      <td>1828.0</td>\n",
       "      <td>male</td>\n",
       "      <td>white</td>\n",
       "      <td>Alive</td>\n",
       "      <td>...</td>\n",
       "      <td>train</td>\n",
       "      <td>Mutant</td>\n",
       "      <td>Methylated</td>\n",
       "      <td>non-codel</td>\n",
       "      <td>No chr 19/20 gain</td>\n",
       "      <td>No combined CNA</td>\n",
       "      <td>Expressed</td>\n",
       "      <td>WT</td>\n",
       "      <td>NaN</td>\n",
       "      <td>../../DRIM/data/TCGA/GBMLGG/RNA/ddda9728-45af-...</td>\n",
       "    </tr>\n",
       "    <tr>\n",
       "      <th>...</th>\n",
       "      <td>...</td>\n",
       "      <td>...</td>\n",
       "      <td>...</td>\n",
       "      <td>...</td>\n",
       "      <td>...</td>\n",
       "      <td>...</td>\n",
       "      <td>...</td>\n",
       "      <td>...</td>\n",
       "      <td>...</td>\n",
       "      <td>...</td>\n",
       "      <td>...</td>\n",
       "      <td>...</td>\n",
       "      <td>...</td>\n",
       "      <td>...</td>\n",
       "      <td>...</td>\n",
       "      <td>...</td>\n",
       "      <td>...</td>\n",
       "      <td>...</td>\n",
       "      <td>...</td>\n",
       "      <td>...</td>\n",
       "      <td>...</td>\n",
       "    </tr>\n",
       "    <tr>\n",
       "      <th>1098</th>\n",
       "      <td>TCGA-81-5911</td>\n",
       "      <td>NaN</td>\n",
       "      <td>12292.0</td>\n",
       "      <td>No</td>\n",
       "      <td>NaN</td>\n",
       "      <td>NaN</td>\n",
       "      <td>539.0</td>\n",
       "      <td>male</td>\n",
       "      <td>white</td>\n",
       "      <td>Alive</td>\n",
       "      <td>...</td>\n",
       "      <td>train</td>\n",
       "      <td>WT</td>\n",
       "      <td>Unmethylated</td>\n",
       "      <td>non-codel</td>\n",
       "      <td>No chr 19/20 gain</td>\n",
       "      <td>Gain chr 7 &amp; loss chr 10</td>\n",
       "      <td>NaN</td>\n",
       "      <td>WT</td>\n",
       "      <td>NaN</td>\n",
       "      <td>NaN</td>\n",
       "    </tr>\n",
       "    <tr>\n",
       "      <th>1100</th>\n",
       "      <td>TCGA-OX-A56R</td>\n",
       "      <td>NaN</td>\n",
       "      <td>25178.0</td>\n",
       "      <td>No</td>\n",
       "      <td>no</td>\n",
       "      <td>No</td>\n",
       "      <td>NaN</td>\n",
       "      <td>male</td>\n",
       "      <td>black or african american</td>\n",
       "      <td>Dead</td>\n",
       "      <td>...</td>\n",
       "      <td>train</td>\n",
       "      <td>WT</td>\n",
       "      <td>Methylated</td>\n",
       "      <td>non-codel</td>\n",
       "      <td>No chr 19/20 gain</td>\n",
       "      <td>Gain chr 7 &amp; loss chr 10</td>\n",
       "      <td>NaN</td>\n",
       "      <td>WT</td>\n",
       "      <td>NaN</td>\n",
       "      <td>NaN</td>\n",
       "    </tr>\n",
       "    <tr>\n",
       "      <th>1101</th>\n",
       "      <td>TCGA-RR-A6KA</td>\n",
       "      <td>NaN</td>\n",
       "      <td>26582.0</td>\n",
       "      <td>No</td>\n",
       "      <td>no</td>\n",
       "      <td>No</td>\n",
       "      <td>NaN</td>\n",
       "      <td>female</td>\n",
       "      <td>black or african american</td>\n",
       "      <td>Dead</td>\n",
       "      <td>...</td>\n",
       "      <td>train</td>\n",
       "      <td>WT</td>\n",
       "      <td>Methylated</td>\n",
       "      <td>non-codel</td>\n",
       "      <td>Gain chr 19/20</td>\n",
       "      <td>No combined CNA</td>\n",
       "      <td>NaN</td>\n",
       "      <td>WT</td>\n",
       "      <td>NaN</td>\n",
       "      <td>NaN</td>\n",
       "    </tr>\n",
       "    <tr>\n",
       "      <th>1102</th>\n",
       "      <td>TCGA-RR-A6KB</td>\n",
       "      <td>NaN</td>\n",
       "      <td>18713.0</td>\n",
       "      <td>No</td>\n",
       "      <td>no</td>\n",
       "      <td>No</td>\n",
       "      <td>0.0</td>\n",
       "      <td>male</td>\n",
       "      <td>black or african american</td>\n",
       "      <td>Alive</td>\n",
       "      <td>...</td>\n",
       "      <td>train</td>\n",
       "      <td>WT</td>\n",
       "      <td>Unmethylated</td>\n",
       "      <td>non-codel</td>\n",
       "      <td>No chr 19/20 gain</td>\n",
       "      <td>Gain chr 7 &amp; loss chr 10</td>\n",
       "      <td>NaN</td>\n",
       "      <td>WT</td>\n",
       "      <td>NaN</td>\n",
       "      <td>NaN</td>\n",
       "    </tr>\n",
       "    <tr>\n",
       "      <th>1103</th>\n",
       "      <td>TCGA-RR-A6KC</td>\n",
       "      <td>NaN</td>\n",
       "      <td>20302.0</td>\n",
       "      <td>No</td>\n",
       "      <td>no</td>\n",
       "      <td>No</td>\n",
       "      <td>NaN</td>\n",
       "      <td>male</td>\n",
       "      <td>black or african american</td>\n",
       "      <td>Dead</td>\n",
       "      <td>...</td>\n",
       "      <td>train</td>\n",
       "      <td>WT</td>\n",
       "      <td>Unmethylated</td>\n",
       "      <td>non-codel</td>\n",
       "      <td>Gain chr 19/20</td>\n",
       "      <td>Gain chr 7 &amp; loss chr 10</td>\n",
       "      <td>NaN</td>\n",
       "      <td>WT</td>\n",
       "      <td>NaN</td>\n",
       "      <td>NaN</td>\n",
       "    </tr>\n",
       "  </tbody>\n",
       "</table>\n",
       "<p>886 rows × 26 columns</p>\n",
       "</div>"
      ],
      "text/plain": [
       "      submitter_id  tumor_stage  age_at_diagnosis prior_treatment  \\\n",
       "0     TCGA-CS-4938          NaN           11509.0              No   \n",
       "1     TCGA-CS-4941          NaN           24578.0              No   \n",
       "2     TCGA-CS-4942          NaN           16297.0              No   \n",
       "3     TCGA-CS-4943          NaN           13565.0              No   \n",
       "4     TCGA-CS-4944          NaN           18494.0              No   \n",
       "...            ...          ...               ...             ...   \n",
       "1098  TCGA-81-5911          NaN           12292.0              No   \n",
       "1100  TCGA-OX-A56R          NaN           25178.0              No   \n",
       "1101  TCGA-RR-A6KA          NaN           26582.0              No   \n",
       "1102  TCGA-RR-A6KB          NaN           18713.0              No   \n",
       "1103  TCGA-RR-A6KC          NaN           20302.0              No   \n",
       "\n",
       "     prior_malignancy synchronous_malignancy  days_to_last_follow_up  gender  \\\n",
       "0                  no                     No                  3574.0  female   \n",
       "1                  no                     No                     NaN    male   \n",
       "2                  no                     No                     NaN  female   \n",
       "3                  no                     No                     NaN    male   \n",
       "4                  no                     No                  1828.0    male   \n",
       "...               ...                    ...                     ...     ...   \n",
       "1098              NaN                    NaN                   539.0    male   \n",
       "1100               no                     No                     NaN    male   \n",
       "1101               no                     No                     NaN  female   \n",
       "1102               no                     No                     0.0    male   \n",
       "1103               no                     No                     NaN    male   \n",
       "\n",
       "                           race vital_status  ...  group     IDH  \\\n",
       "0                         white        Alive  ...  train  Mutant   \n",
       "1                         white         Dead  ...  train      WT   \n",
       "2     black or african american         Dead  ...  train  Mutant   \n",
       "3                         white         Dead  ...  train  Mutant   \n",
       "4                         white        Alive  ...  train  Mutant   \n",
       "...                         ...          ...  ...    ...     ...   \n",
       "1098                      white        Alive  ...  train      WT   \n",
       "1100  black or african american         Dead  ...  train      WT   \n",
       "1101  black or african american         Dead  ...  train      WT   \n",
       "1102  black or african american        Alive  ...  train      WT   \n",
       "1103  black or african american         Dead  ...  train      WT   \n",
       "\n",
       "              MGMT     X1p19q         19.20.gain                     7g10l  \\\n",
       "0     Unmethylated  non-codel  No chr 19/20 gain           No combined CNA   \n",
       "1       Methylated  non-codel  No chr 19/20 gain  Gain chr 7 & loss chr 10   \n",
       "2     Unmethylated  non-codel  No chr 19/20 gain           No combined CNA   \n",
       "3       Methylated  non-codel  No chr 19/20 gain           No combined CNA   \n",
       "4       Methylated  non-codel  No chr 19/20 gain           No combined CNA   \n",
       "...            ...        ...                ...                       ...   \n",
       "1098  Unmethylated  non-codel  No chr 19/20 gain  Gain chr 7 & loss chr 10   \n",
       "1100    Methylated  non-codel  No chr 19/20 gain  Gain chr 7 & loss chr 10   \n",
       "1101    Methylated  non-codel     Gain chr 19/20           No combined CNA   \n",
       "1102  Unmethylated  non-codel  No chr 19/20 gain  Gain chr 7 & loss chr 10   \n",
       "1103  Unmethylated  non-codel     Gain chr 19/20  Gain chr 7 & loss chr 10   \n",
       "\n",
       "               TERT    ATRX DNAm  \\\n",
       "0     Not expressed  Mutant  NaN   \n",
       "1         Expressed      WT  NaN   \n",
       "2     Not expressed  Mutant  NaN   \n",
       "3     Not expressed  Mutant  NaN   \n",
       "4         Expressed      WT  NaN   \n",
       "...             ...     ...  ...   \n",
       "1098            NaN      WT  NaN   \n",
       "1100            NaN      WT  NaN   \n",
       "1101            NaN      WT  NaN   \n",
       "1102            NaN      WT  NaN   \n",
       "1103            NaN      WT  NaN   \n",
       "\n",
       "                                                    RNA  \n",
       "0     ../../DRIM/data/TCGA/GBMLGG/RNA/a282f56a-0884-...  \n",
       "1     ../../DRIM/data/TCGA/GBMLGG/RNA/20443648-a8c8-...  \n",
       "2     ../../DRIM/data/TCGA/GBMLGG/RNA/81c11217-7d87-...  \n",
       "3     ../../DRIM/data/TCGA/GBMLGG/RNA/bb459bb7-ff32-...  \n",
       "4     ../../DRIM/data/TCGA/GBMLGG/RNA/ddda9728-45af-...  \n",
       "...                                                 ...  \n",
       "1098                                                NaN  \n",
       "1100                                                NaN  \n",
       "1101                                                NaN  \n",
       "1102                                                NaN  \n",
       "1103                                                NaN  \n",
       "\n",
       "[886 rows x 26 columns]"
      ]
     },
     "execution_count": 139,
     "metadata": {},
     "output_type": "execute_result"
    }
   ],
   "source": [
    "train_brain"
   ]
  },
  {
   "cell_type": "code",
   "execution_count": 140,
   "id": "36cc5fb0-1e0e-42c9-b2b6-4ddff4f82ebe",
   "metadata": {
    "tags": []
   },
   "outputs": [],
   "source": [
    "skf = StratifiedKFold(n_splits=5, shuffle=True, random_state=2023)\n",
    "splits = np.zeros(len(train_brain))\n",
    "for i, (_, fold_idx) in enumerate(skf.split(train_brain, train_brain.project_id)):\n",
    "    splits[fold_idx] = i"
   ]
  },
  {
   "cell_type": "code",
   "execution_count": 145,
   "id": "fb12dadd-ce28-47ad-987e-21d3fdfe13da",
   "metadata": {
    "tags": []
   },
   "outputs": [
    {
     "name": "stderr",
     "output_type": "stream",
     "text": [
      "/tmp/ipykernel_57742/1158904737.py:1: SettingWithCopyWarning: \n",
      "A value is trying to be set on a copy of a slice from a DataFrame.\n",
      "Try using .loc[row_indexer,col_indexer] = value instead\n",
      "\n",
      "See the caveats in the documentation: https://pandas.pydata.org/pandas-docs/stable/user_guide/indexing.html#returning-a-view-versus-a-copy\n",
      "  train_brain['splits'] =splits\n"
     ]
    }
   ],
   "source": [
    "train_brain['splits'] =splits"
   ]
  },
  {
   "cell_type": "code",
   "execution_count": 148,
   "id": "2acbf0a6-d840-40a6-ba19-626c97f44603",
   "metadata": {
    "tags": []
   },
   "outputs": [
    {
     "data": {
      "text/plain": [
       "splits\n",
       "4.0    108\n",
       "3.0    108\n",
       "1.0    106\n",
       "0.0    105\n",
       "2.0    105\n",
       "Name: count, dtype: int64"
      ]
     },
     "execution_count": 148,
     "metadata": {},
     "output_type": "execute_result"
    }
   ],
   "source": [
    "train_brain.loc[train_brain['RNA'].notnull()]['splits'].value_counts()"
   ]
  },
  {
   "cell_type": "code",
   "execution_count": 152,
   "id": "835cd909-b560-4b74-9f95-95c667ebbd68",
   "metadata": {
    "tags": []
   },
   "outputs": [],
   "source": [
    "pd.concat([train_brain, test_brain]).to_csv(\"../data/dataset.csv\", index=False)"
   ]
  },
  {
   "cell_type": "code",
   "execution_count": 9,
   "id": "6d81182f-8f41-4536-9453-7612a560b160",
   "metadata": {},
   "outputs": [],
   "source": [
    "class RNADataset(Dataset):\n",
    "    \"\"\"RNA dataset.\"\"\"\n",
    "\n",
    "    def __init__(self, data, root_dir, transform=None):\n",
    "        \"\"\"\n",
    "        Arguments:\n",
    "            csv_file (string): Path to the csv file with annotations.\n",
    "            root_dir (string): Directory to RNA csv files\n",
    "            transform (callable, optional): Optional transform to be applied\n",
    "                on a sample.\n",
    "        \"\"\"\n",
    "        self.data = data\n",
    "        self.root_dir = root_dir\n",
    "        self.transform = transform\n",
    "\n",
    "    def __len__(self):\n",
    "        return self.data.shape[0]\n",
    "\n",
    "    def __getitem__(self, idx):\n",
    "       \n",
    "        sample_path =self.data.iloc[idx]['RNA']\n",
    "        \n",
    "        sample =pd.read_csv(self.root_dir+sample_path)[\"fpkm_uq_unstranded\"].values.reshape(1, -1)\n",
    "        \n",
    "        return torch.from_numpy(sample)"
   ]
  },
  {
   "cell_type": "code",
   "execution_count": 10,
   "id": "55dc70f9-8062-4098-a139-b4b0db6b7a7e",
   "metadata": {
    "tags": []
   },
   "outputs": [],
   "source": [
    "class RNASurvivalDataset(RNADataset):\n",
    "    \"\"\"RNA dataset.\"\"\"\n",
    "\n",
    "    def __init__(self, data,root_dir, times, events):\n",
    "        super().__init__(data, root_dir)\n",
    "        self.times =times\n",
    "        self.events =events\n",
    "\n",
    "\n",
    "    def __getitem__(self, idx):\n",
    "        \n",
    "        sample =super().__getitem__(idx)\n",
    "        return sample.float(), self.times[idx],self.events[idx]"
   ]
  },
  {
   "cell_type": "code",
   "execution_count": 23,
   "id": "82b77c26-5103-406f-b4ee-22a69de4974b",
   "metadata": {
    "tags": []
   },
   "outputs": [],
   "source": [
    "dataset =dataset.loc[dataset.RNA.notnull()]\n",
    "dataset_test =dataset.loc[dataset.group =='test']\n",
    "dataset_train =dataset.loc[dataset.group =='train']\n",
    "dataset_train, dataset_val =train_test_split(dataset_train, test_size =0.2)\n",
    "dataset_train=dataset_train.reset_index(drop=True)\n",
    "dataset_val=dataset_val.reset_index(drop=True)"
   ]
  },
  {
   "cell_type": "code",
   "execution_count": 24,
   "id": "85a64d80-08ac-4d2a-a92b-f64c54451a20",
   "metadata": {
    "tags": []
   },
   "outputs": [],
   "source": [
    "dataframes = {\"train\" : dataset_train, \"val\" : dataset_val, \"test\" : dataset_test}"
   ]
  },
  {
   "cell_type": "code",
   "execution_count": 25,
   "id": "7df109a1-3837-45c6-af95-12c8aebd78bc",
   "metadata": {
    "tags": []
   },
   "outputs": [],
   "source": [
    "datasets, dataloaders = {}, {}\n",
    "events, times ={}, {}\n",
    "n_intervals = 20\n",
    "for split, dataframe in dataframes.items():\n",
    "    if split ==\"train\":\n",
    "        labtrans = LogisticHazard.label_transform(n_intervals)\n",
    "        labtrans.fit(dataframe['time'], dataframe['event'])\n",
    "    events[split], times[split] =labtrans.transform(dataframe['time'], dataframe['event'])\n",
    "    datasets[split] = RNASurvivalDataset(dataframe, root_path, events[split],times[split])\n",
    "    if split =='train':\n",
    "        dataloaders[split] =DataLoader(datasets[split],shuffle=True, batch_size=24)\n",
    "    else:\n",
    "        dataloaders[split] =DataLoader(datasets[split],shuffle=False, batch_size=1)"
   ]
  },
  {
   "cell_type": "code",
   "execution_count": 33,
   "id": "f3cec864-3708-4e2b-b9e4-797081dc4b07",
   "metadata": {
    "tags": []
   },
   "outputs": [],
   "source": [
    "data =[] \n",
    "for batch in dataloaders['train']:\n",
    "    data.append(batch[0].cpu().numpy()[:,0,:])"
   ]
  },
  {
   "cell_type": "code",
   "execution_count": 35,
   "id": "ea7215f7-2a30-48cd-9ce2-2ca6ada17aa6",
   "metadata": {
    "tags": []
   },
   "outputs": [],
   "source": [
    "data =np.concatenate(data)"
   ]
  },
  {
   "cell_type": "code",
   "execution_count": 41,
   "id": "cd23d8f7-2e09-4573-aba1-2dd4238982e2",
   "metadata": {
    "tags": []
   },
   "outputs": [
    {
     "data": {
      "text/html": [
       "<div>\n",
       "<style scoped>\n",
       "    .dataframe tbody tr th:only-of-type {\n",
       "        vertical-align: middle;\n",
       "    }\n",
       "\n",
       "    .dataframe tbody tr th {\n",
       "        vertical-align: top;\n",
       "    }\n",
       "\n",
       "    .dataframe thead th {\n",
       "        text-align: right;\n",
       "    }\n",
       "</style>\n",
       "<table border=\"1\" class=\"dataframe\">\n",
       "  <thead>\n",
       "    <tr style=\"text-align: right;\">\n",
       "      <th></th>\n",
       "      <th>gene_id</th>\n",
       "      <th>fpkm_uq_unstranded</th>\n",
       "    </tr>\n",
       "  </thead>\n",
       "  <tbody>\n",
       "    <tr>\n",
       "      <th>0</th>\n",
       "      <td>ENSG00000000003.15</td>\n",
       "      <td>6.2657</td>\n",
       "    </tr>\n",
       "    <tr>\n",
       "      <th>1</th>\n",
       "      <td>ENSG00000000005.6</td>\n",
       "      <td>0.0163</td>\n",
       "    </tr>\n",
       "    <tr>\n",
       "      <th>2</th>\n",
       "      <td>ENSG00000000419.13</td>\n",
       "      <td>20.2915</td>\n",
       "    </tr>\n",
       "    <tr>\n",
       "      <th>3</th>\n",
       "      <td>ENSG00000000457.14</td>\n",
       "      <td>1.6075</td>\n",
       "    </tr>\n",
       "    <tr>\n",
       "      <th>4</th>\n",
       "      <td>ENSG00000000460.17</td>\n",
       "      <td>0.5047</td>\n",
       "    </tr>\n",
       "    <tr>\n",
       "      <th>...</th>\n",
       "      <td>...</td>\n",
       "      <td>...</td>\n",
       "    </tr>\n",
       "    <tr>\n",
       "      <th>16299</th>\n",
       "      <td>ENSG00000287908.1</td>\n",
       "      <td>0.0699</td>\n",
       "    </tr>\n",
       "    <tr>\n",
       "      <th>16300</th>\n",
       "      <td>ENSG00000288558.2</td>\n",
       "      <td>1.5788</td>\n",
       "    </tr>\n",
       "    <tr>\n",
       "      <th>16301</th>\n",
       "      <td>ENSG00000288611.1</td>\n",
       "      <td>0.0000</td>\n",
       "    </tr>\n",
       "    <tr>\n",
       "      <th>16302</th>\n",
       "      <td>ENSG00000288658.1</td>\n",
       "      <td>0.2031</td>\n",
       "    </tr>\n",
       "    <tr>\n",
       "      <th>16303</th>\n",
       "      <td>ENSG00000288675.1</td>\n",
       "      <td>1.2914</td>\n",
       "    </tr>\n",
       "  </tbody>\n",
       "</table>\n",
       "<p>16304 rows × 2 columns</p>\n",
       "</div>"
      ],
      "text/plain": [
       "                  gene_id  fpkm_uq_unstranded\n",
       "0      ENSG00000000003.15              6.2657\n",
       "1       ENSG00000000005.6              0.0163\n",
       "2      ENSG00000000419.13             20.2915\n",
       "3      ENSG00000000457.14              1.6075\n",
       "4      ENSG00000000460.17              0.5047\n",
       "...                   ...                 ...\n",
       "16299   ENSG00000287908.1              0.0699\n",
       "16300   ENSG00000288558.2              1.5788\n",
       "16301   ENSG00000288611.1              0.0000\n",
       "16302   ENSG00000288658.1              0.2031\n",
       "16303   ENSG00000288675.1              1.2914\n",
       "\n",
       "[16304 rows x 2 columns]"
      ]
     },
     "execution_count": 41,
     "metadata": {},
     "output_type": "execute_result"
    }
   ],
   "source": [
    "pd.read_csv(root_path+dataset_train.iloc[0,:]['RNA'])"
   ]
  },
  {
   "cell_type": "markdown",
   "id": "09bcd7f5-321c-4300-b109-4d1464a0cc4f",
   "metadata": {
    "tags": []
   },
   "source": [
    "from matplotlib import pyplot as plt"
   ]
  },
  {
   "cell_type": "code",
   "execution_count": 48,
   "id": "ad270172-5cf7-4efa-9fac-bbd2bd979bc3",
   "metadata": {
    "tags": []
   },
   "outputs": [],
   "source": [
    "from matplotlib import pyplot as plt"
   ]
  },
  {
   "cell_type": "code",
   "execution_count": 49,
   "id": "7c2d38da-f8c5-44ba-a4f9-5327929aa3f9",
   "metadata": {
    "tags": []
   },
   "outputs": [
    {
     "data": {
      "text/plain": [
       "<matplotlib.patches.StepPatch at 0x7f8bca02ed10>"
      ]
     },
     "execution_count": 49,
     "metadata": {},
     "output_type": "execute_result"
    },
    {
     "data": {
      "image/png": "[encoded data removed]",
      "text/plain": [
       "<Figure size 640x480 with 1 Axes>"
      ]
     },
     "metadata": {},
     "output_type": "display_data"
    }
   ],
   "source": [
    "counts, bins = np.histogram(data.flatten())\n",
    "plt.stairs(counts, bins)"
   ]
  },
  {
   "cell_type": "code",
   "execution_count": 51,
   "id": "4b8c70c1-84dc-403d-9135-388f996595ef",
   "metadata": {
    "tags": []
   },
   "outputs": [
    {
     "data": {
      "text/plain": [
       "0.0"
      ]
     },
     "execution_count": 51,
     "metadata": {},
     "output_type": "execute_result"
    }
   ],
   "source": [
    "data.flatten().min()"
   ]
  },
  {
   "cell_type": "code",
   "execution_count": 52,
   "id": "c17dd309-8b13-46f8-bb39-c2f3960d50fe",
   "metadata": {
    "tags": []
   },
   "outputs": [
    {
     "data": {
      "text/plain": [
       "65532.855"
      ]
     },
     "execution_count": 52,
     "metadata": {},
     "output_type": "execute_result"
    }
   ],
   "source": [
    "data.flatten().max()"
   ]
  },
  {
   "cell_type": "code",
   "execution_count": 107,
   "id": "9a73e839-1425-48f6-84cd-819ce6d8bab6",
   "metadata": {
    "tags": []
   },
   "outputs": [],
   "source": [
    "from sklearn.preprocessing import StandardScaler,Normalizer\n",
    "from sklearn.preprocessing import FunctionTransformer\n",
    "from sklearn.pipeline import Pipeline"
   ]
  },
  {
   "cell_type": "code",
   "execution_count": 114,
   "id": "6163fab5-d232-4047-ad4d-71b03f1218db",
   "metadata": {
    "tags": []
   },
   "outputs": [
    {
     "data": {
      "text/html": [
       "<style>#sk-container-id-7 {color: black;}#sk-container-id-7 pre{padding: 0;}#sk-container-id-7 div.sk-toggleable {background-color: white;}#sk-container-id-7 label.sk-toggleable__label {cursor: pointer;display: block;width: 100%;margin-bottom: 0;padding: 0.3em;box-sizing: border-box;text-align: center;}#sk-container-id-7 label.sk-toggleable__label-arrow:before {content: \"▸\";float: left;margin-right: 0.25em;color: #696969;}#sk-container-id-7 label.sk-toggleable__label-arrow:hover:before {color: black;}#sk-container-id-7 div.sk-estimator:hover label.sk-toggleable__label-arrow:before {color: black;}#sk-container-id-7 div.sk-toggleable__content {max-height: 0;max-width: 0;overflow: hidden;text-align: left;background-color: #f0f8ff;}#sk-container-id-7 div.sk-toggleable__content pre {margin: 0.2em;color: black;border-radius: 0.25em;background-color: #f0f8ff;}#sk-container-id-7 input.sk-toggleable__control:checked~div.sk-toggleable__content {max-height: 200px;max-width: 100%;overflow: auto;}#sk-container-id-7 input.sk-toggleable__control:checked~label.sk-toggleable__label-arrow:before {content: \"▾\";}#sk-container-id-7 div.sk-estimator input.sk-toggleable__control:checked~label.sk-toggleable__label {background-color: #d4ebff;}#sk-container-id-7 div.sk-label input.sk-toggleable__control:checked~label.sk-toggleable__label {background-color: #d4ebff;}#sk-container-id-7 input.sk-hidden--visually {border: 0;clip: rect(1px 1px 1px 1px);clip: rect(1px, 1px, 1px, 1px);height: 1px;margin: -1px;overflow: hidden;padding: 0;position: absolute;width: 1px;}#sk-container-id-7 div.sk-estimator {font-family: monospace;background-color: #f0f8ff;border: 1px dotted black;border-radius: 0.25em;box-sizing: border-box;margin-bottom: 0.5em;}#sk-container-id-7 div.sk-estimator:hover {background-color: #d4ebff;}#sk-container-id-7 div.sk-parallel-item::after {content: \"\";width: 100%;border-bottom: 1px solid gray;flex-grow: 1;}#sk-container-id-7 div.sk-label:hover label.sk-toggleable__label {background-color: #d4ebff;}#sk-container-id-7 div.sk-serial::before {content: \"\";position: absolute;border-left: 1px solid gray;box-sizing: border-box;top: 0;bottom: 0;left: 50%;z-index: 0;}#sk-container-id-7 div.sk-serial {display: flex;flex-direction: column;align-items: center;background-color: white;padding-right: 0.2em;padding-left: 0.2em;position: relative;}#sk-container-id-7 div.sk-item {position: relative;z-index: 1;}#sk-container-id-7 div.sk-parallel {display: flex;align-items: stretch;justify-content: center;background-color: white;position: relative;}#sk-container-id-7 div.sk-item::before, #sk-container-id-7 div.sk-parallel-item::before {content: \"\";position: absolute;border-left: 1px solid gray;box-sizing: border-box;top: 0;bottom: 0;left: 50%;z-index: -1;}#sk-container-id-7 div.sk-parallel-item {display: flex;flex-direction: column;z-index: 1;position: relative;background-color: white;}#sk-container-id-7 div.sk-parallel-item:first-child::after {align-self: flex-end;width: 50%;}#sk-container-id-7 div.sk-parallel-item:last-child::after {align-self: flex-start;width: 50%;}#sk-container-id-7 div.sk-parallel-item:only-child::after {width: 0;}#sk-container-id-7 div.sk-dashed-wrapped {border: 1px dashed gray;margin: 0 0.4em 0.5em 0.4em;box-sizing: border-box;padding-bottom: 0.4em;background-color: white;}#sk-container-id-7 div.sk-label label {font-family: monospace;font-weight: bold;display: inline-block;line-height: 1.2em;}#sk-container-id-7 div.sk-label-container {text-align: center;}#sk-container-id-7 div.sk-container {/* jupyter's `normalize.less` sets `[hidden] { display: none; }` but bootstrap.min.css set `[hidden] { display: none !important; }` so we also need the `!important` here to be able to override the default hidden behavior on the sphinx rendered scikit-learn.org. See: https://github.com/scikit-learn/scikit-learn/issues/21755 */display: inline-block !important;position: relative;}#sk-container-id-7 div.sk-text-repr-fallback {display: none;}</style><div id=\"sk-container-id-7\" class=\"sk-top-container\"><div class=\"sk-text-repr-fallback\"><pre>Pipeline(steps=[(&#x27;log&#x27;,\n",
       "                 FunctionTransformer(func=&lt;function log_transform at 0x7f8bc35b1c60&gt;))])</pre><b>In a Jupyter environment, please rerun this cell to show the HTML representation or trust the notebook. <br />On GitHub, the HTML representation is unable to render, please try loading this page with nbviewer.org.</b></div><div class=\"sk-container\" hidden><div class=\"sk-item sk-dashed-wrapped\"><div class=\"sk-label-container\"><div class=\"sk-label sk-toggleable\"><input class=\"sk-toggleable__control sk-hidden--visually\" id=\"sk-estimator-id-16\" type=\"checkbox\" ><label for=\"sk-estimator-id-16\" class=\"sk-toggleable__label sk-toggleable__label-arrow\">Pipeline</label><div class=\"sk-toggleable__content\"><pre>Pipeline(steps=[(&#x27;log&#x27;,\n",
       "                 FunctionTransformer(func=&lt;function log_transform at 0x7f8bc35b1c60&gt;))])</pre></div></div></div><div class=\"sk-serial\"><div class=\"sk-item\"><div class=\"sk-estimator sk-toggleable\"><input class=\"sk-toggleable__control sk-hidden--visually\" id=\"sk-estimator-id-17\" type=\"checkbox\" ><label for=\"sk-estimator-id-17\" class=\"sk-toggleable__label sk-toggleable__label-arrow\">FunctionTransformer</label><div class=\"sk-toggleable__content\"><pre>FunctionTransformer(func=&lt;function log_transform at 0x7f8bc35b1c60&gt;)</pre></div></div></div></div></div></div></div>"
      ],
      "text/plain": [
       "Pipeline(steps=[('log',\n",
       "                 FunctionTransformer(func=<function log_transform at 0x7f8bc35b1c60>))])"
      ]
     },
     "execution_count": 114,
     "metadata": {},
     "output_type": "execute_result"
    }
   ],
   "source": [
    "def log_transform(x):\n",
    "    return np.log(x + 1)\n",
    "\n",
    "\n",
    "scaler = StandardScaler()\n",
    "log = FunctionTransformer(log_transform)\n",
    "pipe = Pipeline(steps=[('log', log) ,\n",
    "                       #('scaler', scaler)\n",
    "                      ])\n",
    "pipe.fit(data)"
   ]
  },
  {
   "cell_type": "code",
   "execution_count": 115,
   "id": "a94c0385-1674-427f-8b1f-986e9ae0ba58",
   "metadata": {
    "tags": []
   },
   "outputs": [],
   "source": [
    "data_scaled =pipe.transform(data)"
   ]
  },
  {
   "cell_type": "code",
   "execution_count": 116,
   "id": "b73bb998-0399-4af0-bc42-00c204f73474",
   "metadata": {
    "tags": []
   },
   "outputs": [
    {
     "data": {
      "text/plain": [
       "<matplotlib.patches.StepPatch at 0x7f8bc380a650>"
      ]
     },
     "execution_count": 116,
     "metadata": {},
     "output_type": "execute_result"
    },
    {
     "data": {
      "image/png": "[encoded data removed]",
      "text/plain": [
       "<Figure size 640x480 with 1 Axes>"
      ]
     },
     "metadata": {},
     "output_type": "display_data"
    }
   ],
   "source": [
    "counts, bins = np.histogram(data_scaled.flatten(),bins=100)\n",
    "plt.stairs(counts, bins)"
   ]
  },
  {
   "cell_type": "code",
   "execution_count": 117,
   "id": "5cc06a0f-02e1-40a2-85ce-32f79f61d235",
   "metadata": {
    "tags": []
   },
   "outputs": [
    {
     "ename": "KeyError",
     "evalue": "'scaler'",
     "output_type": "error",
     "traceback": [
      "\u001b[0;31m---------------------------------------------------------------------------\u001b[0m",
      "\u001b[0;31mTypeError\u001b[0m                                 Traceback (most recent call last)",
      "File \u001b[0;32m/opt/conda/lib/python3.11/site-packages/sklearn/pipeline.py:292\u001b[0m, in \u001b[0;36mPipeline.__getitem__\u001b[0;34m(self, ind)\u001b[0m\n\u001b[1;32m    291\u001b[0m \u001b[38;5;28;01mtry\u001b[39;00m:\n\u001b[0;32m--> 292\u001b[0m     name, est \u001b[38;5;241m=\u001b[39m \u001b[38;5;28mself\u001b[39m\u001b[38;5;241m.\u001b[39msteps[ind]\n\u001b[1;32m    293\u001b[0m \u001b[38;5;28;01mexcept\u001b[39;00m \u001b[38;5;167;01mTypeError\u001b[39;00m:\n\u001b[1;32m    294\u001b[0m     \u001b[38;5;66;03m# Not an int, try get step by name\u001b[39;00m\n",
      "\u001b[0;31mTypeError\u001b[0m: list indices must be integers or slices, not str",
      "\nDuring handling of the above exception, another exception occurred:\n",
      "\u001b[0;31mKeyError\u001b[0m                                  Traceback (most recent call last)",
      "Cell \u001b[0;32mIn[117], line 1\u001b[0m\n\u001b[0;32m----> 1\u001b[0m scaler \u001b[38;5;241m=\u001b[39m{\u001b[38;5;124m\"\u001b[39m\u001b[38;5;124mmean_values\u001b[39m\u001b[38;5;124m\"\u001b[39m :\u001b[38;5;28mlist\u001b[39m(pipe[\u001b[38;5;124m'\u001b[39m\u001b[38;5;124mscaler\u001b[39m\u001b[38;5;124m'\u001b[39m]\u001b[38;5;241m.\u001b[39mmean_), \u001b[38;5;124m\"\u001b[39m\u001b[38;5;124mvar_values\u001b[39m\u001b[38;5;124m\"\u001b[39m :\u001b[38;5;28mlist\u001b[39m(pipe[\u001b[38;5;124m'\u001b[39m\u001b[38;5;124mscaler\u001b[39m\u001b[38;5;124m'\u001b[39m]\u001b[38;5;241m.\u001b[39mvar_)}\n",
      "File \u001b[0;32m/opt/conda/lib/python3.11/site-packages/sklearn/pipeline.py:295\u001b[0m, in \u001b[0;36mPipeline.__getitem__\u001b[0;34m(self, ind)\u001b[0m\n\u001b[1;32m    292\u001b[0m     name, est \u001b[38;5;241m=\u001b[39m \u001b[38;5;28mself\u001b[39m\u001b[38;5;241m.\u001b[39msteps[ind]\n\u001b[1;32m    293\u001b[0m \u001b[38;5;28;01mexcept\u001b[39;00m \u001b[38;5;167;01mTypeError\u001b[39;00m:\n\u001b[1;32m    294\u001b[0m     \u001b[38;5;66;03m# Not an int, try get step by name\u001b[39;00m\n\u001b[0;32m--> 295\u001b[0m     \u001b[38;5;28;01mreturn\u001b[39;00m \u001b[38;5;28mself\u001b[39m\u001b[38;5;241m.\u001b[39mnamed_steps[ind]\n\u001b[1;32m    296\u001b[0m \u001b[38;5;28;01mreturn\u001b[39;00m est\n",
      "File \u001b[0;32m/opt/conda/lib/python3.11/site-packages/sklearn/utils/_bunch.py:39\u001b[0m, in \u001b[0;36mBunch.__getitem__\u001b[0;34m(self, key)\u001b[0m\n\u001b[1;32m     34\u001b[0m \u001b[38;5;28;01mif\u001b[39;00m key \u001b[38;5;129;01min\u001b[39;00m \u001b[38;5;28mself\u001b[39m\u001b[38;5;241m.\u001b[39m\u001b[38;5;18m__dict__\u001b[39m\u001b[38;5;241m.\u001b[39mget(\u001b[38;5;124m\"\u001b[39m\u001b[38;5;124m_deprecated_key_to_warnings\u001b[39m\u001b[38;5;124m\"\u001b[39m, {}):\n\u001b[1;32m     35\u001b[0m     warnings\u001b[38;5;241m.\u001b[39mwarn(\n\u001b[1;32m     36\u001b[0m         \u001b[38;5;28mself\u001b[39m\u001b[38;5;241m.\u001b[39m_deprecated_key_to_warnings[key],\n\u001b[1;32m     37\u001b[0m         \u001b[38;5;167;01mFutureWarning\u001b[39;00m,\n\u001b[1;32m     38\u001b[0m     )\n\u001b[0;32m---> 39\u001b[0m \u001b[38;5;28;01mreturn\u001b[39;00m \u001b[38;5;28msuper\u001b[39m()\u001b[38;5;241m.\u001b[39m\u001b[38;5;21m__getitem__\u001b[39m(key)\n",
      "\u001b[0;31mKeyError\u001b[0m: 'scaler'"
     ]
    }
   ],
   "source": [
    "scaler ={\"mean_values\" :list(pipe['scaler'].mean_), \"var_values\" :list(pipe['scaler'].var_)}"
   ]
  },
  {
   "cell_type": "code",
   "execution_count": null,
   "id": "2dc02c78-ef64-471b-b295-c5f881cf11e9",
   "metadata": {
    "tags": []
   },
   "outputs": [],
   "source": [
    "import json\n",
    "with open('scaler_data.json', 'w') as f:\n",
    "    json.dump(scaler, f)"
   ]
  },
  {
   "cell_type": "code",
   "execution_count": 118,
   "id": "72cc78f0-e55c-41bc-be2b-7eb8280c8420",
   "metadata": {
    "tags": []
   },
   "outputs": [
    {
     "data": {
      "text/plain": [
       "array([[3.0496237 , 0.10921305, 2.873022  , ..., 1.4543968 , 1.9622333 ,\n",
       "        1.9351381 ],\n",
       "       [3.7938294 , 0.30084515, 3.4583147 , ..., 1.0969776 , 1.5411377 ,\n",
       "        2.1778946 ],\n",
       "       [2.6458628 , 0.12071203, 2.8623095 , ..., 1.501719  , 2.1107342 ,\n",
       "        1.9976348 ],\n",
       "       ...,\n",
       "       [3.1515558 , 0.        , 3.37657   , ..., 1.2232753 , 1.00122   ,\n",
       "        1.9675179 ],\n",
       "       [2.3620515 , 0.01734868, 2.8170302 , ..., 1.5143797 , 2.1039755 ,\n",
       "        2.2659314 ],\n",
       "       [2.698653  , 0.04506898, 2.811124  , ..., 1.0790555 , 2.0535595 ,\n",
       "        1.9292871 ]], dtype=float32)"
      ]
     },
     "execution_count": 118,
     "metadata": {},
     "output_type": "execute_result"
    }
   ],
   "source": [
    "data_scaled[:,:100]"
   ]
  },
  {
   "cell_type": "code",
   "execution_count": 119,
   "id": "9e0783fc-64c5-459d-8057-4dc921bb59f1",
   "metadata": {
    "tags": []
   },
   "outputs": [],
   "source": [
    "import seaborn as sns"
   ]
  },
  {
   "cell_type": "code",
   "execution_count": null,
   "id": "8c027674-efe4-4976-bab6-29a72e4e4297",
   "metadata": {
    "tags": []
   },
   "outputs": [],
   "source": [
    "data_scaled_cor =pd.DataFrame(data_scaled).corr()"
   ]
  },
  {
   "cell_type": "code",
   "execution_count": null,
   "id": "ed3dca9f-68d2-45af-9b1d-013c6a2dfa86",
   "metadata": {
    "tags": []
   },
   "outputs": [],
   "source": [
    "data_scaled_cor.mean().mean()"
   ]
  },
  {
   "cell_type": "code",
   "execution_count": null,
   "id": "acf66437-fe99-4b4b-a949-44fc2b4d299b",
   "metadata": {
    "tags": []
   },
   "outputs": [],
   "source": [
    "data_scaled_cor.values.std()"
   ]
  },
  {
   "cell_type": "code",
   "execution_count": null,
   "id": "bd618fc6-1da9-4ae4-a885-557a12f1308e",
   "metadata": {
    "tags": []
   },
   "outputs": [],
   "source": [
    "counts, bins = np.histogram(data_scaled_cor.values.flatten(),bins=100)\n",
    "plt.stairs(counts, bins)"
   ]
  },
  {
   "cell_type": "code",
   "execution_count": null,
   "id": "008ea4ff-0122-4a91-a28d-e7511a13d060",
   "metadata": {
    "tags": []
   },
   "outputs": [],
   "source": [
    "sns.clustermap(data_scaled_cor.iloc[:100, :100])"
   ]
  },
  {
   "cell_type": "code",
   "execution_count": null,
   "id": "b387f954-3acf-4d0f-980a-b7c3ec73ba2d",
   "metadata": {
    "tags": []
   },
   "outputs": [],
   "source": [
    "sns.heatmap(data_scaled_cor.iloc[100:200, 100:200],\n",
    "            xticklabels=data_scaled_cor.columns[100:200].values,\n",
    "            yticklabels=data_scaled_cor.columns[100:200].values)"
   ]
  },
  {
   "cell_type": "code",
   "execution_count": null,
   "id": "cf06d6a2-1045-4fba-90bf-feece2adc301",
   "metadata": {},
   "outputs": [],
   "source": []
  }
 ],
 "metadata": {
  "kernelspec": {
   "display_name": "Python 3 (ipykernel)",
   "language": "python",
   "name": "python3"
  },
  "language_info": {
   "codemirror_mode": {
    "name": "ipython",
    "version": 3
   },
   "file_extension": ".py",
   "mimetype": "text/x-python",
   "name": "python",
   "nbconvert_exporter": "python",
   "pygments_lexer": "ipython3",
   "version": "3.11.5"
  }
 },
 "nbformat": 4,
 "nbformat_minor": 5
}
