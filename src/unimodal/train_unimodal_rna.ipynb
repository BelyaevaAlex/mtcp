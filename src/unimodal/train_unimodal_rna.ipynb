{
 "cells": [
  {
   "cell_type": "code",
   "execution_count": 1,
   "id": "06c11199-8f69-4ce2-b2cd-bff8cf4fde57",
   "metadata": {
    "tags": []
   },
   "outputs": [],
   "source": [
    "import torch\n",
    "from torch.utils.data import Dataset, DataLoader\n",
    "import pandas as pd\n",
    "from pycox.models import LogisticHazard\n",
    "from sklearn.model_selection import train_test_split\n",
    "from pycox.evaluation import EvalSurv\n",
    "import numpy as np\n",
    "import wandb\n",
    "from pycox.models.loss import NLLLogistiHazardLoss\n",
    "from rna.encoder import RNAEncoder\n",
    "from typing import List, Union, Dict, Any, Tuple\n",
    "from torchvision import transforms\n",
    "import json\n",
    "from sklearn.preprocessing import FunctionTransformer"
   ]
  },
  {
   "cell_type": "code",
   "execution_count": 2,
   "id": "f67ce320-6903-40c1-a08a-2f584e535baa",
   "metadata": {
    "tags": []
   },
   "outputs": [],
   "source": [
    "#!pip install einops"
   ]
  },
  {
   "cell_type": "code",
   "execution_count": 3,
   "id": "2ccb9a9c-803a-4d8a-8117-2474ec1e236f",
   "metadata": {
    "tags": []
   },
   "outputs": [],
   "source": [
    "#!pip install wandb -qU"
   ]
  },
  {
   "cell_type": "code",
   "execution_count": 4,
   "id": "e027aca0-7156-475c-929a-aa90c2d065f0",
   "metadata": {
    "tags": []
   },
   "outputs": [
    {
     "name": "stderr",
     "output_type": "stream",
     "text": [
      "\u001b[34m\u001b[1mwandb\u001b[0m: Using wandb-core as the SDK backend.  Please refer to https://wandb.me/wandb-core for more information.\n",
      "\u001b[34m\u001b[1mwandb\u001b[0m: Currently logged in as: \u001b[33malmachan2358\u001b[0m (\u001b[33mgnn-neuro\u001b[0m). Use \u001b[1m`wandb login --relogin`\u001b[0m to force relogin\n"
     ]
    },
    {
     "data": {
      "text/plain": [
       "True"
      ]
     },
     "execution_count": 4,
     "metadata": {},
     "output_type": "execute_result"
    }
   ],
   "source": [
    "wandb.login()"
   ]
  },
  {
   "cell_type": "code",
   "execution_count": 5,
   "id": "04ab6f0b-3e87-4c46-b77b-4a320032a381",
   "metadata": {
    "tags": []
   },
   "outputs": [
    {
     "data": {
      "text/html": [
       "Tracking run with wandb version 0.19.0"
      ],
      "text/plain": [
       "<IPython.core.display.HTML object>"
      ]
     },
     "metadata": {},
     "output_type": "display_data"
    },
    {
     "data": {
      "text/html": [
       "Run data is saved locally in <code>/workspace/mtcp/src/unimodal/wandb/run-20241211_133050-sqz7jsq8</code>"
      ],
      "text/plain": [
       "<IPython.core.display.HTML object>"
      ]
     },
     "metadata": {},
     "output_type": "display_data"
    },
    {
     "data": {
      "text/html": [
       "Syncing run <strong><a href='https://wandb.ai/gnn-neuro/cancer_mtcp/runs/sqz7jsq8' target=\"_blank\">legendary-elevator-57</a></strong> to <a href='https://wandb.ai/gnn-neuro/cancer_mtcp' target=\"_blank\">Weights & Biases</a> (<a href='https://wandb.me/developer-guide' target=\"_blank\">docs</a>)<br/>"
      ],
      "text/plain": [
       "<IPython.core.display.HTML object>"
      ]
     },
     "metadata": {},
     "output_type": "display_data"
    },
    {
     "data": {
      "text/html": [
       " View project at <a href='https://wandb.ai/gnn-neuro/cancer_mtcp' target=\"_blank\">https://wandb.ai/gnn-neuro/cancer_mtcp</a>"
      ],
      "text/plain": [
       "<IPython.core.display.HTML object>"
      ]
     },
     "metadata": {},
     "output_type": "display_data"
    },
    {
     "data": {
      "text/html": [
       " View run at <a href='https://wandb.ai/gnn-neuro/cancer_mtcp/runs/sqz7jsq8' target=\"_blank\">https://wandb.ai/gnn-neuro/cancer_mtcp/runs/sqz7jsq8</a>"
      ],
      "text/plain": [
       "<IPython.core.display.HTML object>"
      ]
     },
     "metadata": {},
     "output_type": "display_data"
    }
   ],
   "source": [
    "run = wandb.init(project=\"cancer_mtcp\",\n",
    "                 config={\"learning_rate\": 1e-3 ,\n",
    "                         \"architecture\": \"base_CNN\",\n",
    "                         \"num_epochs\": 100})"
   ]
  },
  {
   "cell_type": "code",
   "execution_count": 6,
   "id": "fd58ea47-7360-4965-9c60-6aa95363b4e8",
   "metadata": {
    "tags": []
   },
   "outputs": [],
   "source": [
    "#!pip install pycox"
   ]
  },
  {
   "cell_type": "code",
   "execution_count": 7,
   "id": "ae52182e-e311-49d5-a426-c33bdd9c8de9",
   "metadata": {
    "tags": []
   },
   "outputs": [],
   "source": [
    "dataset_path ='../data/dataset.csv'"
   ]
  },
  {
   "cell_type": "code",
   "execution_count": 8,
   "id": "401468f5-2a11-4576-a55b-8ef2a87b8a62",
   "metadata": {
    "tags": []
   },
   "outputs": [],
   "source": [
    "root_path ='../../../'"
   ]
  },
  {
   "cell_type": "code",
   "execution_count": 9,
   "id": "4fe96c2c-67e6-4c72-b346-5b70552917c7",
   "metadata": {
    "tags": []
   },
   "outputs": [],
   "source": [
    "dataset=pd.read_csv(dataset_path)"
   ]
  },
  {
   "cell_type": "code",
   "execution_count": 165,
   "id": "42c0a6df-502c-43c3-b033-4a67e3a03893",
   "metadata": {
    "tags": []
   },
   "outputs": [
    {
     "data": {
      "text/html": [
       "<div>\n",
       "<style scoped>\n",
       "    .dataframe tbody tr th:only-of-type {\n",
       "        vertical-align: middle;\n",
       "    }\n",
       "\n",
       "    .dataframe tbody tr th {\n",
       "        vertical-align: top;\n",
       "    }\n",
       "\n",
       "    .dataframe thead th {\n",
       "        text-align: right;\n",
       "    }\n",
       "</style>\n",
       "<table border=\"1\" class=\"dataframe\">\n",
       "  <thead>\n",
       "    <tr style=\"text-align: right;\">\n",
       "      <th></th>\n",
       "      <th>submitter_id</th>\n",
       "      <th>tumor_stage</th>\n",
       "      <th>age_at_diagnosis</th>\n",
       "      <th>prior_treatment</th>\n",
       "      <th>prior_malignancy</th>\n",
       "      <th>synchronous_malignancy</th>\n",
       "      <th>days_to_last_follow_up</th>\n",
       "      <th>gender</th>\n",
       "      <th>race</th>\n",
       "      <th>vital_status</th>\n",
       "      <th>...</th>\n",
       "      <th>IDH</th>\n",
       "      <th>MGMT</th>\n",
       "      <th>X1p19q</th>\n",
       "      <th>19.20.gain</th>\n",
       "      <th>7g10l</th>\n",
       "      <th>TERT</th>\n",
       "      <th>ATRX</th>\n",
       "      <th>DNAm</th>\n",
       "      <th>RNA</th>\n",
       "      <th>splits</th>\n",
       "    </tr>\n",
       "  </thead>\n",
       "  <tbody>\n",
       "    <tr>\n",
       "      <th>0</th>\n",
       "      <td>TCGA-CS-4938</td>\n",
       "      <td>NaN</td>\n",
       "      <td>11509.0</td>\n",
       "      <td>No</td>\n",
       "      <td>no</td>\n",
       "      <td>No</td>\n",
       "      <td>3574.0</td>\n",
       "      <td>female</td>\n",
       "      <td>white</td>\n",
       "      <td>Alive</td>\n",
       "      <td>...</td>\n",
       "      <td>Mutant</td>\n",
       "      <td>Unmethylated</td>\n",
       "      <td>non-codel</td>\n",
       "      <td>No chr 19/20 gain</td>\n",
       "      <td>No combined CNA</td>\n",
       "      <td>Not expressed</td>\n",
       "      <td>Mutant</td>\n",
       "      <td>NaN</td>\n",
       "      <td>/DRIM/data/TCGA/GBMLGG/RNA/a282f56a-0884-40d2-...</td>\n",
       "      <td>0.0</td>\n",
       "    </tr>\n",
       "    <tr>\n",
       "      <th>1</th>\n",
       "      <td>TCGA-CS-4941</td>\n",
       "      <td>NaN</td>\n",
       "      <td>24578.0</td>\n",
       "      <td>No</td>\n",
       "      <td>no</td>\n",
       "      <td>No</td>\n",
       "      <td>NaN</td>\n",
       "      <td>male</td>\n",
       "      <td>white</td>\n",
       "      <td>Dead</td>\n",
       "      <td>...</td>\n",
       "      <td>WT</td>\n",
       "      <td>Methylated</td>\n",
       "      <td>non-codel</td>\n",
       "      <td>No chr 19/20 gain</td>\n",
       "      <td>Gain chr 7 &amp; loss chr 10</td>\n",
       "      <td>Expressed</td>\n",
       "      <td>WT</td>\n",
       "      <td>NaN</td>\n",
       "      <td>/DRIM/data/TCGA/GBMLGG/RNA/20443648-a8c8-41ef-...</td>\n",
       "      <td>1.0</td>\n",
       "    </tr>\n",
       "    <tr>\n",
       "      <th>2</th>\n",
       "      <td>TCGA-CS-4942</td>\n",
       "      <td>NaN</td>\n",
       "      <td>16297.0</td>\n",
       "      <td>No</td>\n",
       "      <td>no</td>\n",
       "      <td>No</td>\n",
       "      <td>NaN</td>\n",
       "      <td>female</td>\n",
       "      <td>black or african american</td>\n",
       "      <td>Dead</td>\n",
       "      <td>...</td>\n",
       "      <td>Mutant</td>\n",
       "      <td>Unmethylated</td>\n",
       "      <td>non-codel</td>\n",
       "      <td>No chr 19/20 gain</td>\n",
       "      <td>No combined CNA</td>\n",
       "      <td>Not expressed</td>\n",
       "      <td>Mutant</td>\n",
       "      <td>NaN</td>\n",
       "      <td>/DRIM/data/TCGA/GBMLGG/RNA/81c11217-7d87-49a6-...</td>\n",
       "      <td>4.0</td>\n",
       "    </tr>\n",
       "    <tr>\n",
       "      <th>3</th>\n",
       "      <td>TCGA-CS-4943</td>\n",
       "      <td>NaN</td>\n",
       "      <td>13565.0</td>\n",
       "      <td>No</td>\n",
       "      <td>no</td>\n",
       "      <td>No</td>\n",
       "      <td>NaN</td>\n",
       "      <td>male</td>\n",
       "      <td>white</td>\n",
       "      <td>Dead</td>\n",
       "      <td>...</td>\n",
       "      <td>Mutant</td>\n",
       "      <td>Methylated</td>\n",
       "      <td>non-codel</td>\n",
       "      <td>No chr 19/20 gain</td>\n",
       "      <td>No combined CNA</td>\n",
       "      <td>Not expressed</td>\n",
       "      <td>Mutant</td>\n",
       "      <td>NaN</td>\n",
       "      <td>/DRIM/data/TCGA/GBMLGG/RNA/bb459bb7-ff32-431d-...</td>\n",
       "      <td>0.0</td>\n",
       "    </tr>\n",
       "    <tr>\n",
       "      <th>4</th>\n",
       "      <td>TCGA-CS-4944</td>\n",
       "      <td>NaN</td>\n",
       "      <td>18494.0</td>\n",
       "      <td>No</td>\n",
       "      <td>no</td>\n",
       "      <td>No</td>\n",
       "      <td>1828.0</td>\n",
       "      <td>male</td>\n",
       "      <td>white</td>\n",
       "      <td>Alive</td>\n",
       "      <td>...</td>\n",
       "      <td>Mutant</td>\n",
       "      <td>Methylated</td>\n",
       "      <td>non-codel</td>\n",
       "      <td>No chr 19/20 gain</td>\n",
       "      <td>No combined CNA</td>\n",
       "      <td>Expressed</td>\n",
       "      <td>WT</td>\n",
       "      <td>NaN</td>\n",
       "      <td>/DRIM/data/TCGA/GBMLGG/RNA/ddda9728-45af-4d0b-...</td>\n",
       "      <td>1.0</td>\n",
       "    </tr>\n",
       "    <tr>\n",
       "      <th>...</th>\n",
       "      <td>...</td>\n",
       "      <td>...</td>\n",
       "      <td>...</td>\n",
       "      <td>...</td>\n",
       "      <td>...</td>\n",
       "      <td>...</td>\n",
       "      <td>...</td>\n",
       "      <td>...</td>\n",
       "      <td>...</td>\n",
       "      <td>...</td>\n",
       "      <td>...</td>\n",
       "      <td>...</td>\n",
       "      <td>...</td>\n",
       "      <td>...</td>\n",
       "      <td>...</td>\n",
       "      <td>...</td>\n",
       "      <td>...</td>\n",
       "      <td>...</td>\n",
       "      <td>...</td>\n",
       "      <td>...</td>\n",
       "      <td>...</td>\n",
       "    </tr>\n",
       "    <tr>\n",
       "      <th>1085</th>\n",
       "      <td>TCGA-41-2572</td>\n",
       "      <td>NaN</td>\n",
       "      <td>24505.0</td>\n",
       "      <td>No</td>\n",
       "      <td>NaN</td>\n",
       "      <td>NaN</td>\n",
       "      <td>NaN</td>\n",
       "      <td>male</td>\n",
       "      <td>white</td>\n",
       "      <td>Dead</td>\n",
       "      <td>...</td>\n",
       "      <td>WT</td>\n",
       "      <td>Unmethylated</td>\n",
       "      <td>non-codel</td>\n",
       "      <td>Gain chr 19/20</td>\n",
       "      <td>Gain chr 7 &amp; loss chr 10</td>\n",
       "      <td>Expressed</td>\n",
       "      <td>WT</td>\n",
       "      <td>NaN</td>\n",
       "      <td>/DRIM/data/TCGA/GBMLGG/RNA/f9fd3da8-5a2d-4f4d-...</td>\n",
       "      <td>NaN</td>\n",
       "    </tr>\n",
       "    <tr>\n",
       "      <th>1089</th>\n",
       "      <td>TCGA-41-3915</td>\n",
       "      <td>NaN</td>\n",
       "      <td>17880.0</td>\n",
       "      <td>No</td>\n",
       "      <td>NaN</td>\n",
       "      <td>NaN</td>\n",
       "      <td>NaN</td>\n",
       "      <td>male</td>\n",
       "      <td>white</td>\n",
       "      <td>Dead</td>\n",
       "      <td>...</td>\n",
       "      <td>WT</td>\n",
       "      <td>Methylated</td>\n",
       "      <td>non-codel</td>\n",
       "      <td>No chr 19/20 gain</td>\n",
       "      <td>Gain chr 7 &amp; loss chr 10</td>\n",
       "      <td>Expressed</td>\n",
       "      <td>WT</td>\n",
       "      <td>NaN</td>\n",
       "      <td>/DRIM/data/TCGA/GBMLGG/RNA/617be06c-8001-41ab-...</td>\n",
       "      <td>NaN</td>\n",
       "    </tr>\n",
       "    <tr>\n",
       "      <th>1090</th>\n",
       "      <td>TCGA-41-5651</td>\n",
       "      <td>NaN</td>\n",
       "      <td>21698.0</td>\n",
       "      <td>No</td>\n",
       "      <td>NaN</td>\n",
       "      <td>NaN</td>\n",
       "      <td>NaN</td>\n",
       "      <td>female</td>\n",
       "      <td>black or african american</td>\n",
       "      <td>Dead</td>\n",
       "      <td>...</td>\n",
       "      <td>WT</td>\n",
       "      <td>Methylated</td>\n",
       "      <td>non-codel</td>\n",
       "      <td>Gain chr 19/20</td>\n",
       "      <td>Gain chr 7 &amp; loss chr 10</td>\n",
       "      <td>Expressed</td>\n",
       "      <td>WT</td>\n",
       "      <td>NaN</td>\n",
       "      <td>/DRIM/data/TCGA/GBMLGG/RNA/570657de-da5c-4b5a-...</td>\n",
       "      <td>NaN</td>\n",
       "    </tr>\n",
       "    <tr>\n",
       "      <th>1092</th>\n",
       "      <td>TCGA-76-4926</td>\n",
       "      <td>NaN</td>\n",
       "      <td>25085.0</td>\n",
       "      <td>No</td>\n",
       "      <td>NaN</td>\n",
       "      <td>NaN</td>\n",
       "      <td>NaN</td>\n",
       "      <td>male</td>\n",
       "      <td>white</td>\n",
       "      <td>Dead</td>\n",
       "      <td>...</td>\n",
       "      <td>WT</td>\n",
       "      <td>Unmethylated</td>\n",
       "      <td>non-codel</td>\n",
       "      <td>No chr 19/20 gain</td>\n",
       "      <td>Gain chr 7 &amp; loss chr 10</td>\n",
       "      <td>Expressed</td>\n",
       "      <td>WT</td>\n",
       "      <td>NaN</td>\n",
       "      <td>/DRIM/data/TCGA/GBMLGG/RNA/b4abde15-98d3-4e78-...</td>\n",
       "      <td>NaN</td>\n",
       "    </tr>\n",
       "    <tr>\n",
       "      <th>1093</th>\n",
       "      <td>TCGA-76-4929</td>\n",
       "      <td>NaN</td>\n",
       "      <td>27831.0</td>\n",
       "      <td>No</td>\n",
       "      <td>NaN</td>\n",
       "      <td>NaN</td>\n",
       "      <td>NaN</td>\n",
       "      <td>female</td>\n",
       "      <td>white</td>\n",
       "      <td>Dead</td>\n",
       "      <td>...</td>\n",
       "      <td>WT</td>\n",
       "      <td>Methylated</td>\n",
       "      <td>non-codel</td>\n",
       "      <td>No chr 19/20 gain</td>\n",
       "      <td>Gain chr 7 &amp; loss chr 10</td>\n",
       "      <td>Expressed</td>\n",
       "      <td>WT</td>\n",
       "      <td>NaN</td>\n",
       "      <td>/DRIM/data/TCGA/GBMLGG/RNA/b4881576-f6a5-4ed0-...</td>\n",
       "      <td>NaN</td>\n",
       "    </tr>\n",
       "  </tbody>\n",
       "</table>\n",
       "<p>664 rows × 27 columns</p>\n",
       "</div>"
      ],
      "text/plain": [
       "      submitter_id  tumor_stage  age_at_diagnosis prior_treatment  \\\n",
       "0     TCGA-CS-4938          NaN           11509.0              No   \n",
       "1     TCGA-CS-4941          NaN           24578.0              No   \n",
       "2     TCGA-CS-4942          NaN           16297.0              No   \n",
       "3     TCGA-CS-4943          NaN           13565.0              No   \n",
       "4     TCGA-CS-4944          NaN           18494.0              No   \n",
       "...            ...          ...               ...             ...   \n",
       "1085  TCGA-41-2572          NaN           24505.0              No   \n",
       "1089  TCGA-41-3915          NaN           17880.0              No   \n",
       "1090  TCGA-41-5651          NaN           21698.0              No   \n",
       "1092  TCGA-76-4926          NaN           25085.0              No   \n",
       "1093  TCGA-76-4929          NaN           27831.0              No   \n",
       "\n",
       "     prior_malignancy synchronous_malignancy  days_to_last_follow_up  gender  \\\n",
       "0                  no                     No                  3574.0  female   \n",
       "1                  no                     No                     NaN    male   \n",
       "2                  no                     No                     NaN  female   \n",
       "3                  no                     No                     NaN    male   \n",
       "4                  no                     No                  1828.0    male   \n",
       "...               ...                    ...                     ...     ...   \n",
       "1085              NaN                    NaN                     NaN    male   \n",
       "1089              NaN                    NaN                     NaN    male   \n",
       "1090              NaN                    NaN                     NaN  female   \n",
       "1092              NaN                    NaN                     NaN    male   \n",
       "1093              NaN                    NaN                     NaN  female   \n",
       "\n",
       "                           race vital_status  ...     IDH          MGMT  \\\n",
       "0                         white        Alive  ...  Mutant  Unmethylated   \n",
       "1                         white         Dead  ...      WT    Methylated   \n",
       "2     black or african american         Dead  ...  Mutant  Unmethylated   \n",
       "3                         white         Dead  ...  Mutant    Methylated   \n",
       "4                         white        Alive  ...  Mutant    Methylated   \n",
       "...                         ...          ...  ...     ...           ...   \n",
       "1085                      white         Dead  ...      WT  Unmethylated   \n",
       "1089                      white         Dead  ...      WT    Methylated   \n",
       "1090  black or african american         Dead  ...      WT    Methylated   \n",
       "1092                      white         Dead  ...      WT  Unmethylated   \n",
       "1093                      white         Dead  ...      WT    Methylated   \n",
       "\n",
       "         X1p19q         19.20.gain                     7g10l           TERT  \\\n",
       "0     non-codel  No chr 19/20 gain           No combined CNA  Not expressed   \n",
       "1     non-codel  No chr 19/20 gain  Gain chr 7 & loss chr 10      Expressed   \n",
       "2     non-codel  No chr 19/20 gain           No combined CNA  Not expressed   \n",
       "3     non-codel  No chr 19/20 gain           No combined CNA  Not expressed   \n",
       "4     non-codel  No chr 19/20 gain           No combined CNA      Expressed   \n",
       "...         ...                ...                       ...            ...   \n",
       "1085  non-codel     Gain chr 19/20  Gain chr 7 & loss chr 10      Expressed   \n",
       "1089  non-codel  No chr 19/20 gain  Gain chr 7 & loss chr 10      Expressed   \n",
       "1090  non-codel     Gain chr 19/20  Gain chr 7 & loss chr 10      Expressed   \n",
       "1092  non-codel  No chr 19/20 gain  Gain chr 7 & loss chr 10      Expressed   \n",
       "1093  non-codel  No chr 19/20 gain  Gain chr 7 & loss chr 10      Expressed   \n",
       "\n",
       "        ATRX DNAm                                                RNA splits  \n",
       "0     Mutant  NaN  /DRIM/data/TCGA/GBMLGG/RNA/a282f56a-0884-40d2-...    0.0  \n",
       "1         WT  NaN  /DRIM/data/TCGA/GBMLGG/RNA/20443648-a8c8-41ef-...    1.0  \n",
       "2     Mutant  NaN  /DRIM/data/TCGA/GBMLGG/RNA/81c11217-7d87-49a6-...    4.0  \n",
       "3     Mutant  NaN  /DRIM/data/TCGA/GBMLGG/RNA/bb459bb7-ff32-431d-...    0.0  \n",
       "4         WT  NaN  /DRIM/data/TCGA/GBMLGG/RNA/ddda9728-45af-4d0b-...    1.0  \n",
       "...      ...  ...                                                ...    ...  \n",
       "1085      WT  NaN  /DRIM/data/TCGA/GBMLGG/RNA/f9fd3da8-5a2d-4f4d-...    NaN  \n",
       "1089      WT  NaN  /DRIM/data/TCGA/GBMLGG/RNA/617be06c-8001-41ab-...    NaN  \n",
       "1090      WT  NaN  /DRIM/data/TCGA/GBMLGG/RNA/570657de-da5c-4b5a-...    NaN  \n",
       "1092      WT  NaN  /DRIM/data/TCGA/GBMLGG/RNA/b4abde15-98d3-4e78-...    NaN  \n",
       "1093      WT  NaN  /DRIM/data/TCGA/GBMLGG/RNA/b4881576-f6a5-4ed0-...    NaN  \n",
       "\n",
       "[664 rows x 27 columns]"
      ]
     },
     "execution_count": 165,
     "metadata": {},
     "output_type": "execute_result"
    }
   ],
   "source": [
    "dataset"
   ]
  },
  {
   "cell_type": "code",
   "execution_count": 166,
   "id": "7aff0fdd-60df-43ae-866c-6f54dbc66130",
   "metadata": {
    "tags": []
   },
   "outputs": [
    {
     "data": {
      "text/html": [
       "<div>\n",
       "<style scoped>\n",
       "    .dataframe tbody tr th:only-of-type {\n",
       "        vertical-align: middle;\n",
       "    }\n",
       "\n",
       "    .dataframe tbody tr th {\n",
       "        vertical-align: top;\n",
       "    }\n",
       "\n",
       "    .dataframe thead th {\n",
       "        text-align: right;\n",
       "    }\n",
       "</style>\n",
       "<table border=\"1\" class=\"dataframe\">\n",
       "  <thead>\n",
       "    <tr style=\"text-align: right;\">\n",
       "      <th></th>\n",
       "      <th>time</th>\n",
       "      <th>event</th>\n",
       "      <th>vital_status</th>\n",
       "    </tr>\n",
       "  </thead>\n",
       "  <tbody>\n",
       "    <tr>\n",
       "      <th>0</th>\n",
       "      <td>9.791781</td>\n",
       "      <td>0</td>\n",
       "      <td>Alive</td>\n",
       "    </tr>\n",
       "    <tr>\n",
       "      <th>1</th>\n",
       "      <td>0.641096</td>\n",
       "      <td>1</td>\n",
       "      <td>Dead</td>\n",
       "    </tr>\n",
       "    <tr>\n",
       "      <th>2</th>\n",
       "      <td>3.657534</td>\n",
       "      <td>1</td>\n",
       "      <td>Dead</td>\n",
       "    </tr>\n",
       "    <tr>\n",
       "      <th>3</th>\n",
       "      <td>3.030137</td>\n",
       "      <td>1</td>\n",
       "      <td>Dead</td>\n",
       "    </tr>\n",
       "    <tr>\n",
       "      <th>4</th>\n",
       "      <td>5.008219</td>\n",
       "      <td>0</td>\n",
       "      <td>Alive</td>\n",
       "    </tr>\n",
       "    <tr>\n",
       "      <th>...</th>\n",
       "      <td>...</td>\n",
       "      <td>...</td>\n",
       "      <td>...</td>\n",
       "    </tr>\n",
       "    <tr>\n",
       "      <th>1085</th>\n",
       "      <td>1.112329</td>\n",
       "      <td>1</td>\n",
       "      <td>Dead</td>\n",
       "    </tr>\n",
       "    <tr>\n",
       "      <th>1089</th>\n",
       "      <td>0.986301</td>\n",
       "      <td>1</td>\n",
       "      <td>Dead</td>\n",
       "    </tr>\n",
       "    <tr>\n",
       "      <th>1090</th>\n",
       "      <td>1.260274</td>\n",
       "      <td>1</td>\n",
       "      <td>Dead</td>\n",
       "    </tr>\n",
       "    <tr>\n",
       "      <th>1092</th>\n",
       "      <td>0.378082</td>\n",
       "      <td>1</td>\n",
       "      <td>Dead</td>\n",
       "    </tr>\n",
       "    <tr>\n",
       "      <th>1093</th>\n",
       "      <td>0.304110</td>\n",
       "      <td>1</td>\n",
       "      <td>Dead</td>\n",
       "    </tr>\n",
       "  </tbody>\n",
       "</table>\n",
       "<p>664 rows × 3 columns</p>\n",
       "</div>"
      ],
      "text/plain": [
       "          time  event vital_status\n",
       "0     9.791781      0        Alive\n",
       "1     0.641096      1         Dead\n",
       "2     3.657534      1         Dead\n",
       "3     3.030137      1         Dead\n",
       "4     5.008219      0        Alive\n",
       "...        ...    ...          ...\n",
       "1085  1.112329      1         Dead\n",
       "1089  0.986301      1         Dead\n",
       "1090  1.260274      1         Dead\n",
       "1092  0.378082      1         Dead\n",
       "1093  0.304110      1         Dead\n",
       "\n",
       "[664 rows x 3 columns]"
      ]
     },
     "execution_count": 166,
     "metadata": {},
     "output_type": "execute_result"
    }
   ],
   "source": [
    "dataset[['time', 'event', 'vital_status']]"
   ]
  },
  {
   "cell_type": "code",
   "execution_count": 11,
   "id": "3edf20cf-c84d-4631-895f-749a605504b1",
   "metadata": {
    "tags": []
   },
   "outputs": [],
   "source": [
    "# class RNADataset(Dataset):\n",
    "#     \"\"\"RNA dataset.\"\"\"\n",
    "\n",
    "#     def __init__(self, data, root_dir, transform):\n",
    "#         \"\"\"\n",
    "#         Arguments:\n",
    "#             csv_file (string): Path to the csv file with annotations.\n",
    "#             root_dir (string): Directory to RNA csv files\n",
    "#             transform (callable, optional): Optional transform to be applied\n",
    "#                 on a sample.\n",
    "#         \"\"\"\n",
    "#         self.data = data\n",
    "#         self.root_dir = root_dir\n",
    "#         self.transform = transform\n",
    "\n",
    "#     def __len__(self):\n",
    "#         return self.data.shape[0]\n",
    "\n",
    "#     def __getitem__(self, idx):\n",
    "       \n",
    "#         sample_path =self.data.iloc[idx]['RNA']\n",
    "        \n",
    "#         sample =pd.read_csv(self.root_dir+sample_path)[\"fpkm_uq_unstranded\"].values.reshape(1, -1)\n",
    "        \n",
    "#         sample = torch.from_numpy(sample)\n",
    "        \n",
    "#         if self.transform:\n",
    "#             sample = self.transform(sample)\n",
    "#         return sample"
   ]
  },
  {
   "cell_type": "code",
   "execution_count": 12,
   "id": "f429b717-7071-4213-ac47-97f6d7e7154e",
   "metadata": {
    "tags": []
   },
   "outputs": [],
   "source": [
    "# class RNASurvivalDataset(RNADataset):\n",
    "#     \"\"\"RNA dataset.\"\"\"\n",
    "\n",
    "#     def __init__(self, data,root_dir, times, events, transform=None):\n",
    "#         super().__init__(data, root_dir, transform)\n",
    "#         self.times =times\n",
    "#         self.events =events\n",
    "\n",
    "\n",
    "#     def __getitem__(self, idx):\n",
    "        \n",
    "#         sample =super().__getitem__(idx)\n",
    "#         return sample.float(), self.times[idx],self.events[idx]"
   ]
  },
  {
   "cell_type": "code",
   "execution_count": 13,
   "id": "be184c7d-b7fe-48a7-a330-138ab083c428",
   "metadata": {
    "tags": []
   },
   "outputs": [],
   "source": [
    "class BaseDataset(Dataset):\n",
    "    \n",
    "    def __init__(self, data, root_dir, transform = None , is_hazard_logits = False):\n",
    "        \"\"\"\n",
    "        Arguments:\n",
    "            csv_file (string): Path to the csv file with annotations.\n",
    "            root_dir (string): Directory to RNA csv files\n",
    "            transform (callable, optional): Optional transform to be applied\n",
    "                on a sample.\n",
    "        \"\"\"\n",
    "        self.data = data\n",
    "        self.root_dir = root_dir\n",
    "        self.transform = transform\n",
    "        self.is_hazard_logits = is_hazard_logits\n",
    "\n",
    "    def __len__(self):\n",
    "        return self.data.shape[0]\n",
    "\n",
    "    def __getitem__(self, idx):\n",
    "         raise NotImplementedError(\"This is absctract class\")"
   ]
  },
  {
   "cell_type": "code",
   "execution_count": 14,
   "id": "69077afa-ca93-447f-bdda-84a2afcd599d",
   "metadata": {
    "tags": []
   },
   "outputs": [],
   "source": [
    "class RNADataset(BaseDataset):\n",
    "    \"\"\"RNA dataset.\"\"\"\n",
    "\n",
    "    def __init__(self, data, root_dir, transform = None, is_hazard_logits = False):\n",
    "        \"\"\"\n",
    "        Arguments:\n",
    "            csv_file (string): Path to the csv file with annotations.\n",
    "            root_dir (string): Directory to RNA csv files\n",
    "            transform (callable, optional): Optional transform to be applied\n",
    "                on a sample.\n",
    "        \"\"\"\n",
    "        super().__init__(data, root_dir, transform, is_hazard_logits)\n",
    "\n",
    "    def __getitem__(self, idx):\n",
    "       \n",
    "        sample_path =self.data.iloc[idx]['RNA']\n",
    "        \n",
    "        sample =pd.read_csv(self.root_dir+sample_path)[\"fpkm_uq_unstranded\"].values.reshape(1, -1)\n",
    "        \n",
    "        if self.transform:\n",
    "            sample = self.transform(sample)\n",
    "            \n",
    "        sample = torch.from_numpy(sample)\n",
    "        \n",
    "        if self.is_hazard_logits:\n",
    "            return sample.float(), self.data.iloc[idx]['new_time'], self.data.iloc[idx]['new_event']\n",
    "        else: \n",
    "            return sample.float(), self.data.iloc[idx]['time'], self.data.iloc[idx]['event']"
   ]
  },
  {
   "cell_type": "code",
   "execution_count": 15,
   "id": "05855963-a8d9-40e9-aaf7-23f35223bfa2",
   "metadata": {
    "tags": []
   },
   "outputs": [],
   "source": [
    "fold_ind =0"
   ]
  },
  {
   "cell_type": "code",
   "execution_count": 16,
   "id": "45a3dd6b-06b0-4899-a08d-6a9a68b5119f",
   "metadata": {
    "tags": []
   },
   "outputs": [],
   "source": [
    "dataset =dataset.loc[dataset.RNA.notnull()]\n",
    "dataset_test =dataset.loc[dataset.group =='test'].reset_index(drop=True)\n",
    "dataset_train_val = dataset.loc[dataset.group =='train']\n",
    "dataset_val = dataset_train_val[dataset_train_val.splits==fold_ind].reset_index(drop=True)\n",
    "dataset_train = dataset_train_val[dataset_train_val.splits!=fold_ind].reset_index(drop=True)"
   ]
  },
  {
   "cell_type": "code",
   "execution_count": 17,
   "id": "f9e1c319-2535-431f-82b3-c4b384ecb7b4",
   "metadata": {
    "tags": []
   },
   "outputs": [
    {
     "data": {
      "text/html": [
       "<div>\n",
       "<style scoped>\n",
       "    .dataframe tbody tr th:only-of-type {\n",
       "        vertical-align: middle;\n",
       "    }\n",
       "\n",
       "    .dataframe tbody tr th {\n",
       "        vertical-align: top;\n",
       "    }\n",
       "\n",
       "    .dataframe thead th {\n",
       "        text-align: right;\n",
       "    }\n",
       "</style>\n",
       "<table border=\"1\" class=\"dataframe\">\n",
       "  <thead>\n",
       "    <tr style=\"text-align: right;\">\n",
       "      <th></th>\n",
       "      <th>submitter_id</th>\n",
       "      <th>tumor_stage</th>\n",
       "      <th>age_at_diagnosis</th>\n",
       "      <th>prior_treatment</th>\n",
       "      <th>prior_malignancy</th>\n",
       "      <th>synchronous_malignancy</th>\n",
       "      <th>days_to_last_follow_up</th>\n",
       "      <th>gender</th>\n",
       "      <th>race</th>\n",
       "      <th>vital_status</th>\n",
       "      <th>...</th>\n",
       "      <th>IDH</th>\n",
       "      <th>MGMT</th>\n",
       "      <th>X1p19q</th>\n",
       "      <th>19.20.gain</th>\n",
       "      <th>7g10l</th>\n",
       "      <th>TERT</th>\n",
       "      <th>ATRX</th>\n",
       "      <th>DNAm</th>\n",
       "      <th>RNA</th>\n",
       "      <th>splits</th>\n",
       "    </tr>\n",
       "  </thead>\n",
       "  <tbody>\n",
       "    <tr>\n",
       "      <th>0</th>\n",
       "      <td>TCGA-CS-4938</td>\n",
       "      <td>NaN</td>\n",
       "      <td>11509.0</td>\n",
       "      <td>No</td>\n",
       "      <td>no</td>\n",
       "      <td>No</td>\n",
       "      <td>3574.0</td>\n",
       "      <td>female</td>\n",
       "      <td>white</td>\n",
       "      <td>Alive</td>\n",
       "      <td>...</td>\n",
       "      <td>Mutant</td>\n",
       "      <td>Unmethylated</td>\n",
       "      <td>non-codel</td>\n",
       "      <td>No chr 19/20 gain</td>\n",
       "      <td>No combined CNA</td>\n",
       "      <td>Not expressed</td>\n",
       "      <td>Mutant</td>\n",
       "      <td>NaN</td>\n",
       "      <td>/DRIM/data/TCGA/GBMLGG/RNA/a282f56a-0884-40d2-...</td>\n",
       "      <td>0.0</td>\n",
       "    </tr>\n",
       "    <tr>\n",
       "      <th>1</th>\n",
       "      <td>TCGA-CS-4943</td>\n",
       "      <td>NaN</td>\n",
       "      <td>13565.0</td>\n",
       "      <td>No</td>\n",
       "      <td>no</td>\n",
       "      <td>No</td>\n",
       "      <td>NaN</td>\n",
       "      <td>male</td>\n",
       "      <td>white</td>\n",
       "      <td>Dead</td>\n",
       "      <td>...</td>\n",
       "      <td>Mutant</td>\n",
       "      <td>Methylated</td>\n",
       "      <td>non-codel</td>\n",
       "      <td>No chr 19/20 gain</td>\n",
       "      <td>No combined CNA</td>\n",
       "      <td>Not expressed</td>\n",
       "      <td>Mutant</td>\n",
       "      <td>NaN</td>\n",
       "      <td>/DRIM/data/TCGA/GBMLGG/RNA/bb459bb7-ff32-431d-...</td>\n",
       "      <td>0.0</td>\n",
       "    </tr>\n",
       "    <tr>\n",
       "      <th>2</th>\n",
       "      <td>TCGA-CS-5396</td>\n",
       "      <td>NaN</td>\n",
       "      <td>19399.0</td>\n",
       "      <td>No</td>\n",
       "      <td>no</td>\n",
       "      <td>No</td>\n",
       "      <td>1631.0</td>\n",
       "      <td>female</td>\n",
       "      <td>white</td>\n",
       "      <td>Alive</td>\n",
       "      <td>...</td>\n",
       "      <td>Mutant</td>\n",
       "      <td>Methylated</td>\n",
       "      <td>codel</td>\n",
       "      <td>No chr 19/20 gain</td>\n",
       "      <td>No combined CNA</td>\n",
       "      <td>Expressed</td>\n",
       "      <td>WT</td>\n",
       "      <td>NaN</td>\n",
       "      <td>/DRIM/data/TCGA/GBMLGG/RNA/7a2cd40f-7835-4323-...</td>\n",
       "      <td>0.0</td>\n",
       "    </tr>\n",
       "    <tr>\n",
       "      <th>3</th>\n",
       "      <td>TCGA-CS-6188</td>\n",
       "      <td>NaN</td>\n",
       "      <td>17729.0</td>\n",
       "      <td>No</td>\n",
       "      <td>no</td>\n",
       "      <td>No</td>\n",
       "      <td>NaN</td>\n",
       "      <td>male</td>\n",
       "      <td>white</td>\n",
       "      <td>Dead</td>\n",
       "      <td>...</td>\n",
       "      <td>WT</td>\n",
       "      <td>Unmethylated</td>\n",
       "      <td>non-codel</td>\n",
       "      <td>No chr 19/20 gain</td>\n",
       "      <td>Gain chr 7 &amp; loss chr 10</td>\n",
       "      <td>Expressed</td>\n",
       "      <td>WT</td>\n",
       "      <td>NaN</td>\n",
       "      <td>/DRIM/data/TCGA/GBMLGG/RNA/7fc3fecc-8b19-415f-...</td>\n",
       "      <td>0.0</td>\n",
       "    </tr>\n",
       "    <tr>\n",
       "      <th>4</th>\n",
       "      <td>TCGA-CS-6665</td>\n",
       "      <td>NaN</td>\n",
       "      <td>18977.0</td>\n",
       "      <td>No</td>\n",
       "      <td>yes</td>\n",
       "      <td>NaN</td>\n",
       "      <td>1568.0</td>\n",
       "      <td>female</td>\n",
       "      <td>white</td>\n",
       "      <td>Alive</td>\n",
       "      <td>...</td>\n",
       "      <td>Mutant</td>\n",
       "      <td>Methylated</td>\n",
       "      <td>non-codel</td>\n",
       "      <td>No chr 19/20 gain</td>\n",
       "      <td>No combined CNA</td>\n",
       "      <td>Not expressed</td>\n",
       "      <td>WT</td>\n",
       "      <td>NaN</td>\n",
       "      <td>/DRIM/data/TCGA/GBMLGG/RNA/38657792-ba50-4dfe-...</td>\n",
       "      <td>0.0</td>\n",
       "    </tr>\n",
       "    <tr>\n",
       "      <th>...</th>\n",
       "      <td>...</td>\n",
       "      <td>...</td>\n",
       "      <td>...</td>\n",
       "      <td>...</td>\n",
       "      <td>...</td>\n",
       "      <td>...</td>\n",
       "      <td>...</td>\n",
       "      <td>...</td>\n",
       "      <td>...</td>\n",
       "      <td>...</td>\n",
       "      <td>...</td>\n",
       "      <td>...</td>\n",
       "      <td>...</td>\n",
       "      <td>...</td>\n",
       "      <td>...</td>\n",
       "      <td>...</td>\n",
       "      <td>...</td>\n",
       "      <td>...</td>\n",
       "      <td>...</td>\n",
       "      <td>...</td>\n",
       "      <td>...</td>\n",
       "    </tr>\n",
       "    <tr>\n",
       "      <th>100</th>\n",
       "      <td>TCGA-28-1747</td>\n",
       "      <td>NaN</td>\n",
       "      <td>16301.0</td>\n",
       "      <td>No</td>\n",
       "      <td>NaN</td>\n",
       "      <td>NaN</td>\n",
       "      <td>NaN</td>\n",
       "      <td>male</td>\n",
       "      <td>white</td>\n",
       "      <td>Dead</td>\n",
       "      <td>...</td>\n",
       "      <td>WT</td>\n",
       "      <td>Methylated</td>\n",
       "      <td>non-codel</td>\n",
       "      <td>No chr 19/20 gain</td>\n",
       "      <td>No combined CNA</td>\n",
       "      <td>Expressed</td>\n",
       "      <td>WT</td>\n",
       "      <td>NaN</td>\n",
       "      <td>/DRIM/data/TCGA/GBMLGG/RNA/20445437-9781-49d6-...</td>\n",
       "      <td>0.0</td>\n",
       "    </tr>\n",
       "    <tr>\n",
       "      <th>101</th>\n",
       "      <td>TCGA-28-2514</td>\n",
       "      <td>NaN</td>\n",
       "      <td>16737.0</td>\n",
       "      <td>No</td>\n",
       "      <td>NaN</td>\n",
       "      <td>NaN</td>\n",
       "      <td>160.0</td>\n",
       "      <td>male</td>\n",
       "      <td>asian</td>\n",
       "      <td>Alive</td>\n",
       "      <td>...</td>\n",
       "      <td>WT</td>\n",
       "      <td>Unmethylated</td>\n",
       "      <td>non-codel</td>\n",
       "      <td>No chr 19/20 gain</td>\n",
       "      <td>No combined CNA</td>\n",
       "      <td>Expressed</td>\n",
       "      <td>WT</td>\n",
       "      <td>NaN</td>\n",
       "      <td>/DRIM/data/TCGA/GBMLGG/RNA/7a7637d0-110f-4809-...</td>\n",
       "      <td>0.0</td>\n",
       "    </tr>\n",
       "    <tr>\n",
       "      <th>102</th>\n",
       "      <td>TCGA-28-5208</td>\n",
       "      <td>NaN</td>\n",
       "      <td>19053.0</td>\n",
       "      <td>No</td>\n",
       "      <td>NaN</td>\n",
       "      <td>NaN</td>\n",
       "      <td>NaN</td>\n",
       "      <td>male</td>\n",
       "      <td>white</td>\n",
       "      <td>Dead</td>\n",
       "      <td>...</td>\n",
       "      <td>WT</td>\n",
       "      <td>Methylated</td>\n",
       "      <td>non-codel</td>\n",
       "      <td>No chr 19/20 gain</td>\n",
       "      <td>No combined CNA</td>\n",
       "      <td>Expressed</td>\n",
       "      <td>WT</td>\n",
       "      <td>NaN</td>\n",
       "      <td>/DRIM/data/TCGA/GBMLGG/RNA/21b8a64f-800c-45bc-...</td>\n",
       "      <td>0.0</td>\n",
       "    </tr>\n",
       "    <tr>\n",
       "      <th>103</th>\n",
       "      <td>TCGA-28-5209</td>\n",
       "      <td>NaN</td>\n",
       "      <td>24362.0</td>\n",
       "      <td>No</td>\n",
       "      <td>NaN</td>\n",
       "      <td>NaN</td>\n",
       "      <td>442.0</td>\n",
       "      <td>female</td>\n",
       "      <td>white</td>\n",
       "      <td>Alive</td>\n",
       "      <td>...</td>\n",
       "      <td>WT</td>\n",
       "      <td>Methylated</td>\n",
       "      <td>non-codel</td>\n",
       "      <td>No chr 19/20 gain</td>\n",
       "      <td>Gain chr 7 &amp; loss chr 10</td>\n",
       "      <td>Expressed</td>\n",
       "      <td>WT</td>\n",
       "      <td>NaN</td>\n",
       "      <td>/DRIM/data/TCGA/GBMLGG/RNA/9c73dcae-262a-4473-...</td>\n",
       "      <td>0.0</td>\n",
       "    </tr>\n",
       "    <tr>\n",
       "      <th>104</th>\n",
       "      <td>TCGA-32-2615</td>\n",
       "      <td>NaN</td>\n",
       "      <td>22916.0</td>\n",
       "      <td>No</td>\n",
       "      <td>NaN</td>\n",
       "      <td>NaN</td>\n",
       "      <td>NaN</td>\n",
       "      <td>male</td>\n",
       "      <td>white</td>\n",
       "      <td>Dead</td>\n",
       "      <td>...</td>\n",
       "      <td>WT</td>\n",
       "      <td>Unmethylated</td>\n",
       "      <td>non-codel</td>\n",
       "      <td>No chr 19/20 gain</td>\n",
       "      <td>No combined CNA</td>\n",
       "      <td>Expressed</td>\n",
       "      <td>WT</td>\n",
       "      <td>NaN</td>\n",
       "      <td>/DRIM/data/TCGA/GBMLGG/RNA/31050be4-da9b-4691-...</td>\n",
       "      <td>0.0</td>\n",
       "    </tr>\n",
       "  </tbody>\n",
       "</table>\n",
       "<p>105 rows × 27 columns</p>\n",
       "</div>"
      ],
      "text/plain": [
       "     submitter_id  tumor_stage  age_at_diagnosis prior_treatment  \\\n",
       "0    TCGA-CS-4938          NaN           11509.0              No   \n",
       "1    TCGA-CS-4943          NaN           13565.0              No   \n",
       "2    TCGA-CS-5396          NaN           19399.0              No   \n",
       "3    TCGA-CS-6188          NaN           17729.0              No   \n",
       "4    TCGA-CS-6665          NaN           18977.0              No   \n",
       "..            ...          ...               ...             ...   \n",
       "100  TCGA-28-1747          NaN           16301.0              No   \n",
       "101  TCGA-28-2514          NaN           16737.0              No   \n",
       "102  TCGA-28-5208          NaN           19053.0              No   \n",
       "103  TCGA-28-5209          NaN           24362.0              No   \n",
       "104  TCGA-32-2615          NaN           22916.0              No   \n",
       "\n",
       "    prior_malignancy synchronous_malignancy  days_to_last_follow_up  gender  \\\n",
       "0                 no                     No                  3574.0  female   \n",
       "1                 no                     No                     NaN    male   \n",
       "2                 no                     No                  1631.0  female   \n",
       "3                 no                     No                     NaN    male   \n",
       "4                yes                    NaN                  1568.0  female   \n",
       "..               ...                    ...                     ...     ...   \n",
       "100              NaN                    NaN                     NaN    male   \n",
       "101              NaN                    NaN                   160.0    male   \n",
       "102              NaN                    NaN                     NaN    male   \n",
       "103              NaN                    NaN                   442.0  female   \n",
       "104              NaN                    NaN                     NaN    male   \n",
       "\n",
       "      race vital_status  ...     IDH          MGMT     X1p19q  \\\n",
       "0    white        Alive  ...  Mutant  Unmethylated  non-codel   \n",
       "1    white         Dead  ...  Mutant    Methylated  non-codel   \n",
       "2    white        Alive  ...  Mutant    Methylated      codel   \n",
       "3    white         Dead  ...      WT  Unmethylated  non-codel   \n",
       "4    white        Alive  ...  Mutant    Methylated  non-codel   \n",
       "..     ...          ...  ...     ...           ...        ...   \n",
       "100  white         Dead  ...      WT    Methylated  non-codel   \n",
       "101  asian        Alive  ...      WT  Unmethylated  non-codel   \n",
       "102  white         Dead  ...      WT    Methylated  non-codel   \n",
       "103  white        Alive  ...      WT    Methylated  non-codel   \n",
       "104  white         Dead  ...      WT  Unmethylated  non-codel   \n",
       "\n",
       "            19.20.gain                     7g10l           TERT    ATRX DNAm  \\\n",
       "0    No chr 19/20 gain           No combined CNA  Not expressed  Mutant  NaN   \n",
       "1    No chr 19/20 gain           No combined CNA  Not expressed  Mutant  NaN   \n",
       "2    No chr 19/20 gain           No combined CNA      Expressed      WT  NaN   \n",
       "3    No chr 19/20 gain  Gain chr 7 & loss chr 10      Expressed      WT  NaN   \n",
       "4    No chr 19/20 gain           No combined CNA  Not expressed      WT  NaN   \n",
       "..                 ...                       ...            ...     ...  ...   \n",
       "100  No chr 19/20 gain           No combined CNA      Expressed      WT  NaN   \n",
       "101  No chr 19/20 gain           No combined CNA      Expressed      WT  NaN   \n",
       "102  No chr 19/20 gain           No combined CNA      Expressed      WT  NaN   \n",
       "103  No chr 19/20 gain  Gain chr 7 & loss chr 10      Expressed      WT  NaN   \n",
       "104  No chr 19/20 gain           No combined CNA      Expressed      WT  NaN   \n",
       "\n",
       "                                                   RNA splits  \n",
       "0    /DRIM/data/TCGA/GBMLGG/RNA/a282f56a-0884-40d2-...    0.0  \n",
       "1    /DRIM/data/TCGA/GBMLGG/RNA/bb459bb7-ff32-431d-...    0.0  \n",
       "2    /DRIM/data/TCGA/GBMLGG/RNA/7a2cd40f-7835-4323-...    0.0  \n",
       "3    /DRIM/data/TCGA/GBMLGG/RNA/7fc3fecc-8b19-415f-...    0.0  \n",
       "4    /DRIM/data/TCGA/GBMLGG/RNA/38657792-ba50-4dfe-...    0.0  \n",
       "..                                                 ...    ...  \n",
       "100  /DRIM/data/TCGA/GBMLGG/RNA/20445437-9781-49d6-...    0.0  \n",
       "101  /DRIM/data/TCGA/GBMLGG/RNA/7a7637d0-110f-4809-...    0.0  \n",
       "102  /DRIM/data/TCGA/GBMLGG/RNA/21b8a64f-800c-45bc-...    0.0  \n",
       "103  /DRIM/data/TCGA/GBMLGG/RNA/9c73dcae-262a-4473-...    0.0  \n",
       "104  /DRIM/data/TCGA/GBMLGG/RNA/31050be4-da9b-4691-...    0.0  \n",
       "\n",
       "[105 rows x 27 columns]"
      ]
     },
     "execution_count": 17,
     "metadata": {},
     "output_type": "execute_result"
    }
   ],
   "source": [
    "dataset_val"
   ]
  },
  {
   "cell_type": "code",
   "execution_count": 18,
   "id": "b6dcec64-fe54-42be-92f2-90c21ebaa7ef",
   "metadata": {
    "tags": []
   },
   "outputs": [],
   "source": [
    "class Scale(object):\n",
    "    \"\"\"Rescale the image in a sample to a given size.\n",
    "\n",
    "    Args:\n",
    "        output_size (tuple or int): Desired output size. If tuple, output is\n",
    "            matched to output_size. If int, smaller of image edges is matched\n",
    "            to output_size keeping aspect ratio the same.\n",
    "    \"\"\"\n",
    "\n",
    "    def __init__(self, file_path):\n",
    "        self.load_scaling(file_path)\n",
    "        \n",
    "    def load_scaling(self, file_path):    \n",
    "        with open(file_path, 'r') as file:\n",
    "            self.scaler_data = json.load(file)\n",
    "\n",
    "    def __call__(self, sample):\n",
    "        sample =(sample - np.array(self.scaler_data['mean_values'])) / np.array(self.scaler_data['var_values'])\n",
    "\n",
    "        return sample"
   ]
  },
  {
   "cell_type": "code",
   "execution_count": 19,
   "id": "97f6a567-37c0-49be-bea6-fff387d8500f",
   "metadata": {
    "tags": []
   },
   "outputs": [],
   "source": [
    "def log_transform(x):\n",
    "    return np.log(x + 1)"
   ]
  },
  {
   "cell_type": "code",
   "execution_count": 20,
   "id": "efc7d031-5704-4dc2-bde5-afaa6f7421c7",
   "metadata": {
    "tags": []
   },
   "outputs": [],
   "source": [
    "transform = transforms.Compose([transforms.Lambda(log_transform), Scale('scaler_data.json')])"
   ]
  },
  {
   "cell_type": "code",
   "execution_count": 21,
   "id": "c41538b8-89b5-4b41-b30a-2be6cc9938a4",
   "metadata": {
    "tags": []
   },
   "outputs": [],
   "source": [
    "dataframes = {\"train\" : dataset_train, \"val\" : dataset_val, \"test\" : dataset_test}"
   ]
  },
  {
   "cell_type": "code",
   "execution_count": 43,
   "id": "96833929-b65f-40de-9da3-8969ee18c80b",
   "metadata": {
    "tags": []
   },
   "outputs": [],
   "source": [
    "datasets, dataloaders = {}, {}\n",
    "events, times ={}, {}\n",
    "n_intervals = 20\n",
    "labtrans = LogisticHazard.label_transform(n_intervals)\n",
    "labtrans.fit(dataframes['train']['time'], dataframes['train']['event'])\n",
    "\n",
    "\n",
    "for split, dataframe in dataframes.items():\n",
    "    dataframe['new_time'], dataframe['new_event'] =labtrans.transform(dataframe['time'], dataframe['event'])\n",
    "    datasets[split] = RNADataset(dataframe, root_path, transform=transform,is_hazard_logits = True )\n",
    "    if split =='train':\n",
    "        dataloaders[split] =DataLoader(datasets[split],shuffle=True, batch_size=24)\n",
    "    else:\n",
    "        dataloaders[split] =DataLoader(datasets[split],shuffle=False, batch_size=1)"
   ]
  },
  {
   "cell_type": "code",
   "execution_count": 44,
   "id": "19ae6c34-f5ed-422a-b823-d30e700c3f0a",
   "metadata": {
    "tags": []
   },
   "outputs": [],
   "source": [
    "## Переведем наши (time, events) в новое количество интервалов\n",
    "value, st, ind =next(iter(dataloaders['train']))"
   ]
  },
  {
   "cell_type": "code",
   "execution_count": 45,
   "id": "b8cbd3a8-4d09-45e6-aaca-f35b552d480e",
   "metadata": {
    "tags": []
   },
   "outputs": [
    {
     "data": {
      "text/plain": [
       "[tensor([[[ 3.0241,  3.3031,  0.9420,  ..., -2.4838, -2.1773, -3.0219]]]),\n",
       " tensor([10]),\n",
       " tensor([0.])]"
      ]
     },
     "execution_count": 45,
     "metadata": {},
     "output_type": "execute_result"
    }
   ],
   "source": [
    "next(iter(dataloaders['val']))"
   ]
  },
  {
   "cell_type": "code",
   "execution_count": 46,
   "id": "192f7285-dd8c-4cab-87a4-b4543084c78b",
   "metadata": {
    "tags": []
   },
   "outputs": [
    {
     "data": {
      "text/plain": [
       "[tensor([[[-0.4183, -0.0568, -3.2477,  ..., -2.5360, -1.7417, -1.9319]]]),\n",
       " tensor([0]),\n",
       " tensor([0.])]"
      ]
     },
     "execution_count": 46,
     "metadata": {},
     "output_type": "execute_result"
    }
   ],
   "source": [
    "next(iter(dataloaders['test']))"
   ]
  },
  {
   "cell_type": "code",
   "execution_count": 47,
   "id": "9724f4ab-3d78-4c7a-b3ee-69cec8725660",
   "metadata": {
    "tags": []
   },
   "outputs": [],
   "source": [
    "def create_nan_dataframe(\n",
    "    num_row: int, num_col: int, name_col: List[str]\n",
    ") -> pd.DataFrame:\n",
    "    df = pd.DataFrame(np.zeros((num_row, num_col)), columns=name_col)\n",
    "    df[:] = np.nan\n",
    "    return df\n",
    "\n",
    "def interpolate_dataframe(dataframe: pd.DataFrame, n: int = 10) -> pd.DataFrame:\n",
    "    dataframe.reset_index(inplace=True)\n",
    "    dataframe_list = []\n",
    "    for i, idx in enumerate(dataframe.index):\n",
    "        df_temp = dataframe[dataframe.index == idx]\n",
    "        dataframe_list.append(df_temp)\n",
    "        if i != len(dataframe) - 1:\n",
    "            dataframe_list.append(\n",
    "                create_nan_dataframe(n, df_temp.shape[1], df_temp.columns)\n",
    "            )\n",
    "\n",
    "    dataframe = pd.concat(dataframe_list).interpolate(\"linear\")\n",
    "    dataframe = dataframe.set_index(\"index\")\n",
    "    return dataframe"
   ]
  },
  {
   "cell_type": "code",
   "execution_count": 48,
   "id": "f6e93517-805f-4027-972b-ec0c278e729d",
   "metadata": {
    "tags": []
   },
   "outputs": [],
   "source": [
    "def compute_survival_metrics(outputs, time, event, cuts):\n",
    "        \"\"\"\n",
    "        Compute the survival metrics with the PyCox package.\n",
    "        \"\"\"\n",
    "        hazard = torch.cat(outputs, dim=0)\n",
    "        survival = (1 - hazard.sigmoid()).add(1e-7).log().cumsum(1).exp().cpu().numpy()\n",
    "        survival =pd.DataFrame(survival.transpose())\n",
    "        #survival = interpolate_dataframe(pd.DataFrame(survival.transpose(), cuts))\n",
    "        evaluator = EvalSurv(\n",
    "            survival, time.cpu().numpy(), event.cpu().numpy(), censor_surv=\"km\"\n",
    "        )\n",
    "        c_index = evaluator.concordance_td()\n",
    "        ibs = evaluator.integrated_brier_score(np.linspace(0, time.cpu().numpy().max()))\n",
    "        inbll = evaluator.integrated_nbll(np.linspace(0, time.cpu().numpy().max()))\n",
    "        cs_score = (c_index + (1 - ibs)) / 2\n",
    "        return {\"c_index\": c_index, \"ibs\": ibs, \"inbll\": inbll, \"cs_score\": cs_score}"
   ]
  },
  {
   "cell_type": "code",
   "execution_count": 49,
   "id": "9115a86c-8650-4b49-8b8b-9aebacb0bbf7",
   "metadata": {
    "tags": []
   },
   "outputs": [],
   "source": [
    "class RNABaseSurvival(RNAEncoder):\n",
    "    \n",
    "    def __init__(self, embedding_dim: int, dropout: float, n_outs: int):\n",
    "        \n",
    "        super().__init__(embedding_dim=embedding_dim, dropout=dropout)\n",
    "        self.n_outs = n_outs\n",
    "        self.lin = torch.nn.Linear(embedding_dim,self.n_outs)\n",
    "        \n",
    "    def forward(self, x):\n",
    "        x = self.encoder(x).squeeze(-1)\n",
    "        x = self.lin(x)\n",
    "        return(x)"
   ]
  },
  {
   "cell_type": "code",
   "execution_count": 50,
   "id": "c0c07f37-08b6-4677-a3a2-dd96d263f294",
   "metadata": {
    "tags": []
   },
   "outputs": [],
   "source": [
    "model =RNABaseSurvival(embedding_dim=128, dropout=0.2,n_outs =n_intervals)"
   ]
  },
  {
   "cell_type": "code",
   "execution_count": 51,
   "id": "b4abaf73-ba74-4f27-9248-ee8ee7428f06",
   "metadata": {
    "tags": []
   },
   "outputs": [
    {
     "data": {
      "text/plain": [
       "RNABaseSurvival(\n",
       "  (encoder): Sequential(\n",
       "    (0): Conv1d(1, 8, kernel_size=(9,), stride=(3,))\n",
       "    (1): GELU(approximate='none')\n",
       "    (2): BatchNorm1d(8, eps=1e-05, momentum=0.1, affine=True, track_running_stats=True)\n",
       "    (3): Dropout(p=0.2, inplace=False)\n",
       "    (4): Conv1d(8, 32, kernel_size=(9,), stride=(3,))\n",
       "    (5): GELU(approximate='none')\n",
       "    (6): BatchNorm1d(32, eps=1e-05, momentum=0.1, affine=True, track_running_stats=True)\n",
       "    (7): Dropout(p=0.2, inplace=False)\n",
       "    (8): Conv1d(32, 64, kernel_size=(9,), stride=(3,))\n",
       "    (9): GELU(approximate='none')\n",
       "    (10): BatchNorm1d(64, eps=1e-05, momentum=0.1, affine=True, track_running_stats=True)\n",
       "    (11): Dropout(p=0.2, inplace=False)\n",
       "    (12): Conv1d(64, 128, kernel_size=(9,), stride=(3,))\n",
       "    (13): GELU(approximate='none')\n",
       "    (14): BatchNorm1d(128, eps=1e-05, momentum=0.1, affine=True, track_running_stats=True)\n",
       "    (15): Dropout(p=0.2, inplace=False)\n",
       "    (16): Conv1d(128, 256, kernel_size=(9,), stride=(3,))\n",
       "    (17): GELU(approximate='none')\n",
       "    (18): BatchNorm1d(256, eps=1e-05, momentum=0.1, affine=True, track_running_stats=True)\n",
       "    (19): Dropout(p=0.2, inplace=False)\n",
       "    (20): Conv1d(256, 128, kernel_size=(9,), stride=(3,))\n",
       "    (21): GELU(approximate='none')\n",
       "    (22): BatchNorm1d(128, eps=1e-05, momentum=0.1, affine=True, track_running_stats=True)\n",
       "    (23): Dropout(p=0.2, inplace=False)\n",
       "    (24): AdaptiveAvgPool1d(output_size=1)\n",
       "  )\n",
       "  (lin): Linear(in_features=128, out_features=20, bias=True)\n",
       ")"
      ]
     },
     "execution_count": 51,
     "metadata": {},
     "output_type": "execute_result"
    }
   ],
   "source": [
    "model"
   ]
  },
  {
   "cell_type": "code",
   "execution_count": 52,
   "id": "3b0de2e6-5009-4699-9ef5-6148c9d9a2a8",
   "metadata": {
    "tags": []
   },
   "outputs": [],
   "source": [
    "x,times,events =next(iter(dataloaders['train']))"
   ]
  },
  {
   "cell_type": "code",
   "execution_count": 53,
   "id": "7952a0dc-aa70-4175-b50b-d53a6691d1c5",
   "metadata": {
    "tags": []
   },
   "outputs": [],
   "source": [
    "#model=model.to(float)"
   ]
  },
  {
   "cell_type": "code",
   "execution_count": 54,
   "id": "a62a4b90-a30d-4213-a55a-9013ea13b9a8",
   "metadata": {
    "tags": []
   },
   "outputs": [],
   "source": [
    "out =model(x)"
   ]
  },
  {
   "cell_type": "code",
   "execution_count": 55,
   "id": "1a134edf-5f3d-4f7d-926a-165a67140606",
   "metadata": {
    "tags": []
   },
   "outputs": [],
   "source": [
    "#compute_survival_metrics([out], torch.cat([times], dim=0), torch.cat([events], dim=0), labtrans.cuts)"
   ]
  },
  {
   "cell_type": "code",
   "execution_count": 56,
   "id": "69e049a3-56d9-4f05-9638-a4c83021e4c5",
   "metadata": {
    "tags": []
   },
   "outputs": [],
   "source": [
    "optimizer = torch.optim.AdamW(model.parameters(), lr=1e-3, weight_decay=1e-2)"
   ]
  },
  {
   "cell_type": "code",
   "execution_count": 57,
   "id": "051cfd6a-a635-4606-a40e-5fb8687ccda2",
   "metadata": {
    "tags": []
   },
   "outputs": [],
   "source": [
    "n_epochs=50"
   ]
  },
  {
   "cell_type": "code",
   "execution_count": 58,
   "id": "f732935b-5dff-4859-b3cd-2680dca623a2",
   "metadata": {
    "tags": []
   },
   "outputs": [],
   "source": [
    "scheduler = torch.optim.lr_scheduler.CosineAnnealingLR(optimizer, T_max=n_epochs,eta_min=5e-6)"
   ]
  },
  {
   "cell_type": "code",
   "execution_count": 59,
   "id": "920643ef-45c9-4e72-8874-d84e11c4639c",
   "metadata": {
    "tags": []
   },
   "outputs": [],
   "source": [
    "criterion = NLLLogistiHazardLoss()"
   ]
  },
  {
   "cell_type": "code",
   "execution_count": 60,
   "id": "3270c10d-2ea1-45b6-b6dc-f0dc272b20d3",
   "metadata": {
    "tags": []
   },
   "outputs": [],
   "source": [
    "device ='cuda:1'"
   ]
  },
  {
   "cell_type": "code",
   "execution_count": 61,
   "id": "bd27c16a-9d0d-404a-820b-a692e110cffd",
   "metadata": {
    "tags": []
   },
   "outputs": [],
   "source": [
    "model =model.to(device)"
   ]
  },
  {
   "cell_type": "code",
   "execution_count": 62,
   "id": "e6e8e0fc-0ef8-4b83-8aa9-b0fde8708c70",
   "metadata": {
    "tags": []
   },
   "outputs": [],
   "source": [
    "for epoch in range(n_epochs):\n",
    "    total_task_loss =0\n",
    "    model.train()\n",
    "    for batch in dataloaders['train']:\n",
    "        \n",
    "        data, time, event = batch\n",
    "        outputs =model(data.to(device))\n",
    "        \n",
    "        loss = criterion(outputs, time.to(device), event.to(device))\n",
    "        \n",
    "        # Backpropagation\n",
    "        loss.backward()\n",
    "        optimizer.step()\n",
    "        optimizer.zero_grad()\n",
    "    \n",
    "        \n",
    "        total_task_loss+=loss\n",
    "        \n",
    "    scheduler.step()\n",
    "    results = {\"task_loss\": total_task_loss / len(dataloaders['train'].dataset)}\n",
    "    \n",
    "    total_val_loss =0 \n",
    "    preds,all_times, all_events = [], [], []\n",
    "    model.eval()\n",
    "    with torch.no_grad():    \n",
    "        for batch in dataloaders['val']:\n",
    "            \n",
    "             data, time, event = batch\n",
    "             outputs =model(data.to(device))\n",
    "             loss = criterion(outputs, time.to(device), event.to(device))\n",
    "             preds.append(outputs)\n",
    "             all_times.append(time)\n",
    "             all_events.append(event)\n",
    "             total_val_loss +=loss\n",
    "    results.update({\"val_loss\": total_val_loss / len(dataloaders['val'].dataset)})            \n",
    "    val_metrics =compute_survival_metrics(preds, torch.cat(all_times, dim=0), torch.cat(all_events, dim=0), labtrans.cuts)\n",
    "    results.update(val_metrics)\n",
    "    wandb.log(results)"
   ]
  },
  {
   "cell_type": "code",
   "execution_count": 63,
   "id": "49de01fc-2976-4336-942a-6784c0ced057",
   "metadata": {
    "tags": []
   },
   "outputs": [
    {
     "data": {
      "text/plain": [
       "{'task_loss': tensor(0.0027, device='cuda:1', grad_fn=<DivBackward0>),\n",
       " 'val_loss': tensor(0.9233, device='cuda:1'),\n",
       " 'c_index': 0.7718733225979603,\n",
       " 'ibs': 0.15768846515846685,\n",
       " 'inbll': 0.5021036213514602,\n",
       " 'cs_score': 0.8070924287197467}"
      ]
     },
     "execution_count": 63,
     "metadata": {},
     "output_type": "execute_result"
    }
   ],
   "source": [
    "results"
   ]
  },
  {
   "cell_type": "code",
   "execution_count": 65,
   "id": "96795161-09d0-483b-83f7-c76f7c201153",
   "metadata": {
    "collapsed": true,
    "jupyter": {
     "outputs_hidden": true
    },
    "tags": []
   },
   "outputs": [
    {
     "data": {
      "text/plain": [
       "[tensor([[-4.6551, -3.8372, -3.1300, -7.6737, -1.3524,  0.0315, -2.4926, -2.2589,\n",
       "          -4.7184,  0.7606,  0.7655,  2.4500, -0.4775, -2.9557, -1.6446, -1.9790,\n",
       "          -1.7393, -1.9115, -1.4760, -1.9474]], device='cuda:1'),\n",
       " tensor([[-4.5220, -4.7575, -2.6068, -8.4821, -2.5614,  1.2866, -2.0818, -4.0757,\n",
       "          -4.9685,  1.2192, -0.3948,  2.4986, -0.7446, -3.1873, -1.4005, -2.2126,\n",
       "          -1.5325, -2.2409, -1.7582, -1.9154]], device='cuda:1'),\n",
       " tensor([[-3.9231, -3.4064, -1.6975, -5.1777, -1.5489, -0.4385, -2.3231, -1.9435,\n",
       "          -3.2155,  0.4473,  0.5765,  2.1441, -0.2284, -2.5810, -0.8796, -1.3929,\n",
       "          -0.9918, -1.4852, -0.9205, -1.5907]], device='cuda:1'),\n",
       " tensor([[-4.8099, -2.0543,  1.6525, -4.3360, -1.1274,  3.8087,  0.0929, -0.4609,\n",
       "          -1.1906,  2.3849,  1.4790,  3.6143,  0.4139, -1.6300,  0.3261,  0.4881,\n",
       "          -0.7650, -0.3188,  0.3377,  0.0141]], device='cuda:1'),\n",
       " tensor([[-5.0060, -4.7241, -2.8836, -7.7565, -1.2842,  1.2758, -1.8645, -2.3603,\n",
       "          -4.2803,  1.2040,  0.6553,  2.8599, -0.2225, -2.8114, -1.4159, -1.8315,\n",
       "          -1.8009, -1.8459, -1.3511, -1.6544]], device='cuda:1'),\n",
       " tensor([[-4.6976e+00, -3.9402e+00, -3.7502e+00, -7.8813e+00, -6.1405e-03,\n",
       "          -5.5348e-01, -2.3526e+00, -2.0984e+00, -4.5448e+00,  6.1991e-01,\n",
       "           1.1673e+00,  2.5934e+00, -5.2324e-01, -2.8004e+00, -1.7163e+00,\n",
       "          -2.0823e+00, -1.9043e+00, -1.7748e+00, -1.4077e+00, -1.9045e+00]],\n",
       "        device='cuda:1'),\n",
       " tensor([[-4.6599, -4.6919, -2.4225, -6.7048, -3.3974,  0.6599, -2.0642, -2.8133,\n",
       "          -3.2956,  1.4300, -0.0537,  2.9003, -0.3145, -2.2767, -0.8493, -1.6388,\n",
       "          -1.0882, -1.7732, -1.1645, -1.6669]], device='cuda:1'),\n",
       " tensor([[-4.7940, -4.8177, -4.4459, -7.2455, -3.4183, -0.2136, -3.7184, -3.3555,\n",
       "          -4.8321,  1.0436, -0.5462,  2.2447, -0.8363, -2.1439, -1.7375, -2.3592,\n",
       "          -1.3358, -2.4921, -1.7989, -2.1555]], device='cuda:1'),\n",
       " tensor([[-4.7088, -5.0008, -3.6992, -7.6568, -0.9851, -0.1593, -2.6521, -3.0438,\n",
       "          -4.9532,  1.1100,  0.2622,  2.4677, -0.6725, -2.8953, -1.5754, -2.1480,\n",
       "          -1.6902, -2.1067, -1.7145, -1.9214]], device='cuda:1'),\n",
       " tensor([[-5.1327, -4.0582, -2.9461, -7.8771, -0.0107,  1.0568, -1.5640, -1.8542,\n",
       "          -4.1545,  1.2113,  1.1997,  2.8598, -0.2155, -2.6949, -1.3708, -1.5538,\n",
       "          -1.9035, -1.5818, -1.1424, -1.5208]], device='cuda:1'),\n",
       " tensor([[-4.3043, -4.1877, -3.9712, -6.8810, -1.7429, -1.1068, -2.9746, -2.8640,\n",
       "          -4.4750,  0.2364,  0.3849,  2.2675, -0.5622, -2.6311, -1.4679, -2.2142,\n",
       "          -1.3669, -2.0566, -1.5112, -2.1667]], device='cuda:1'),\n",
       " tensor([[-5.2882, -3.6521,  3.1118, -5.7004, -0.6960,  4.5711,  0.5861, -0.9342,\n",
       "          -1.6956,  2.3433,  0.9460,  3.0802,  0.3913, -2.3874,  0.0752,  0.2478,\n",
       "          -0.8583, -0.3940, -0.2698,  0.0992]], device='cuda:1'),\n",
       " tensor([[-4.9411, -3.2062,  1.2380, -5.6762, -0.4346,  3.1836,  0.0774, -0.8740,\n",
       "          -1.9725,  1.6982,  1.0691,  3.1243,  0.4992, -2.1927, -0.2139, -0.2115,\n",
       "          -1.2211, -0.6539, -0.2665, -0.3669]], device='cuda:1'),\n",
       " tensor([[-4.6985, -3.7769, -3.8977, -7.5719, -1.2116, -0.1060, -2.1782, -2.4256,\n",
       "          -4.5503,  0.7982,  0.9778,  2.6492, -0.3675, -2.7192, -1.4891, -1.9156,\n",
       "          -1.5791, -1.8941, -1.2287, -1.9434]], device='cuda:1'),\n",
       " tensor([[-4.0479, -4.1849, -3.8912, -7.6811, -2.8278, -1.1351, -3.5422, -3.8483,\n",
       "          -4.9624,  0.1770,  0.0854,  1.8335, -0.8181, -3.1475, -1.5413, -2.3476,\n",
       "          -0.9924, -2.4110, -1.6665, -2.2864]], device='cuda:1'),\n",
       " tensor([[-4.4026, -4.3867, -3.9409, -8.1899, -1.7727, -0.5798, -2.7741, -3.0028,\n",
       "          -4.9777,  0.8570,  0.3585,  2.6426, -0.5871, -3.2106, -1.7513, -2.4319,\n",
       "          -1.8197, -2.2104, -1.6805, -2.2262]], device='cuda:1'),\n",
       " tensor([[-4.5960, -4.1961, -4.5786, -8.4657,  0.4834, -0.5661, -2.3854, -2.3027,\n",
       "          -5.3446,  0.5681,  1.1315,  2.5215, -0.6117, -3.2894, -2.0868, -2.4506,\n",
       "          -2.2607, -2.0642, -1.6813, -2.2830]], device='cuda:1'),\n",
       " tensor([[-5.2824, -4.0379, -0.6925, -5.5228,  1.7169,  1.0672, -0.8996,  0.0268,\n",
       "          -2.2668,  0.4914,  1.5686,  2.5411,  0.6353, -2.1835, -0.7057, -0.6816,\n",
       "          -1.7239, -0.7306, -0.5922, -0.8869]], device='cuda:1'),\n",
       " tensor([[-4.7020, -4.8275, -4.0670, -7.9930, -1.8542,  0.8283, -2.3296, -3.6674,\n",
       "          -5.2160,  1.8126,  0.1917,  2.8684, -0.9750, -2.7936, -1.6153, -2.1539,\n",
       "          -1.6624, -2.1783, -1.6975, -1.9419]], device='cuda:1'),\n",
       " tensor([[-4.7091, -5.1038, -4.0144, -7.7278, -1.6704,  0.3571, -2.5524, -3.6629,\n",
       "          -5.2248,  1.4078,  0.0188,  2.4719, -0.8613, -2.8489, -1.5852, -2.2226,\n",
       "          -1.5538, -2.2810, -1.7800, -2.0491]], device='cuda:1'),\n",
       " tensor([[-5.0116, -5.0702, -4.4056, -7.9350, -1.1114,  0.4348, -2.4423, -3.0020,\n",
       "          -4.7147,  0.8384,  0.6868,  2.5565, -0.5217, -2.4599, -1.7484, -2.2269,\n",
       "          -1.7126, -2.2214, -1.6303, -2.0044]], device='cuda:1'),\n",
       " tensor([[-4.2337, -3.8105, -4.2735, -7.7399, -1.0399, -0.0101, -2.1763, -2.5476,\n",
       "          -4.6970,  1.0918,  0.8267,  2.8588, -0.5137, -2.8985, -1.6915, -2.1673,\n",
       "          -1.8434, -1.9461, -1.3793, -2.1054]], device='cuda:1'),\n",
       " tensor([[-5.1655, -5.1280, -0.6087, -5.6050, -0.1303,  2.3994, -0.7536, -1.7502,\n",
       "          -3.3544,  2.1769,  0.6166,  2.8637, -0.2524, -2.3605, -0.6984, -0.9108,\n",
       "          -1.5334, -1.1780, -0.9893, -0.7727]], device='cuda:1'),\n",
       " tensor([[-4.6975, -4.4660, -3.3647, -6.8158, -2.2590, -0.6258, -2.3304, -2.7480,\n",
       "          -3.8751,  0.8552,  0.3907,  2.7241, -0.4172, -2.2435, -0.9799, -1.7948,\n",
       "          -1.1181, -1.8021, -1.2382, -1.8207]], device='cuda:1'),\n",
       " tensor([[-4.9534, -4.7263, -4.3095, -9.0444, -1.9356,  0.4917, -2.9048, -3.7412,\n",
       "          -5.6751,  1.3865,  0.5184,  2.5898, -1.0462, -3.2800, -1.8937, -2.3910,\n",
       "          -1.6612, -2.4579, -1.7897, -2.1515]], device='cuda:1'),\n",
       " tensor([[-4.1060, -2.7016, -3.1951, -7.2868,  1.4218, -0.9132, -2.2095, -0.6778,\n",
       "          -4.2704,  0.2259,  1.4563,  2.4935, -0.2549, -3.1487, -2.0493, -2.0500,\n",
       "          -2.5576, -1.4872, -1.3084, -1.9435]], device='cuda:1'),\n",
       " tensor([[-4.5215, -4.6405, -4.8238, -8.1557, -0.7755, -0.3945, -2.6822, -2.8140,\n",
       "          -5.2148,  1.1324,  0.9366,  2.5945, -0.7674, -2.9617, -1.8373, -2.3298,\n",
       "          -1.8294, -2.2334, -1.6809, -2.2095]], device='cuda:1'),\n",
       " tensor([[-4.8678, -4.2502, -0.6772, -5.8257, -2.9030,  2.3863, -1.2264, -2.5469,\n",
       "          -2.7761,  1.9326, -0.0867,  2.8729, -0.2833, -1.8832, -0.5858, -0.9832,\n",
       "          -0.9214, -1.4535, -0.9222, -0.9848]], device='cuda:1'),\n",
       " tensor([[-5.0692, -1.7121,  1.2795, -5.3114,  1.5787,  3.2406,  0.5157,  0.3451,\n",
       "          -2.2299,  1.9043,  1.8042,  3.2609,  0.4153, -2.1185, -0.5088,  0.1016,\n",
       "          -1.8113, -0.2435,  0.0289, -0.2224]], device='cuda:1'),\n",
       " tensor([[-4.6875, -4.0427, -3.2995, -7.4899, -1.1811, -0.6265, -2.8485, -2.6505,\n",
       "          -4.5404,  0.5978,  0.6463,  2.3468, -0.5845, -2.7878, -1.5490, -1.9804,\n",
       "          -1.4897, -2.0273, -1.4807, -1.9298]], device='cuda:1'),\n",
       " tensor([[-4.6666, -4.7389, -3.6070, -7.3452, -1.7414, -0.4019, -2.5143, -2.6967,\n",
       "          -4.4258,  1.0001,  0.6617,  2.6286, -0.3675, -2.7537, -1.3309, -1.9574,\n",
       "          -1.4074, -1.9898, -1.4173, -1.9020]], device='cuda:1'),\n",
       " tensor([[-4.3494, -4.2334, -3.3721, -7.5967, -1.3239, -0.9567, -2.6535, -2.5437,\n",
       "          -4.3973,  0.6770,  0.6140,  2.7368, -0.4666, -3.0521, -1.4741, -2.2041,\n",
       "          -1.7436, -1.9150, -1.4732, -2.0776]], device='cuda:1'),\n",
       " tensor([[-4.1795, -4.3601, -2.1853, -6.6484, -2.5120, -0.5401, -2.2062, -3.1393,\n",
       "          -3.3680,  0.5509,  0.2600,  2.4771, -0.1929, -2.6958, -0.5709, -1.6018,\n",
       "          -0.7527, -1.6705, -1.0929, -1.6657]], device='cuda:1'),\n",
       " tensor([[-4.9362, -4.5863, -0.6131, -4.9621, -3.1178,  0.5407, -0.8636, -1.3787,\n",
       "          -1.5754,  0.4483,  0.2096,  3.0044,  0.7606, -2.0122, -0.1589, -1.0917,\n",
       "          -1.1224, -1.0646, -0.5658, -1.2123]], device='cuda:1'),\n",
       " tensor([[-4.3131, -3.6778, -3.6771, -8.0895, -0.3139, -1.8128, -2.5809, -1.8811,\n",
       "          -4.3847, -0.2621,  1.3859,  2.4209, -0.2671, -3.2864, -1.7139, -2.3436,\n",
       "          -1.8608, -1.8632, -1.4576, -2.3134]], device='cuda:1'),\n",
       " tensor([[-4.1662, -3.3274, -2.7306, -5.7065, -1.9271, -0.4291, -2.4338, -1.9007,\n",
       "          -3.3989,  0.7539,  0.9857,  2.5716, -0.1889, -2.3209, -0.8863, -1.3841,\n",
       "          -0.8902, -1.5606, -0.8406, -1.6458]], device='cuda:1'),\n",
       " tensor([[-3.8616, -3.5071, -3.4773, -7.6051,  0.4857, -1.6412, -2.6626, -2.0726,\n",
       "          -4.8241,  0.2424,  1.0600,  2.2617, -0.7169, -3.3961, -1.8556, -2.3294,\n",
       "          -2.0306, -1.7967, -1.6011, -2.1889]], device='cuda:1'),\n",
       " tensor([[-4.4091, -3.8866, -4.2819, -7.8848,  0.0436, -0.2059, -2.1702, -2.5521,\n",
       "          -5.1032,  0.8657,  1.0925,  2.5912, -0.7080, -3.0555, -1.8748, -2.2244,\n",
       "          -2.0710, -2.0201, -1.5401, -2.1626]], device='cuda:1'),\n",
       " tensor([[-5.0426e+00, -1.9785e+00,  1.9610e+00, -5.0900e+00,  1.6064e+00,\n",
       "           3.3352e+00,  2.9955e-01,  4.5540e-01, -1.8170e+00,  1.7090e+00,\n",
       "           1.8845e+00,  3.0978e+00,  6.3314e-01, -2.2752e+00, -2.0898e-01,\n",
       "           3.1920e-01, -1.4826e+00, -1.1643e-01,  1.0947e-01, -6.3935e-04]],\n",
       "        device='cuda:1'),\n",
       " tensor([[-4.7656, -4.2992, -3.9174, -8.2256,  0.2931, -0.1397, -2.2340, -2.3965,\n",
       "          -4.9603,  1.0719,  1.0232,  2.6577, -0.7276, -3.1420, -1.8395, -2.1722,\n",
       "          -2.1676, -1.9355, -1.6238, -2.0498]], device='cuda:1'),\n",
       " tensor([[-4.6447, -4.4321, -4.4198, -7.7431, -0.5830, -1.0605, -2.7671, -2.5107,\n",
       "          -4.7447,  0.4623,  0.9657,  2.5069, -0.6246, -2.7449, -1.6590, -2.2219,\n",
       "          -1.6879, -1.9753, -1.5511, -2.1403]], device='cuda:1'),\n",
       " tensor([[-5.1944, -4.6902, -4.2430, -8.3752, -1.3586,  0.2010, -2.3403, -2.8626,\n",
       "          -4.7473,  1.3656,  0.9317,  2.8946, -0.7318, -2.6955, -1.5321, -2.0337,\n",
       "          -1.7391, -2.0525, -1.4783, -1.9654]], device='cuda:1'),\n",
       " tensor([[-4.7418, -1.1356, -1.1275, -4.9066,  0.6501,  2.2710, -0.5901,  0.7856,\n",
       "          -1.7739,  0.8319,  2.1892,  3.1108,  0.7697, -1.5413, -0.7035, -0.2268,\n",
       "          -1.7769, -0.5234,  0.1289, -0.7730]], device='cuda:1'),\n",
       " tensor([[-4.7361, -4.4367, -3.3754, -7.2768, -0.6096, -0.0696, -2.2272, -2.2632,\n",
       "          -4.3512,  1.4928,  0.9239,  2.9196, -0.5739, -2.7512, -1.3652, -1.7653,\n",
       "          -1.7837, -1.7801, -1.3284, -1.6996]], device='cuda:1'),\n",
       " tensor([[-4.9569, -4.6380, -4.5469, -8.6900, -0.9412, -0.2862, -2.3468, -2.8015,\n",
       "          -5.1162,  0.5999,  0.9777,  2.4991, -0.5212, -3.0912, -1.8346, -2.3901,\n",
       "          -1.8376, -2.1991, -1.6403, -2.2425]], device='cuda:1'),\n",
       " tensor([[-3.9402, -3.4465, -3.4336, -7.0351, -0.5001, -1.6064, -2.2722, -2.1212,\n",
       "          -4.1270,  0.1321,  1.3426,  2.4585, -0.2777, -3.0188, -1.2493, -1.9577,\n",
       "          -1.4766, -1.6985, -1.1800, -2.0473]], device='cuda:1'),\n",
       " tensor([[-4.9147, -4.9646, -4.0046, -7.5745, -2.8791,  0.0159, -3.1832, -3.2891,\n",
       "          -4.6130,  1.5334,  0.1538,  2.9057, -0.8240, -2.4467, -1.4198, -2.1328,\n",
       "          -1.4519, -2.2010, -1.5645, -1.9044]], device='cuda:1'),\n",
       " tensor([[-4.8254, -4.0438, -4.4051, -8.5032, -0.1287, -0.0996, -3.3220, -2.1252,\n",
       "          -5.4520,  0.3925,  0.8791,  2.1815, -0.6796, -3.0779, -2.4416, -2.5597,\n",
       "          -2.3341, -2.2771, -1.8471, -2.1737]], device='cuda:1'),\n",
       " tensor([[-5.6228, -4.8920, -0.5428, -5.9591,  0.3547,  1.5907, -0.7503, -1.0007,\n",
       "          -2.7512,  1.1533,  1.0273,  2.8119,  0.1927, -2.2507, -0.6398, -0.8535,\n",
       "          -1.6201, -0.9645, -0.8532, -0.8332]], device='cuda:1'),\n",
       " tensor([[-5.8238e+00, -5.2890e+00, -2.9165e+00, -7.1344e+00, -3.6633e+00,\n",
       "           6.3756e-01, -2.2582e+00, -2.2933e+00, -3.1915e+00,  9.4285e-01,\n",
       "           7.2114e-03,  3.0906e+00, -5.1452e-03, -1.9206e+00, -9.5533e-01,\n",
       "          -1.7715e+00, -1.4185e+00, -1.8167e+00, -1.2326e+00, -1.6282e+00]],\n",
       "        device='cuda:1'),\n",
       " tensor([[-4.4670, -4.6498, -2.9067, -7.6865, -2.3167,  0.4132, -2.5222, -3.6659,\n",
       "          -4.7197,  1.2848,  0.2975,  2.6114, -0.7271, -3.1353, -1.2725, -1.9862,\n",
       "          -1.3575, -2.1502, -1.5030, -1.8330]], device='cuda:1'),\n",
       " tensor([[-4.7134, -4.3932, -4.6009, -8.1693,  0.7480, -1.0304, -2.2270, -2.0005,\n",
       "          -4.9534,  0.5110,  1.2464,  2.5149, -0.5856, -3.0247, -1.8934, -2.3341,\n",
       "          -2.2410, -1.8841, -1.6489, -2.2316]], device='cuda:1'),\n",
       " tensor([[-4.5234, -4.5839, -2.9884, -7.0785, -1.7394, -0.1883, -2.0542, -3.2256,\n",
       "          -4.0678,  0.5835,  0.2208,  2.4161, -0.2894, -2.7655, -1.0211, -1.8928,\n",
       "          -1.1988, -1.8354, -1.3323, -1.8502]], device='cuda:1'),\n",
       " tensor([[-4.5942, -1.8662,  0.6139, -4.4905,  1.7877,  1.8895, -0.2714,  0.0370,\n",
       "          -2.5021,  1.6152,  1.8418,  2.9038,  0.3114, -2.3910, -0.4735, -0.1082,\n",
       "          -1.6426, -0.5036, -0.1142, -0.4608]], device='cuda:1'),\n",
       " tensor([[-4.4377, -4.4528, -3.7406, -7.8427, -1.6005,  0.3577, -2.2513, -3.0807,\n",
       "          -4.7228,  1.1000,  0.5351,  2.5514, -0.4900, -2.9282, -1.4375, -2.0845,\n",
       "          -1.6504, -2.0947, -1.4824, -1.9782]], device='cuda:1'),\n",
       " tensor([[-4.7332, -3.9120, -3.4425, -7.5847, -0.6940, -0.5455, -2.7804, -2.2446,\n",
       "          -4.3521,  0.2959,  0.7082,  2.4561, -0.3566, -2.7787, -1.5612, -2.0306,\n",
       "          -1.7099, -1.9265, -1.4202, -1.9319]], device='cuda:1'),\n",
       " tensor([[-4.5723e+00, -4.0638e+00, -3.1614e+00, -6.5467e+00, -1.7878e+00,\n",
       "           5.7163e-03, -2.1676e+00, -2.6775e+00, -3.7027e+00,  7.1988e-01,\n",
       "           2.6083e-01,  2.6482e+00, -2.0833e-01, -2.2923e+00, -1.0822e+00,\n",
       "          -1.7079e+00, -1.3812e+00, -1.7882e+00, -1.1588e+00, -1.7282e+00]],\n",
       "        device='cuda:1'),\n",
       " tensor([[-5.0109, -2.1057, -1.3568, -4.0642,  0.3477,  2.2974, -0.9532,  0.3735,\n",
       "          -2.1427,  1.7310,  1.8340,  3.0612,  0.4200, -1.5838, -0.7503, -0.2133,\n",
       "          -1.5549, -0.6642, -0.0539, -0.6441]], device='cuda:1'),\n",
       " tensor([[-4.2716, -4.1273, -3.5866, -7.1105, -2.2835, -0.8313, -2.9484, -3.1856,\n",
       "          -4.3466,  0.4749,  0.3259,  2.3582, -0.5912, -2.6825, -1.2030, -2.0746,\n",
       "          -1.0710, -2.0131, -1.4062, -2.0505]], device='cuda:1'),\n",
       " tensor([[-5.5519, -3.8027, -0.1363, -6.6821, -0.3962,  2.2507, -0.6984, -0.9853,\n",
       "          -2.6009,  1.2914,  0.8216,  3.1920,  0.3565, -2.2802, -0.7419, -0.9305,\n",
       "          -1.7858, -0.9646, -0.6977, -0.8079]], device='cuda:1'),\n",
       " tensor([[-4.6415, -4.4812, -3.5362, -7.2168, -1.7693, -0.6832, -2.6557, -2.9810,\n",
       "          -4.3186,  0.7990,  0.4102,  2.6137, -0.5686, -2.5725, -1.2184, -1.9659,\n",
       "          -1.2732, -1.9985, -1.4370, -1.9107]], device='cuda:1'),\n",
       " tensor([[-5.0317, -4.6837, -3.5840, -7.4409, -3.6054,  0.1453, -3.1658, -3.6736,\n",
       "          -4.5839,  0.8958, -0.6642,  2.4074, -0.7214, -2.4464, -1.5134, -2.2169,\n",
       "          -1.2510, -2.3548, -1.6853, -2.0838]], device='cuda:1'),\n",
       " tensor([[-5.5442, -4.8771, -1.3136, -6.1051, -1.9223,  2.0646, -0.8470, -1.7501,\n",
       "          -2.3861,  1.5565,  0.5584,  3.1727,  0.1970, -1.7389, -0.4425, -0.9363,\n",
       "          -1.3281, -1.1922, -0.7513, -1.0054]], device='cuda:1'),\n",
       " tensor([[-5.6649, -4.3929, -3.0215, -7.9256, -1.7128,  1.0039, -2.0910, -2.4489,\n",
       "          -3.9928,  1.1641,  0.7555,  2.7345, -0.3315, -2.2433, -1.2524, -1.6089,\n",
       "          -1.4161, -1.8638, -1.1864, -1.5233]], device='cuda:1'),\n",
       " tensor([[-5.8225, -2.6136,  0.1729, -5.4895, -1.5056,  2.7648, -0.2729, -0.3368,\n",
       "          -1.5738,  1.7762,  1.4132,  3.6294,  0.4654, -1.5203, -0.0889, -0.1016,\n",
       "          -1.2066, -0.5721,  0.0219, -0.4928]], device='cuda:1'),\n",
       " tensor([[-4.5232, -4.2021, -3.0907, -7.0700, -2.2114, -0.7219, -2.8512, -2.7785,\n",
       "          -3.9197,  0.7104,  0.4561,  2.5453, -0.4796, -2.3921, -1.0441, -1.8024,\n",
       "          -1.0419, -1.8169, -1.2755, -1.7790]], device='cuda:1'),\n",
       " tensor([[-4.0939, -3.6932, -1.8849, -5.8644, -0.9428, -0.5979, -2.0015, -2.4225,\n",
       "          -3.9452,  1.0314,  0.5240,  2.2333, -0.6064, -2.6379, -1.0589, -1.4821,\n",
       "          -1.0567, -1.5280, -1.2393, -1.6375]], device='cuda:1'),\n",
       " tensor([[-4.4024, -4.0481, -3.0527, -6.1638, -0.6760, -0.2768, -2.3020, -2.2731,\n",
       "          -3.9883,  1.0569,  0.7104,  2.5443, -0.4058, -2.4853, -1.1175, -1.5619,\n",
       "          -1.3182, -1.7094, -1.1772, -1.6237]], device='cuda:1'),\n",
       " tensor([[-4.4730, -4.1532, -2.9542, -6.4371, -1.5979, -0.1478, -2.3716, -2.6801,\n",
       "          -3.9081,  1.2599,  0.4952,  2.7932, -0.4813, -2.3997, -0.9990, -1.6051,\n",
       "          -1.1774, -1.7592, -1.1717, -1.6571]], device='cuda:1'),\n",
       " tensor([[-4.6215, -3.9550, -2.3529, -7.0139,  1.2736,  0.7823, -1.4352, -1.0524,\n",
       "          -3.7624,  0.5849,  0.8427,  2.4963,  0.0761, -2.7103, -1.6209, -1.7127,\n",
       "          -2.2790, -1.3444, -1.2483, -1.5576]], device='cuda:1'),\n",
       " tensor([[-5.3176, -3.7876,  1.5386, -3.7718,  0.6524,  2.6202,  0.1508,  0.1020,\n",
       "          -1.2384,  1.7492,  1.2313,  2.9733,  0.5635, -1.7582,  0.0546,  0.1235,\n",
       "          -1.1610, -0.2192, -0.1392, -0.0996]], device='cuda:1'),\n",
       " tensor([[-4.8728, -3.9177, -4.0222, -8.2569,  0.9144, -1.6530, -2.7675, -1.4862,\n",
       "          -4.7428, -0.3723,  1.2126,  2.2738, -0.4139, -3.0925, -2.0913, -2.4477,\n",
       "          -2.3249, -1.8975, -1.6746, -2.2679]], device='cuda:1'),\n",
       " tensor([[-5.1792, -5.0596, -3.3172, -8.1256, -1.2287, -0.2485, -2.2590, -2.7959,\n",
       "          -4.4898,  1.0491,  0.4734,  2.3649, -0.6606, -2.9665, -1.5029, -2.0213,\n",
       "          -1.4622, -1.9379, -1.5755, -1.9134]], device='cuda:1'),\n",
       " tensor([[-4.5669, -4.0462, -1.1971, -7.0230, -0.7534,  1.4054, -1.3433, -1.6200,\n",
       "          -3.4698,  0.5723,  0.4098,  2.5733,  0.2490, -2.9133, -1.2720, -1.6321,\n",
       "          -1.9016, -1.4771, -1.1358, -1.5109]], device='cuda:1'),\n",
       " tensor([[-4.9531, -4.3635, -4.0973, -6.9439, -2.4337, -0.2126, -1.9957, -2.4735,\n",
       "          -3.6895,  1.2196,  0.6756,  3.1827, -0.1632, -2.0008, -1.0592, -1.8005,\n",
       "          -1.3889, -1.7744, -1.0622, -1.8846]], device='cuda:1'),\n",
       " tensor([[-4.5561, -4.3719, -4.0370, -6.1017, -2.0941, -1.2175, -2.9609, -2.4559,\n",
       "          -4.0933,  0.6871,  0.2472,  2.2422, -0.3741, -2.1991, -1.2899, -1.9607,\n",
       "          -1.1456, -1.9526, -1.3401, -2.0164]], device='cuda:1'),\n",
       " tensor([[-4.9460, -4.9629, -4.1635, -8.0619, -1.3181, -0.6004, -2.3500, -3.0404,\n",
       "          -4.7858,  1.0768,  0.5604,  2.7205, -0.7236, -2.7892, -1.5305, -2.2248,\n",
       "          -1.6489, -2.0363, -1.6236, -2.0893]], device='cuda:1'),\n",
       " tensor([[-5.3189, -4.8465, -3.3383, -6.9958, -0.8861, -0.1052, -1.9459, -1.9877,\n",
       "          -3.7618,  1.0200,  0.8668,  2.8004, -0.2752, -2.1143, -1.2407, -1.6837,\n",
       "          -1.5804, -1.5849, -1.2497, -1.6016]], device='cuda:1'),\n",
       " tensor([[-4.7489, -4.9172, -2.8388, -5.7981, -2.6958,  0.8809, -2.2293, -2.9110,\n",
       "          -3.6177,  1.4360, -0.1658,  2.4798, -0.4305, -1.9538, -1.0281, -1.5745,\n",
       "          -0.9582, -1.8497, -1.2949, -1.5542]], device='cuda:1'),\n",
       " tensor([[-4.4849, -4.4405, -4.5101, -7.6874, -1.2924, -0.3913, -2.7636, -2.8421,\n",
       "          -4.9610,  1.1272,  0.9396,  2.6626, -0.7319, -2.8553, -1.6963, -2.1718,\n",
       "          -1.5899, -2.1842, -1.5695, -2.1208]], device='cuda:1'),\n",
       " tensor([[-4.9070, -5.0080, -4.7575, -8.1113, -1.1704, -0.0905, -2.7150, -3.0229,\n",
       "          -5.1541,  1.1340,  0.6441,  2.7127, -0.7913, -2.7656, -1.9049, -2.3602,\n",
       "          -1.8306, -2.2308, -1.7637, -2.1355]], device='cuda:1'),\n",
       " tensor([[-5.2454, -4.7075, -4.2189, -8.3837, -0.4063, -0.8345, -2.9678, -2.1582,\n",
       "          -4.6429,  0.2600,  0.8684,  2.4480, -0.4709, -2.7268, -1.9102, -2.3219,\n",
       "          -1.8762, -2.0951, -1.6672, -2.0987]], device='cuda:1'),\n",
       " tensor([[-5.2259, -5.0109, -3.1469, -7.3716, -0.9911, -0.0729, -1.7551, -2.4886,\n",
       "          -4.0250,  1.1527,  0.4638,  2.7588, -0.3783, -2.4887, -1.1583, -1.8099,\n",
       "          -1.6270, -1.7027, -1.3404, -1.7283]], device='cuda:1'),\n",
       " tensor([[-4.5435, -2.8187, -2.0560, -6.1113,  1.3947, -0.2083, -0.9504, -0.1924,\n",
       "          -3.3973,  0.4374,  1.5553,  2.7707,  0.1933, -2.6374, -1.3124, -1.3811,\n",
       "          -2.3763, -1.0340, -0.8372, -1.5416]], device='cuda:1'),\n",
       " tensor([[-5.1423, -2.8963,  1.6591, -3.0681,  2.5441,  2.4623,  0.9074,  1.1516,\n",
       "          -0.9761,  1.4888,  1.9232,  2.9012,  0.9814, -1.6423,  0.1011,  0.5564,\n",
       "          -1.3218,  0.1926,  0.2490,  0.0389]], device='cuda:1'),\n",
       " tensor([[-5.2274, -2.1715,  2.6473, -4.9077,  0.7949,  3.9717,  0.9627,  0.0424,\n",
       "          -1.4414,  2.2029,  1.7045,  3.2162,  0.5250, -1.8500,  0.1827,  0.5902,\n",
       "          -1.1128, -0.0692,  0.1954,  0.2212]], device='cuda:1'),\n",
       " tensor([[-5.5248, -4.2249,  2.2288, -4.0964, -0.7127,  4.4706,  0.5212, -0.4871,\n",
       "          -1.2566,  2.2036,  0.9513,  3.0322,  0.4335, -1.6197,  0.1638,  0.2696,\n",
       "          -0.8156, -0.4207, -0.2280,  0.1440]], device='cuda:1'),\n",
       " tensor([[-5.5207, -4.9818,  2.3586, -3.6359, -0.0513,  4.2571,  1.0992,  0.4324,\n",
       "          -0.5484,  1.8552,  1.1407,  3.1732,  1.0727, -1.6107,  0.3544,  0.3349,\n",
       "          -1.0183, -0.0477, -0.0311,  0.2592]], device='cuda:1'),\n",
       " tensor([[-5.6500, -3.8961,  2.7997, -4.3675, -1.2625,  4.6765,  1.0473, -0.2125,\n",
       "          -0.4831,  2.4126,  1.2531,  3.5565,  0.7030, -1.4114,  0.5563,  0.5958,\n",
       "          -0.6795, -0.0906,  0.1533,  0.2700]], device='cuda:1'),\n",
       " tensor([[-5.1883, -4.6205, -1.6179, -7.0052, -0.3056,  1.0323, -1.2535, -1.7939,\n",
       "          -3.6004,  1.2128,  0.7984,  2.6862, -0.1373, -2.6069, -1.0411, -1.3552,\n",
       "          -1.6525, -1.4288, -1.1745, -1.3201]], device='cuda:1'),\n",
       " tensor([[-5.3318, -0.7047,  2.6379, -3.4371,  0.3461,  3.9339,  1.0029,  1.3818,\n",
       "          -0.2075,  2.0060,  2.5079,  3.5863,  1.0348, -1.2666,  0.4909,  1.1584,\n",
       "          -0.9573,  0.3589,  0.9930,  0.3444]], device='cuda:1'),\n",
       " tensor([[-5.0971, -3.7974,  0.4198, -5.4963, -0.0399,  2.6456, -0.3504, -1.0582,\n",
       "          -2.4842,  1.8802,  1.1407,  2.8065,  0.0716, -1.9865, -0.3875, -0.3011,\n",
       "          -1.0713, -0.8372, -0.5592, -0.4724]], device='cuda:1'),\n",
       " tensor([[-5.3387, -2.4478,  5.4376, -2.5172,  0.1323,  5.4827,  2.0600,  1.4748,\n",
       "           0.9018,  2.4321,  1.7935,  3.5144,  1.1461, -1.1663,  1.0463,  1.6099,\n",
       "          -0.5069,  0.8990,  0.8809,  1.0413]], device='cuda:1'),\n",
       " tensor([[-4.7605, -2.9394,  2.7682, -3.8455,  0.9730,  4.9424,  0.8505,  0.2905,\n",
       "          -1.3889,  2.4053,  1.7366,  2.8820,  0.5176, -2.0668, -0.0768,  0.6201,\n",
       "          -1.0583, -0.0827,  0.0786,  0.4218]], device='cuda:1'),\n",
       " tensor([[-4.9926, -1.9581,  2.6926, -3.9063,  2.2335,  2.6694,  0.7183,  1.0278,\n",
       "          -1.0470,  1.5529,  2.0651,  2.8539,  0.8174, -1.9244,  0.1335,  0.6227,\n",
       "          -1.1283,  0.2564,  0.3352,  0.2049]], device='cuda:1'),\n",
       " tensor([[-5.3803, -3.0885,  2.4946, -3.8220,  0.0910,  3.7049,  0.6262,  0.9864,\n",
       "          -0.4042,  1.2677,  1.5498,  3.1783,  1.2186, -1.5097,  0.0776,  0.4308,\n",
       "          -1.1394, -0.0161,  0.2301,  0.1294]], device='cuda:1'),\n",
       " tensor([[-4.6547, -2.4318,  1.1537, -3.8922,  0.4845,  1.6577,  0.2618,  0.6027,\n",
       "          -0.9896,  1.0660,  1.9783,  2.9894,  0.9645, -1.7807,  0.1082,  0.1396,\n",
       "          -1.1577, -0.2153,  0.1887, -0.3504]], device='cuda:1'),\n",
       " tensor([[-4.8712, -3.4219,  1.5373, -4.0139,  1.4615,  2.0313,  0.3217,  0.5900,\n",
       "          -1.3215,  1.1018,  1.4018,  2.7873,  0.8348, -2.0221, -0.0975, -0.0416,\n",
       "          -1.4866, -0.1384, -0.1546, -0.2823]], device='cuda:1'),\n",
       " tensor([[-5.5661e+00, -4.1846e+00,  1.3575e+00, -5.3918e+00,  5.7415e-01,\n",
       "           3.3326e+00,  6.8360e-01, -3.3295e-01, -1.7674e+00,  1.7899e+00,\n",
       "           1.2944e+00,  3.1391e+00,  6.2887e-01, -1.9880e+00,  7.6862e-04,\n",
       "           7.2483e-03, -1.3492e+00, -3.6563e-01, -2.2938e-01, -1.5750e-01]],\n",
       "        device='cuda:1'),\n",
       " tensor([[-5.1166, -2.9585,  2.6575, -4.4965, -0.9570,  4.9378,  0.7197, -0.3760,\n",
       "          -1.2463,  2.4304,  1.0344,  3.4187,  0.5932, -1.8089,  0.0382,  0.3833,\n",
       "          -1.1435, -0.3676, -0.0308,  0.1422]], device='cuda:1'),\n",
       " tensor([[-5.1915, -1.9964,  3.7152, -4.0320,  0.8014,  4.2334,  1.3161,  1.1287,\n",
       "          -0.5563,  1.9466,  1.7168,  3.3945,  1.1407, -1.8957,  0.3108,  0.8045,\n",
       "          -1.2803,  0.2932,  0.4566,  0.3771]], device='cuda:1'),\n",
       " tensor([[-4.8122, -3.0243,  1.5327, -5.3027,  0.5143,  2.5302,  0.0278, -0.1872,\n",
       "          -2.0639,  1.4129,  1.2082,  2.9421,  0.5234, -2.4734, -0.3234, -0.2583,\n",
       "          -1.4718, -0.5017, -0.3244, -0.4401]], device='cuda:1'),\n",
       " tensor([[-5.2071, -4.1522,  4.8123, -4.0057,  0.3878,  4.7917,  1.5993,  0.3060,\n",
       "          -0.4001,  2.0167,  1.2451,  3.0076,  0.9677, -2.1046,  0.6096,  0.7544,\n",
       "          -0.8004,  0.2284,  0.0230,  0.5667]], device='cuda:1'),\n",
       " tensor([[-5.0007, -3.5063,  3.7792, -2.8848, -1.9044,  5.2379,  1.0823,  0.0309,\n",
       "          -0.0479,  2.5134,  1.0656,  3.3414,  0.8045, -1.3822,  0.7062,  0.8332,\n",
       "          -0.4257, -0.0540,  0.3295,  0.4898]], device='cuda:1'),\n",
       " tensor([[-5.0369, -1.1013, -0.1477, -4.4159,  1.0560,  1.4508, -0.3969,  0.4275,\n",
       "          -1.9643,  1.3643,  1.7555,  2.9724,  0.2698, -1.5328, -0.5520, -0.1156,\n",
       "          -1.7152, -0.3728,  0.0361, -0.7169]], device='cuda:1')]"
      ]
     },
     "execution_count": 65,
     "metadata": {},
     "output_type": "execute_result"
    }
   ],
   "source": [
    "preds"
   ]
  },
  {
   "cell_type": "code",
   "execution_count": 87,
   "id": "832b6256-6fa0-43bb-8511-f6865062e3e5",
   "metadata": {
    "tags": []
   },
   "outputs": [
    {
     "data": {
      "text/plain": [
       "tensor([0., 1., 0., 1., 0., 0., 0., 0., 0., 0., 1., 1., 1., 0., 0., 1., 0., 0.,\n",
       "        0., 0., 0., 1., 1., 1., 0., 0., 0., 0., 0., 0., 0., 0., 0., 0., 0., 1.,\n",
       "        0., 0., 0., 0., 0., 0., 1., 0., 0., 0., 0., 0., 0., 0., 0., 1., 0., 1.,\n",
       "        1., 0., 0., 0., 0., 0., 0., 0., 0., 0., 1., 0., 0., 0., 0., 0., 1., 0.,\n",
       "        0., 0., 0., 0., 0., 0., 0., 0., 0., 0., 0., 1., 1., 1., 1., 0., 0., 0.,\n",
       "        1., 1., 1., 1., 1., 0., 0., 0., 1., 1., 1., 0., 1., 0., 1.])"
      ]
     },
     "execution_count": 87,
     "metadata": {},
     "output_type": "execute_result"
    }
   ],
   "source": [
    "torch.cat(all_events)"
   ]
  },
  {
   "cell_type": "code",
   "execution_count": 88,
   "id": "905b6b1a-b2a9-476d-8a3d-10a495f97748",
   "metadata": {
    "tags": []
   },
   "outputs": [
    {
     "data": {
      "text/plain": [
       "tensor([10,  4,  4,  3,  4, 11,  6,  1,  2,  1,  5,  2,  1,  8,  8,  4,  1,  1,\n",
       "         1,  2,  7,  6,  2,  7,  3,  1,  1,  1,  0,  3,  2,  0,  0,  1,  5,  1,\n",
       "         0,  4,  0,  2,  0,  0,  1,  2,  0,  0,  2,  0,  0,  0,  5,  4,  2,  2,\n",
       "         2,  0,  1,  1,  0,  1,  0,  5,  0,  1,  3,  2,  6,  0,  1,  1,  5,  4,\n",
       "         2,  2,  2,  1,  5,  1,  0,  2,  1,  3,  4,  2,  1,  1,  1,  0,  2,  2,\n",
       "         1,  2,  4,  2,  2,  0,  0,  0,  1,  2,  1,  0,  2,  1,  2])"
      ]
     },
     "execution_count": 88,
     "metadata": {},
     "output_type": "execute_result"
    }
   ],
   "source": [
    "torch.cat(all_times)"
   ]
  },
  {
   "cell_type": "code",
   "execution_count": 66,
   "id": "dd436c20-7b08-4154-afc7-3eb4a223ba55",
   "metadata": {
    "tags": []
   },
   "outputs": [],
   "source": [
    "hazard = torch.cat(preds, dim=0)\n",
    "survival = (1 - hazard.sigmoid()).add(1e-7).log().cumsum(1).exp().cpu().numpy()"
   ]
  },
  {
   "cell_type": "code",
   "execution_count": null,
   "id": "a55e2fad-b475-4b2f-bb49-abff555f167d",
   "metadata": {},
   "outputs": [],
   "source": []
  },
  {
   "cell_type": "code",
   "execution_count": 77,
   "id": "fae26020-7b2a-4c8e-824c-1fc323564d1f",
   "metadata": {
    "tags": []
   },
   "outputs": [
    {
     "data": {
      "text/plain": [
       "[tensor(0.9906, device='cuda:1'),\n",
       " tensor(0.9697, device='cuda:1'),\n",
       " tensor(0.9291, device='cuda:1'),\n",
       " tensor(0.9286, device='cuda:1'),\n",
       " tensor(0.7378, device='cuda:1'),\n",
       " tensor(0.3631, device='cuda:1'),\n",
       " tensor(0.3354, device='cuda:1'),\n",
       " tensor(0.3037, device='cuda:1'),\n",
       " tensor(0.3010, device='cuda:1'),\n",
       " tensor(0.0959, device='cuda:1'),\n",
       " tensor(0.0304, device='cuda:1'),\n",
       " tensor(0.0024, device='cuda:1'),\n",
       " tensor(0.0015, device='cuda:1'),\n",
       " tensor(0.0014, device='cuda:1'),\n",
       " tensor(0.0012, device='cuda:1'),\n",
       " tensor(0.0010, device='cuda:1'),\n",
       " tensor(0.0009, device='cuda:1'),\n",
       " tensor(0.0008, device='cuda:1'),\n",
       " tensor(0.0006, device='cuda:1'),\n",
       " tensor(0.0006, device='cuda:1')]"
      ]
     },
     "execution_count": 77,
     "metadata": {},
     "output_type": "execute_result"
    }
   ],
   "source": [
    "list((1-hazard.sigmoid()).log().cumsum(1).exp()[0])"
   ]
  },
  {
   "cell_type": "code",
   "execution_count": 69,
   "id": "4bb8bfd1-b97a-4f4d-8ebb-4d68c6d5169b",
   "metadata": {
    "tags": []
   },
   "outputs": [
    {
     "data": {
      "text/plain": [
       "[0.9905767,\n",
       " 0.96967584,\n",
       " 0.9290581,\n",
       " 0.9286264,\n",
       " 0.7378189,\n",
       " 0.36310634,\n",
       " 0.3353726,\n",
       " 0.30365166,\n",
       " 0.30096436,\n",
       " 0.09586066,\n",
       " 0.030431017,\n",
       " 0.0024173197,\n",
       " 0.0014918824,\n",
       " 0.0014180858,\n",
       " 0.0011885858,\n",
       " 0.0010442581,\n",
       " 0.0008882435,\n",
       " 0.00077382376,\n",
       " 0.00062986463,\n",
       " 0.0005512361]"
      ]
     },
     "execution_count": 69,
     "metadata": {},
     "output_type": "execute_result"
    }
   ],
   "source": [
    "list(survival[0])"
   ]
  },
  {
   "cell_type": "code",
   "execution_count": 82,
   "id": "ae970bb8-de6c-43da-bd4e-c6cf817ea7dd",
   "metadata": {
    "tags": []
   },
   "outputs": [
    {
     "data": {
      "text/plain": [
       "[0.99000895,\n",
       " 0.9753268,\n",
       " 0.9654133,\n",
       " 0.96521014,\n",
       " 0.36818013,\n",
       " 0.23485199,\n",
       " 0.2150562,\n",
       " 0.1955076,\n",
       " 0.19457875,\n",
       " 0.07037575,\n",
       " 0.017163422,\n",
       " 0.0012763557,\n",
       " 0.00082748523,\n",
       " 0.0007977467,\n",
       " 0.000709689,\n",
       " 0.0006533454,\n",
       " 0.0005916509,\n",
       " 0.00052501884,\n",
       " 0.0004426283,\n",
       " 0.00040166816]"
      ]
     },
     "execution_count": 82,
     "metadata": {},
     "output_type": "execute_result"
    }
   ],
   "source": [
    "list(survival[16])"
   ]
  },
  {
   "cell_type": "code",
   "execution_count": 92,
   "id": "7f9397c9-8126-4fc1-b1cc-68b167e9d663",
   "metadata": {
    "tags": []
   },
   "outputs": [
    {
     "data": {
      "text/plain": [
       "[0.9909656,\n",
       " 0.972064,\n",
       " 0.9497327,\n",
       " 0.94937426,\n",
       " 0.4761446,\n",
       " 0.30232465,\n",
       " 0.27606425,\n",
       " 0.24590456,\n",
       " 0.24332002,\n",
       " 0.08511392,\n",
       " 0.020200983,\n",
       " 0.0014052902,\n",
       " 0.0008823904,\n",
       " 0.0008318282,\n",
       " 0.0007050962,\n",
       " 0.0006269503,\n",
       " 0.00054568576,\n",
       " 0.0004665873,\n",
       " 0.00037486068,\n",
       " 0.00032627684]"
      ]
     },
     "execution_count": 92,
     "metadata": {},
     "output_type": "execute_result"
    }
   ],
   "source": [
    "list(survival[5])"
   ]
  },
  {
   "cell_type": "code",
   "execution_count": 93,
   "id": "31a5a5f3-18b2-4d59-84c8-497c7cd17f2a",
   "metadata": {
    "tags": []
   },
   "outputs": [
    {
     "data": {
      "text/plain": [
       "tensor(11)"
      ]
     },
     "execution_count": 93,
     "metadata": {},
     "output_type": "execute_result"
    }
   ],
   "source": [
    "torch.cat(all_times)[5]"
   ]
  },
  {
   "cell_type": "code",
   "execution_count": 94,
   "id": "da45debc-b6d1-40a4-8a7b-db90c3525c8e",
   "metadata": {
    "tags": []
   },
   "outputs": [
    {
     "data": {
      "text/plain": [
       "tensor(0.)"
      ]
     },
     "execution_count": 94,
     "metadata": {},
     "output_type": "execute_result"
    }
   ],
   "source": [
    "torch.cat(all_events)[5]"
   ]
  },
  {
   "cell_type": "code",
   "execution_count": 90,
   "id": "bc286918-63b2-47b6-8078-d8efb5ade98b",
   "metadata": {
    "tags": []
   },
   "outputs": [
    {
     "data": {
      "text/plain": [
       "tensor(7)"
      ]
     },
     "execution_count": 90,
     "metadata": {},
     "output_type": "execute_result"
    }
   ],
   "source": [
    "torch.cat(all_times)[23]"
   ]
  },
  {
   "cell_type": "code",
   "execution_count": 91,
   "id": "47301780-6752-434b-a1fb-c454cd048174",
   "metadata": {
    "tags": []
   },
   "outputs": [
    {
     "data": {
      "text/plain": [
       "tensor(1.)"
      ]
     },
     "execution_count": 91,
     "metadata": {},
     "output_type": "execute_result"
    }
   ],
   "source": [
    "torch.cat(all_events)[23]"
   ]
  },
  {
   "cell_type": "code",
   "execution_count": 89,
   "id": "9b6569ae-0589-40aa-a978-bbf0392d81a4",
   "metadata": {
    "tags": []
   },
   "outputs": [
    {
     "data": {
      "text/plain": [
       "[0.9909644,\n",
       " 0.9797046,\n",
       " 0.94696563,\n",
       " 0.94592875,\n",
       " 0.8564666,\n",
       " 0.55802685,\n",
       " 0.5085648,\n",
       " 0.47794828,\n",
       " 0.46823102,\n",
       " 0.13969141,\n",
       " 0.05637174,\n",
       " 0.0034707126,\n",
       " 0.0020922064,\n",
       " 0.0018915386,\n",
       " 0.001375318,\n",
       " 0.0011793581,\n",
       " 0.00088881503,\n",
       " 0.0007629653,\n",
       " 0.0005914915,\n",
       " 0.00050906744]"
      ]
     },
     "execution_count": 89,
     "metadata": {},
     "output_type": "execute_result"
    }
   ],
   "source": [
    "list(survival[23])"
   ]
  },
  {
   "cell_type": "code",
   "execution_count": 38,
   "id": "fa0f313d-ff57-401a-9205-e887372fa145",
   "metadata": {
    "tags": []
   },
   "outputs": [
    {
     "data": {
      "text/plain": [
       "tensor([0.7311, 0.8808, 0.9526, 0.9820])"
      ]
     },
     "execution_count": 38,
     "metadata": {},
     "output_type": "execute_result"
    }
   ],
   "source": [
    "torch.tensor([1,2,3,4]).sigmoid()"
   ]
  },
  {
   "cell_type": "code",
   "execution_count": 39,
   "id": "6d7f9b4d-ef70-4dcd-80ca-c22bb28c914e",
   "metadata": {
    "tags": []
   },
   "outputs": [
    {
     "data": {
      "text/plain": [
       "107"
      ]
     },
     "execution_count": 39,
     "metadata": {},
     "output_type": "execute_result"
    }
   ],
   "source": [
    "len(preds)"
   ]
  },
  {
   "cell_type": "code",
   "execution_count": 40,
   "id": "41bdaf3e-32a3-4a35-a0cd-22244ba4db34",
   "metadata": {
    "tags": []
   },
   "outputs": [
    {
     "data": {
      "text/plain": [
       "107"
      ]
     },
     "execution_count": 40,
     "metadata": {},
     "output_type": "execute_result"
    }
   ],
   "source": [
    "len(torch.cat(all_times, dim=0))"
   ]
  },
  {
   "cell_type": "code",
   "execution_count": 41,
   "id": "ec0ea23d-8eaf-4d69-90dd-80d7eda6b479",
   "metadata": {
    "tags": []
   },
   "outputs": [],
   "source": [
    "hazard = torch.cat(preds, dim=0)"
   ]
  },
  {
   "cell_type": "code",
   "execution_count": 42,
   "id": "88743fa0-06d8-49f1-bae8-2ee4efa68256",
   "metadata": {
    "tags": []
   },
   "outputs": [],
   "source": [
    "survival = (1 - hazard.sigmoid()).add(1e-7).log().cumsum(1).exp().cpu().numpy()"
   ]
  },
  {
   "cell_type": "code",
   "execution_count": 43,
   "id": "84f31456-f9fa-4916-94d2-9f0f247a776d",
   "metadata": {
    "tags": []
   },
   "outputs": [
    {
     "data": {
      "text/plain": [
       "(107, 20)"
      ]
     },
     "execution_count": 43,
     "metadata": {},
     "output_type": "execute_result"
    }
   ],
   "source": [
    "survival.shape"
   ]
  },
  {
   "cell_type": "code",
   "execution_count": 99,
   "id": "1723ef32-46aa-482a-a332-1672385dbde8",
   "metadata": {
    "tags": []
   },
   "outputs": [
    {
     "data": {
      "text/html": [
       "<div>\n",
       "<style scoped>\n",
       "    .dataframe tbody tr th:only-of-type {\n",
       "        vertical-align: middle;\n",
       "    }\n",
       "\n",
       "    .dataframe tbody tr th {\n",
       "        vertical-align: top;\n",
       "    }\n",
       "\n",
       "    .dataframe thead th {\n",
       "        text-align: right;\n",
       "    }\n",
       "</style>\n",
       "<table border=\"1\" class=\"dataframe\">\n",
       "  <thead>\n",
       "    <tr style=\"text-align: right;\">\n",
       "      <th></th>\n",
       "      <th>time</th>\n",
       "      <th>event</th>\n",
       "      <th>new_time</th>\n",
       "      <th>new_event</th>\n",
       "    </tr>\n",
       "  </thead>\n",
       "  <tbody>\n",
       "    <tr>\n",
       "      <th>0</th>\n",
       "      <td>9.791781</td>\n",
       "      <td>0</td>\n",
       "      <td>10</td>\n",
       "      <td>0.0</td>\n",
       "    </tr>\n",
       "    <tr>\n",
       "      <th>1</th>\n",
       "      <td>3.030137</td>\n",
       "      <td>1</td>\n",
       "      <td>4</td>\n",
       "      <td>1.0</td>\n",
       "    </tr>\n",
       "    <tr>\n",
       "      <th>2</th>\n",
       "      <td>4.468493</td>\n",
       "      <td>0</td>\n",
       "      <td>4</td>\n",
       "      <td>0.0</td>\n",
       "    </tr>\n",
       "    <tr>\n",
       "      <th>3</th>\n",
       "      <td>2.230137</td>\n",
       "      <td>1</td>\n",
       "      <td>3</td>\n",
       "      <td>1.0</td>\n",
       "    </tr>\n",
       "    <tr>\n",
       "      <th>4</th>\n",
       "      <td>4.295890</td>\n",
       "      <td>0</td>\n",
       "      <td>4</td>\n",
       "      <td>0.0</td>\n",
       "    </tr>\n",
       "    <tr>\n",
       "      <th>...</th>\n",
       "      <td>...</td>\n",
       "      <td>...</td>\n",
       "      <td>...</td>\n",
       "      <td>...</td>\n",
       "    </tr>\n",
       "    <tr>\n",
       "      <th>100</th>\n",
       "      <td>0.210959</td>\n",
       "      <td>1</td>\n",
       "      <td>1</td>\n",
       "      <td>1.0</td>\n",
       "    </tr>\n",
       "    <tr>\n",
       "      <th>101</th>\n",
       "      <td>0.438356</td>\n",
       "      <td>0</td>\n",
       "      <td>0</td>\n",
       "      <td>0.0</td>\n",
       "    </tr>\n",
       "    <tr>\n",
       "      <th>102</th>\n",
       "      <td>1.490411</td>\n",
       "      <td>1</td>\n",
       "      <td>2</td>\n",
       "      <td>1.0</td>\n",
       "    </tr>\n",
       "    <tr>\n",
       "      <th>103</th>\n",
       "      <td>1.210959</td>\n",
       "      <td>0</td>\n",
       "      <td>1</td>\n",
       "      <td>0.0</td>\n",
       "    </tr>\n",
       "    <tr>\n",
       "      <th>104</th>\n",
       "      <td>1.328767</td>\n",
       "      <td>1</td>\n",
       "      <td>2</td>\n",
       "      <td>1.0</td>\n",
       "    </tr>\n",
       "  </tbody>\n",
       "</table>\n",
       "<p>105 rows × 4 columns</p>\n",
       "</div>"
      ],
      "text/plain": [
       "         time  event  new_time  new_event\n",
       "0    9.791781      0        10        0.0\n",
       "1    3.030137      1         4        1.0\n",
       "2    4.468493      0         4        0.0\n",
       "3    2.230137      1         3        1.0\n",
       "4    4.295890      0         4        0.0\n",
       "..        ...    ...       ...        ...\n",
       "100  0.210959      1         1        1.0\n",
       "101  0.438356      0         0        0.0\n",
       "102  1.490411      1         2        1.0\n",
       "103  1.210959      0         1        0.0\n",
       "104  1.328767      1         2        1.0\n",
       "\n",
       "[105 rows x 4 columns]"
      ]
     },
     "execution_count": 99,
     "metadata": {},
     "output_type": "execute_result"
    }
   ],
   "source": [
    "datasets[\"val\"].data[[\"time\", \"event\", \"new_time\", \"new_event\"]]"
   ]
  },
  {
   "cell_type": "code",
   "execution_count": 115,
   "id": "5e84936a-dd1b-4f4c-ba5a-55d0a3e9ebf7",
   "metadata": {
    "tags": []
   },
   "outputs": [],
   "source": [
    "val_data =datasets[\"val\"].data[[\"time\", \"event\", \"new_time\", \"new_event\"]]\n",
    "train_data =datasets[\"train\"].data[[\"time\", \"event\", \"new_time\", \"new_event\"]]\n",
    "test_data =datasets[\"test\"].data[[\"time\", \"event\", \"new_time\", \"new_event\"]]"
   ]
  },
  {
   "cell_type": "code",
   "execution_count": 114,
   "id": "04709dae-3318-4412-86d1-f3dd29e433b8",
   "metadata": {
    "tags": []
   },
   "outputs": [
    {
     "data": {
      "text/plain": [
       "count    30.000000\n",
       "mean      2.533333\n",
       "std       1.634400\n",
       "min       1.000000\n",
       "25%       1.000000\n",
       "50%       2.000000\n",
       "75%       3.750000\n",
       "max       7.000000\n",
       "Name: new_time, dtype: float64"
      ]
     },
     "execution_count": 114,
     "metadata": {},
     "output_type": "execute_result"
    }
   ],
   "source": [
    "val_data.loc[val_data.event==1]['new_time'].describe()"
   ]
  },
  {
   "cell_type": "code",
   "execution_count": 116,
   "id": "2aa087fc-b51d-467f-b767-771dfae71437",
   "metadata": {
    "tags": []
   },
   "outputs": [
    {
     "data": {
      "text/plain": [
       "count    167.000000\n",
       "mean       3.185629\n",
       "std        2.942466\n",
       "min        1.000000\n",
       "25%        1.000000\n",
       "50%        2.000000\n",
       "75%        4.000000\n",
       "max       16.000000\n",
       "Name: new_time, dtype: float64"
      ]
     },
     "execution_count": 116,
     "metadata": {},
     "output_type": "execute_result"
    }
   ],
   "source": [
    "train_data.loc[train_data.event==1]['new_time'].describe()"
   ]
  },
  {
   "cell_type": "code",
   "execution_count": 173,
   "id": "05ad814a-9ddb-44ee-9902-070d353340da",
   "metadata": {
    "tags": []
   },
   "outputs": [],
   "source": [
    "import seaborn as sns"
   ]
  },
  {
   "cell_type": "code",
   "execution_count": 172,
   "id": "45b1be2a-e9dc-400e-8151-572cbd6f2dcc",
   "metadata": {
    "tags": []
   },
   "outputs": [
    {
     "data": {
      "text/plain": [
       "<Axes: >"
      ]
     },
     "execution_count": 172,
     "metadata": {},
     "output_type": "execute_result"
    },
    {
     "data": {
      "image/png": "[encoded data removed]",
      "text/plain": [
       "<Figure size 640x480 with 1 Axes>"
      ]
     },
     "metadata": {},
     "output_type": "display_data"
    }
   ],
   "source": [
    "train_data.loc[train_data.event==1]['new_time'].hist()"
   ]
  },
  {
   "cell_type": "code",
   "execution_count": 175,
   "id": "451633c3-ca19-459e-b21f-f59d4473137d",
   "metadata": {
    "tags": []
   },
   "outputs": [
    {
     "data": {
      "text/plain": [
       "<Axes: xlabel='new_time', ylabel='Density'>"
      ]
     },
     "execution_count": 175,
     "metadata": {},
     "output_type": "execute_result"
    },
    {
     "data": {
      "image/png": "[encoded data removed]",
      "text/plain": [
       "<Figure size 640x480 with 1 Axes>"
      ]
     },
     "metadata": {},
     "output_type": "display_data"
    }
   ],
   "source": [
    "sns.kdeplot(train_data.loc[train_data.event==1]['new_time'])"
   ]
  },
  {
   "cell_type": "code",
   "execution_count": 259,
   "id": "f939c6ba-2603-45d7-b8b2-fdffa3f9baf0",
   "metadata": {
    "tags": []
   },
   "outputs": [
    {
     "data": {
      "text/html": [
       "<div>\n",
       "<style scoped>\n",
       "    .dataframe tbody tr th:only-of-type {\n",
       "        vertical-align: middle;\n",
       "    }\n",
       "\n",
       "    .dataframe tbody tr th {\n",
       "        vertical-align: top;\n",
       "    }\n",
       "\n",
       "    .dataframe thead th {\n",
       "        text-align: right;\n",
       "    }\n",
       "</style>\n",
       "<table border=\"1\" class=\"dataframe\">\n",
       "  <thead>\n",
       "    <tr style=\"text-align: right;\">\n",
       "      <th></th>\n",
       "      <th>time</th>\n",
       "      <th>event</th>\n",
       "      <th>new_time</th>\n",
       "      <th>new_event</th>\n",
       "    </tr>\n",
       "  </thead>\n",
       "  <tbody>\n",
       "    <tr>\n",
       "      <th>0</th>\n",
       "      <td>0.641096</td>\n",
       "      <td>1</td>\n",
       "      <td>1</td>\n",
       "      <td>1.0</td>\n",
       "    </tr>\n",
       "    <tr>\n",
       "      <th>1</th>\n",
       "      <td>3.657534</td>\n",
       "      <td>1</td>\n",
       "      <td>4</td>\n",
       "      <td>1.0</td>\n",
       "    </tr>\n",
       "    <tr>\n",
       "      <th>4</th>\n",
       "      <td>0.531507</td>\n",
       "      <td>1</td>\n",
       "      <td>1</td>\n",
       "      <td>1.0</td>\n",
       "    </tr>\n",
       "    <tr>\n",
       "      <th>5</th>\n",
       "      <td>1.473973</td>\n",
       "      <td>1</td>\n",
       "      <td>2</td>\n",
       "      <td>1.0</td>\n",
       "    </tr>\n",
       "    <tr>\n",
       "      <th>6</th>\n",
       "      <td>3.115068</td>\n",
       "      <td>1</td>\n",
       "      <td>4</td>\n",
       "      <td>1.0</td>\n",
       "    </tr>\n",
       "    <tr>\n",
       "      <th>...</th>\n",
       "      <td>...</td>\n",
       "      <td>...</td>\n",
       "      <td>...</td>\n",
       "      <td>...</td>\n",
       "    </tr>\n",
       "    <tr>\n",
       "      <th>422</th>\n",
       "      <td>0.400000</td>\n",
       "      <td>1</td>\n",
       "      <td>1</td>\n",
       "      <td>1.0</td>\n",
       "    </tr>\n",
       "    <tr>\n",
       "      <th>423</th>\n",
       "      <td>1.465753</td>\n",
       "      <td>1</td>\n",
       "      <td>2</td>\n",
       "      <td>1.0</td>\n",
       "    </tr>\n",
       "    <tr>\n",
       "      <th>424</th>\n",
       "      <td>0.257534</td>\n",
       "      <td>1</td>\n",
       "      <td>1</td>\n",
       "      <td>1.0</td>\n",
       "    </tr>\n",
       "    <tr>\n",
       "      <th>425</th>\n",
       "      <td>0.764384</td>\n",
       "      <td>1</td>\n",
       "      <td>1</td>\n",
       "      <td>1.0</td>\n",
       "    </tr>\n",
       "    <tr>\n",
       "      <th>426</th>\n",
       "      <td>3.994521</td>\n",
       "      <td>1</td>\n",
       "      <td>5</td>\n",
       "      <td>1.0</td>\n",
       "    </tr>\n",
       "  </tbody>\n",
       "</table>\n",
       "<p>167 rows × 4 columns</p>\n",
       "</div>"
      ],
      "text/plain": [
       "         time  event  new_time  new_event\n",
       "0    0.641096      1         1        1.0\n",
       "1    3.657534      1         4        1.0\n",
       "4    0.531507      1         1        1.0\n",
       "5    1.473973      1         2        1.0\n",
       "6    3.115068      1         4        1.0\n",
       "..        ...    ...       ...        ...\n",
       "422  0.400000      1         1        1.0\n",
       "423  1.465753      1         2        1.0\n",
       "424  0.257534      1         1        1.0\n",
       "425  0.764384      1         1        1.0\n",
       "426  3.994521      1         5        1.0\n",
       "\n",
       "[167 rows x 4 columns]"
      ]
     },
     "execution_count": 259,
     "metadata": {},
     "output_type": "execute_result"
    }
   ],
   "source": [
    "train_data.loc[train_data.event==1]"
   ]
  },
  {
   "cell_type": "code",
   "execution_count": 278,
   "id": "b8539a6f-4c94-4e89-90f6-69035e401ae1",
   "metadata": {
    "tags": []
   },
   "outputs": [
    {
     "data": {
      "text/plain": [
       "new_time\n",
       "2     50\n",
       "1     49\n",
       "3     23\n",
       "4     14\n",
       "5      8\n",
       "6      4\n",
       "9      4\n",
       "7      3\n",
       "13     3\n",
       "8      3\n",
       "11     2\n",
       "14     1\n",
       "10     1\n",
       "12     1\n",
       "16     1\n",
       "Name: count, dtype: int64"
      ]
     },
     "execution_count": 278,
     "metadata": {},
     "output_type": "execute_result"
    }
   ],
   "source": [
    "train_data.loc[train_data.event==1]['new_time'].value_counts()"
   ]
  },
  {
   "cell_type": "code",
   "execution_count": 285,
   "id": "fd7ad503-f9f2-4fe4-bf3a-7e5f23c08723",
   "metadata": {
    "tags": []
   },
   "outputs": [
    {
     "data": {
      "text/plain": [
       "array([0.29341317, 0.59281437, 0.73053892, 0.81437126, 0.86227545,\n",
       "       0.88622754, 0.90419162, 0.92215569, 0.94610778, 0.95209581,\n",
       "       0.96407186, 0.97005988, 0.98802395, 0.99401198, 0.99401198,\n",
       "       1.        , 1.        , 1.        , 1.        , 1.        ])"
      ]
     },
     "execution_count": 285,
     "metadata": {},
     "output_type": "execute_result"
    }
   ],
   "source": [
    "np.cumsum([49,50,23,14,8, 4,3,3,4, 1,2,1,3,1,0,1,0,0,0,0])/ np.sum(values)"
   ]
  },
  {
   "cell_type": "code",
   "execution_count": 286,
   "id": "8013e94f-4b18-47f1-b666-4e1ce46ea1aa",
   "metadata": {
    "tags": []
   },
   "outputs": [
    {
     "data": {
      "text/plain": [
       "array([0.70658683, 0.40718563, 0.26946108, 0.18562874, 0.13772455,\n",
       "       0.11377246, 0.09580838, 0.07784431, 0.05389222, 0.04790419,\n",
       "       0.03592814, 0.02994012, 0.01197605, 0.00598802, 0.00598802,\n",
       "       0.        , 0.        , 0.        , 0.        , 0.        ])"
      ]
     },
     "execution_count": 286,
     "metadata": {},
     "output_type": "execute_result"
    }
   ],
   "source": [
    "1-np.cumsum([49,50,23,14,8, 4,3,3,4, 1,2,1,3,1,0,1,0,0,0,0])/ np.sum(values)"
   ]
  },
  {
   "cell_type": "code",
   "execution_count": 284,
   "id": "7057dfb4-327e-445c-aac3-1db06b4e5600",
   "metadata": {
    "tags": []
   },
   "outputs": [
    {
     "data": {
      "text/plain": [
       "1.0"
      ]
     },
     "execution_count": 284,
     "metadata": {},
     "output_type": "execute_result"
    }
   ],
   "source": [
    "np.sum([49,50,23,14,8, 4,3,3,4, 1,2,1,3,1,0,1,0,0,0,0]/ np.sum(values))"
   ]
  },
  {
   "cell_type": "code",
   "execution_count": 279,
   "id": "78232d46-0c3e-45af-9f11-fa00cceeb987",
   "metadata": {
    "tags": []
   },
   "outputs": [],
   "source": [
    "values, base = np.histogram(train_data.loc[train_data.event==1]['new_time'].values, bins=20)"
   ]
  },
  {
   "cell_type": "code",
   "execution_count": 280,
   "id": "db920511-cc64-41fd-ac6f-50a778b851ff",
   "metadata": {
    "tags": []
   },
   "outputs": [
    {
     "data": {
      "text/plain": [
       "array([49, 50, 23,  0, 14,  8,  4,  0,  3,  3,  4,  0,  1,  2,  1,  0,  3,\n",
       "        1,  0,  1])"
      ]
     },
     "execution_count": 280,
     "metadata": {},
     "output_type": "execute_result"
    }
   ],
   "source": [
    "values"
   ]
  },
  {
   "cell_type": "code",
   "execution_count": 262,
   "id": "98bbba65-500b-4c54-b07d-4491752ee290",
   "metadata": {
    "tags": []
   },
   "outputs": [
    {
     "data": {
      "text/plain": [
       "167"
      ]
     },
     "execution_count": 262,
     "metadata": {},
     "output_type": "execute_result"
    }
   ],
   "source": [
    "sum(values)"
   ]
  },
  {
   "cell_type": "code",
   "execution_count": 263,
   "id": "eee64e75-9c2b-465f-8287-db5c8f8621df",
   "metadata": {
    "tags": []
   },
   "outputs": [
    {
     "data": {
      "text/plain": [
       "array([ 1.  ,  1.75,  2.5 ,  3.25,  4.  ,  4.75,  5.5 ,  6.25,  7.  ,\n",
       "        7.75,  8.5 ,  9.25, 10.  , 10.75, 11.5 , 12.25, 13.  , 13.75,\n",
       "       14.5 , 15.25, 16.  ])"
      ]
     },
     "execution_count": 263,
     "metadata": {},
     "output_type": "execute_result"
    }
   ],
   "source": [
    "base"
   ]
  },
  {
   "cell_type": "code",
   "execution_count": 264,
   "id": "2f849366-5022-4d15-a589-710f1665bbc4",
   "metadata": {
    "tags": []
   },
   "outputs": [
    {
     "data": {
      "text/plain": [
       "array([ 49,  99, 122, 122, 136, 144, 148, 148, 151, 154, 158, 158, 159,\n",
       "       161, 162, 162, 165, 166, 166, 167])"
      ]
     },
     "execution_count": 264,
     "metadata": {},
     "output_type": "execute_result"
    }
   ],
   "source": [
    "np.cumsum(values)"
   ]
  },
  {
   "cell_type": "code",
   "execution_count": 265,
   "id": "338bfe9b-17a3-4dbf-a28a-f2279172761a",
   "metadata": {
    "tags": []
   },
   "outputs": [
    {
     "data": {
      "text/plain": [
       "167"
      ]
     },
     "execution_count": 265,
     "metadata": {},
     "output_type": "execute_result"
    }
   ],
   "source": [
    "sum(values)"
   ]
  },
  {
   "cell_type": "code",
   "execution_count": 266,
   "id": "10fefcd1-8a17-4d3b-9c08-1fbdc4590bfd",
   "metadata": {
    "tags": []
   },
   "outputs": [],
   "source": [
    "cumulative = np.cumsum(values)/ sum(values)"
   ]
  },
  {
   "cell_type": "code",
   "execution_count": 267,
   "id": "aeeeffcf-c584-4299-95f7-55f8d2f800ab",
   "metadata": {
    "tags": []
   },
   "outputs": [
    {
     "data": {
      "text/plain": [
       "array([0.29341317, 0.59281437, 0.73053892, 0.73053892, 0.81437126,\n",
       "       0.86227545, 0.88622754, 0.88622754, 0.90419162, 0.92215569,\n",
       "       0.94610778, 0.94610778, 0.95209581, 0.96407186, 0.97005988,\n",
       "       0.97005988, 0.98802395, 0.99401198, 0.99401198, 1.        ])"
      ]
     },
     "execution_count": 267,
     "metadata": {},
     "output_type": "execute_result"
    }
   ],
   "source": [
    "cumulative"
   ]
  },
  {
   "cell_type": "code",
   "execution_count": 250,
   "id": "0aa0f3ab-3339-4670-89d9-34ce48a80f1a",
   "metadata": {
    "tags": []
   },
   "outputs": [
    {
     "data": {
      "text/plain": [
       "array([0.9 , 1.8 , 1.8 , 2.1 , 2.15, 2.15, 2.25, 2.3 , 2.3 , 2.35, 2.4 ,\n",
       "       2.4 , 2.4 , 2.4 , 2.4 , 2.4 , 2.4 , 2.4 , 2.4 , 2.5 ])"
      ]
     },
     "execution_count": 250,
     "metadata": {},
     "output_type": "execute_result"
    }
   ],
   "source": [
    "cumulative"
   ]
  },
  {
   "cell_type": "code",
   "execution_count": 268,
   "id": "862dd78a-8dac-40ea-a5ff-9e3fc9d52b13",
   "metadata": {
    "tags": []
   },
   "outputs": [
    {
     "data": {
      "text/plain": [
       "array([0.70658683, 0.40718563, 0.26946108, 0.26946108, 0.18562874,\n",
       "       0.13772455, 0.11377246, 0.11377246, 0.09580838, 0.07784431,\n",
       "       0.05389222, 0.05389222, 0.04790419, 0.03592814, 0.02994012,\n",
       "       0.02994012, 0.01197605, 0.00598802, 0.00598802, 0.        ])"
      ]
     },
     "execution_count": 268,
     "metadata": {},
     "output_type": "execute_result"
    }
   ],
   "source": [
    "1-cumulative"
   ]
  },
  {
   "cell_type": "code",
   "execution_count": 236,
   "id": "d72594ea-39c7-43ea-a99b-c318779aad71",
   "metadata": {
    "tags": []
   },
   "outputs": [],
   "source": [
    "import matplotlib.pyplot as plt"
   ]
  },
  {
   "cell_type": "code",
   "execution_count": 237,
   "id": "61732909-5b61-439e-b983-30641cd205f0",
   "metadata": {
    "tags": []
   },
   "outputs": [
    {
     "data": {
      "image/png": "[encoded data removed]",
      "text/plain": [
       "<Figure size 640x480 with 1 Axes>"
      ]
     },
     "metadata": {},
     "output_type": "display_data"
    }
   ],
   "source": [
    "# plot the cumulative function\n",
    "plt.plot(base[:-1], cumulative, c='blue')\n",
    "#plot the survival function\n",
    "plt.plot(base[:-1], 1-cumulative, c='green')\n",
    "\n",
    "plt.show()"
   ]
  },
  {
   "cell_type": "code",
   "execution_count": 204,
   "id": "dce84dfa-a40a-4827-9f59-c9d62215c3ca",
   "metadata": {
    "tags": []
   },
   "outputs": [
    {
     "data": {
      "text/plain": [
       "(20,)"
      ]
     },
     "execution_count": 204,
     "metadata": {},
     "output_type": "execute_result"
    }
   ],
   "source": [
    "(1-cumulative).shape"
   ]
  },
  {
   "cell_type": "code",
   "execution_count": 206,
   "id": "2d7d91b7-27af-4de1-bf68-4cc88fa826d9",
   "metadata": {
    "tags": []
   },
   "outputs": [
    {
     "data": {
      "text/plain": [
       "array([0.70658683, 0.40718563, 0.26946108, 0.26946108, 0.18562874,\n",
       "       0.13772455, 0.11377246, 0.11377246, 0.09580838, 0.07784431,\n",
       "       0.05389222, 0.05389222, 0.04790419, 0.03592814, 0.02994012,\n",
       "       0.02994012, 0.01197605, 0.00598802, 0.00598802, 0.        ])"
      ]
     },
     "execution_count": 206,
     "metadata": {},
     "output_type": "execute_result"
    }
   ],
   "source": [
    "1-cumulative"
   ]
  },
  {
   "cell_type": "code",
   "execution_count": 231,
   "id": "f251c5e1-7a73-448d-8647-9517235453af",
   "metadata": {
    "tags": []
   },
   "outputs": [
    {
     "data": {
      "text/plain": [
       "count    50.000000\n",
       "mean      2.700000\n",
       "std       2.808515\n",
       "min       1.000000\n",
       "25%       1.000000\n",
       "50%       2.000000\n",
       "75%       3.000000\n",
       "max      14.000000\n",
       "Name: new_time, dtype: float64"
      ]
     },
     "execution_count": 231,
     "metadata": {},
     "output_type": "execute_result"
    }
   ],
   "source": [
    "test_data.loc[test_data.event==1]['new_time'].describe()"
   ]
  },
  {
   "cell_type": "code",
   "execution_count": 238,
   "id": "07c95e4c-0ad0-4359-8edc-33d986a4b4d0",
   "metadata": {
    "tags": []
   },
   "outputs": [
    {
     "data": {
      "text/plain": [
       "count    82.000000\n",
       "mean      1.878049\n",
       "std       2.426145\n",
       "min       0.000000\n",
       "25%       0.000000\n",
       "50%       1.000000\n",
       "75%       3.000000\n",
       "max      15.000000\n",
       "Name: new_time, dtype: float64"
      ]
     },
     "execution_count": 238,
     "metadata": {},
     "output_type": "execute_result"
    }
   ],
   "source": [
    "test_data.loc[test_data.event==0]['new_time'].describe()"
   ]
  },
  {
   "cell_type": "code",
   "execution_count": 240,
   "id": "b65bf980-374e-438a-a70f-3284d561c960",
   "metadata": {
    "tags": []
   },
   "outputs": [
    {
     "data": {
      "text/plain": [
       "<Axes: >"
      ]
     },
     "execution_count": 240,
     "metadata": {},
     "output_type": "execute_result"
    },
    {
     "data": {
      "image/png": "[encoded data removed]",
      "text/plain": [
       "<Figure size 640x480 with 1 Axes>"
      ]
     },
     "metadata": {},
     "output_type": "display_data"
    }
   ],
   "source": [
    "test_data.loc[test_data.event==0]['new_time'].hist()"
   ]
  },
  {
   "cell_type": "code",
   "execution_count": 232,
   "id": "6cf0f54e-0433-47e0-ad93-6700fb3e8241",
   "metadata": {
    "tags": []
   },
   "outputs": [],
   "source": [
    "values, base = np.histogram(test_data.loc[test_data.event==1]['new_time'].values, bins=20)"
   ]
  },
  {
   "cell_type": "code",
   "execution_count": 104,
   "id": "a07e3675-f7fe-43f5-bc4d-bae7cbc28996",
   "metadata": {
    "tags": []
   },
   "outputs": [
    {
     "data": {
      "text/plain": [
       "105"
      ]
     },
     "execution_count": 104,
     "metadata": {},
     "output_type": "execute_result"
    }
   ],
   "source": [
    "len(survival.transpose())"
   ]
  },
  {
   "cell_type": "code",
   "execution_count": 101,
   "id": "77f9f968-e978-4b34-bf4b-b828e1a1641b",
   "metadata": {
    "tags": []
   },
   "outputs": [],
   "source": [
    "survival = pd.DataFrame(survival.transpose())"
   ]
  },
  {
   "cell_type": "code",
   "execution_count": 107,
   "id": "a0e9caf3-3867-4e06-9c34-4ec2487d27e6",
   "metadata": {
    "tags": []
   },
   "outputs": [
    {
     "data": {
      "text/html": [
       "<div>\n",
       "<style scoped>\n",
       "    .dataframe tbody tr th:only-of-type {\n",
       "        vertical-align: middle;\n",
       "    }\n",
       "\n",
       "    .dataframe tbody tr th {\n",
       "        vertical-align: top;\n",
       "    }\n",
       "\n",
       "    .dataframe thead th {\n",
       "        text-align: right;\n",
       "    }\n",
       "</style>\n",
       "<table border=\"1\" class=\"dataframe\">\n",
       "  <thead>\n",
       "    <tr style=\"text-align: right;\">\n",
       "      <th></th>\n",
       "      <th>0</th>\n",
       "      <th>1</th>\n",
       "      <th>2</th>\n",
       "      <th>3</th>\n",
       "      <th>4</th>\n",
       "      <th>5</th>\n",
       "      <th>6</th>\n",
       "      <th>7</th>\n",
       "      <th>8</th>\n",
       "      <th>9</th>\n",
       "      <th>10</th>\n",
       "      <th>11</th>\n",
       "      <th>12</th>\n",
       "      <th>13</th>\n",
       "      <th>14</th>\n",
       "      <th>15</th>\n",
       "      <th>16</th>\n",
       "      <th>17</th>\n",
       "      <th>18</th>\n",
       "      <th>19</th>\n",
       "    </tr>\n",
       "  </thead>\n",
       "  <tbody>\n",
       "    <tr>\n",
       "      <th>count</th>\n",
       "      <td>105.000000</td>\n",
       "      <td>105.000000</td>\n",
       "      <td>105.000000</td>\n",
       "      <td>105.000000</td>\n",
       "      <td>105.000000</td>\n",
       "      <td>105.000000</td>\n",
       "      <td>1.050000e+02</td>\n",
       "      <td>1.050000e+02</td>\n",
       "      <td>1.050000e+02</td>\n",
       "      <td>1.050000e+02</td>\n",
       "      <td>1.050000e+02</td>\n",
       "      <td>1.050000e+02</td>\n",
       "      <td>1.050000e+02</td>\n",
       "      <td>1.050000e+02</td>\n",
       "      <td>1.050000e+02</td>\n",
       "      <td>1.050000e+02</td>\n",
       "      <td>1.050000e+02</td>\n",
       "      <td>1.050000e+02</td>\n",
       "      <td>1.050000e+02</td>\n",
       "      <td>1.050000e+02</td>\n",
       "    </tr>\n",
       "    <tr>\n",
       "      <th>mean</th>\n",
       "      <td>0.991462</td>\n",
       "      <td>0.957212</td>\n",
       "      <td>0.698389</td>\n",
       "      <td>0.697147</td>\n",
       "      <td>0.490462</td>\n",
       "      <td>0.244314</td>\n",
       "      <td>2.234410e-01</td>\n",
       "      <td>2.067554e-01</td>\n",
       "      <td>2.036178e-01</td>\n",
       "      <td>6.337971e-02</td>\n",
       "      <td>2.300086e-02</td>\n",
       "      <td>1.808211e-03</td>\n",
       "      <td>1.138080e-03</td>\n",
       "      <td>1.065238e-03</td>\n",
       "      <td>8.567965e-04</td>\n",
       "      <td>7.606725e-04</td>\n",
       "      <td>6.102688e-04</td>\n",
       "      <td>5.392261e-04</td>\n",
       "      <td>4.410201e-04</td>\n",
       "      <td>3.896223e-04</td>\n",
       "    </tr>\n",
       "    <tr>\n",
       "      <th>std</th>\n",
       "      <td>0.003673</td>\n",
       "      <td>0.051753</td>\n",
       "      <td>0.355590</td>\n",
       "      <td>0.355991</td>\n",
       "      <td>0.323090</td>\n",
       "      <td>0.203757</td>\n",
       "      <td>1.917508e-01</td>\n",
       "      <td>1.815781e-01</td>\n",
       "      <td>1.793934e-01</td>\n",
       "      <td>6.389119e-02</td>\n",
       "      <td>2.572827e-02</td>\n",
       "      <td>2.594129e-03</td>\n",
       "      <td>1.720925e-03</td>\n",
       "      <td>1.623187e-03</td>\n",
       "      <td>1.322248e-03</td>\n",
       "      <td>1.196960e-03</td>\n",
       "      <td>9.069471e-04</td>\n",
       "      <td>8.218633e-04</td>\n",
       "      <td>6.865923e-04</td>\n",
       "      <td>6.183924e-04</td>\n",
       "    </tr>\n",
       "    <tr>\n",
       "      <th>min</th>\n",
       "      <td>0.979399</td>\n",
       "      <td>0.665998</td>\n",
       "      <td>0.003967</td>\n",
       "      <td>0.003671</td>\n",
       "      <td>0.001714</td>\n",
       "      <td>0.000007</td>\n",
       "      <td>8.025046e-07</td>\n",
       "      <td>1.494428e-07</td>\n",
       "      <td>4.314110e-08</td>\n",
       "      <td>3.483875e-09</td>\n",
       "      <td>4.969635e-10</td>\n",
       "      <td>1.436541e-11</td>\n",
       "      <td>3.464937e-12</td>\n",
       "      <td>2.641940e-12</td>\n",
       "      <td>6.867243e-13</td>\n",
       "      <td>1.144065e-13</td>\n",
       "      <td>7.139968e-14</td>\n",
       "      <td>2.065336e-14</td>\n",
       "      <td>6.051374e-15</td>\n",
       "      <td>1.578758e-15</td>\n",
       "    </tr>\n",
       "    <tr>\n",
       "      <th>25%</th>\n",
       "      <td>0.989717</td>\n",
       "      <td>0.959710</td>\n",
       "      <td>0.400309</td>\n",
       "      <td>0.395530</td>\n",
       "      <td>0.129751</td>\n",
       "      <td>0.018051</td>\n",
       "      <td>1.158940e-02</td>\n",
       "      <td>4.574477e-03</td>\n",
       "      <td>4.011781e-03</td>\n",
       "      <td>8.143215e-04</td>\n",
       "      <td>1.203250e-04</td>\n",
       "      <td>4.119470e-06</td>\n",
       "      <td>1.588940e-06</td>\n",
       "      <td>1.303846e-06</td>\n",
       "      <td>7.066299e-07</td>\n",
       "      <td>3.932181e-07</td>\n",
       "      <td>3.363270e-07</td>\n",
       "      <td>2.111975e-07</td>\n",
       "      <td>9.880314e-08</td>\n",
       "      <td>6.759839e-08</td>\n",
       "    </tr>\n",
       "    <tr>\n",
       "      <th>50%</th>\n",
       "      <td>0.991917</td>\n",
       "      <td>0.974677</td>\n",
       "      <td>0.928461</td>\n",
       "      <td>0.927005</td>\n",
       "      <td>0.606256</td>\n",
       "      <td>0.257386</td>\n",
       "      <td>2.314530e-01</td>\n",
       "      <td>2.256885e-01</td>\n",
       "      <td>2.244699e-01</td>\n",
       "      <td>5.943473e-02</td>\n",
       "      <td>2.020098e-02</td>\n",
       "      <td>1.199781e-03</td>\n",
       "      <td>7.289503e-04</td>\n",
       "      <td>6.651345e-04</td>\n",
       "      <td>4.803510e-04</td>\n",
       "      <td>4.119830e-04</td>\n",
       "      <td>3.575808e-04</td>\n",
       "      <td>3.124754e-04</td>\n",
       "      <td>2.594089e-04</td>\n",
       "      <td>2.218053e-04</td>\n",
       "    </tr>\n",
       "    <tr>\n",
       "      <th>75%</th>\n",
       "      <td>0.994190</td>\n",
       "      <td>0.982092</td>\n",
       "      <td>0.954284</td>\n",
       "      <td>0.953909</td>\n",
       "      <td>0.776455</td>\n",
       "      <td>0.399944</td>\n",
       "      <td>3.741735e-01</td>\n",
       "      <td>3.486742e-01</td>\n",
       "      <td>3.461234e-01</td>\n",
       "      <td>1.033384e-01</td>\n",
       "      <td>3.413009e-02</td>\n",
       "      <td>2.570517e-03</td>\n",
       "      <td>1.641510e-03</td>\n",
       "      <td>1.539999e-03</td>\n",
       "      <td>1.260259e-03</td>\n",
       "      <td>1.070295e-03</td>\n",
       "      <td>8.888150e-04</td>\n",
       "      <td>7.738238e-04</td>\n",
       "      <td>6.145115e-04</td>\n",
       "      <td>5.224964e-04</td>\n",
       "    </tr>\n",
       "    <tr>\n",
       "      <th>max</th>\n",
       "      <td>0.997052</td>\n",
       "      <td>0.992046</td>\n",
       "      <td>0.977673</td>\n",
       "      <td>0.977380</td>\n",
       "      <td>0.940907</td>\n",
       "      <td>0.677576</td>\n",
       "      <td>6.585131e-01</td>\n",
       "      <td>6.447690e-01</td>\n",
       "      <td>6.402896e-01</td>\n",
       "      <td>2.918833e-01</td>\n",
       "      <td>1.397139e-01</td>\n",
       "      <td>1.925605e-02</td>\n",
       "      <td>1.336058e-02</td>\n",
       "      <td>1.281026e-02</td>\n",
       "      <td>1.055128e-02</td>\n",
       "      <td>9.630576e-03</td>\n",
       "      <td>7.026196e-03</td>\n",
       "      <td>6.447695e-03</td>\n",
       "      <td>5.423206e-03</td>\n",
       "      <td>4.922906e-03</td>\n",
       "    </tr>\n",
       "  </tbody>\n",
       "</table>\n",
       "</div>"
      ],
      "text/plain": [
       "               0           1           2           3           4           5   \\\n",
       "count  105.000000  105.000000  105.000000  105.000000  105.000000  105.000000   \n",
       "mean     0.991462    0.957212    0.698389    0.697147    0.490462    0.244314   \n",
       "std      0.003673    0.051753    0.355590    0.355991    0.323090    0.203757   \n",
       "min      0.979399    0.665998    0.003967    0.003671    0.001714    0.000007   \n",
       "25%      0.989717    0.959710    0.400309    0.395530    0.129751    0.018051   \n",
       "50%      0.991917    0.974677    0.928461    0.927005    0.606256    0.257386   \n",
       "75%      0.994190    0.982092    0.954284    0.953909    0.776455    0.399944   \n",
       "max      0.997052    0.992046    0.977673    0.977380    0.940907    0.677576   \n",
       "\n",
       "                 6             7             8             9             10  \\\n",
       "count  1.050000e+02  1.050000e+02  1.050000e+02  1.050000e+02  1.050000e+02   \n",
       "mean   2.234410e-01  2.067554e-01  2.036178e-01  6.337971e-02  2.300086e-02   \n",
       "std    1.917508e-01  1.815781e-01  1.793934e-01  6.389119e-02  2.572827e-02   \n",
       "min    8.025046e-07  1.494428e-07  4.314110e-08  3.483875e-09  4.969635e-10   \n",
       "25%    1.158940e-02  4.574477e-03  4.011781e-03  8.143215e-04  1.203250e-04   \n",
       "50%    2.314530e-01  2.256885e-01  2.244699e-01  5.943473e-02  2.020098e-02   \n",
       "75%    3.741735e-01  3.486742e-01  3.461234e-01  1.033384e-01  3.413009e-02   \n",
       "max    6.585131e-01  6.447690e-01  6.402896e-01  2.918833e-01  1.397139e-01   \n",
       "\n",
       "                 11            12            13            14            15  \\\n",
       "count  1.050000e+02  1.050000e+02  1.050000e+02  1.050000e+02  1.050000e+02   \n",
       "mean   1.808211e-03  1.138080e-03  1.065238e-03  8.567965e-04  7.606725e-04   \n",
       "std    2.594129e-03  1.720925e-03  1.623187e-03  1.322248e-03  1.196960e-03   \n",
       "min    1.436541e-11  3.464937e-12  2.641940e-12  6.867243e-13  1.144065e-13   \n",
       "25%    4.119470e-06  1.588940e-06  1.303846e-06  7.066299e-07  3.932181e-07   \n",
       "50%    1.199781e-03  7.289503e-04  6.651345e-04  4.803510e-04  4.119830e-04   \n",
       "75%    2.570517e-03  1.641510e-03  1.539999e-03  1.260259e-03  1.070295e-03   \n",
       "max    1.925605e-02  1.336058e-02  1.281026e-02  1.055128e-02  9.630576e-03   \n",
       "\n",
       "                 16            17            18            19  \n",
       "count  1.050000e+02  1.050000e+02  1.050000e+02  1.050000e+02  \n",
       "mean   6.102688e-04  5.392261e-04  4.410201e-04  3.896223e-04  \n",
       "std    9.069471e-04  8.218633e-04  6.865923e-04  6.183924e-04  \n",
       "min    7.139968e-14  2.065336e-14  6.051374e-15  1.578758e-15  \n",
       "25%    3.363270e-07  2.111975e-07  9.880314e-08  6.759839e-08  \n",
       "50%    3.575808e-04  3.124754e-04  2.594089e-04  2.218053e-04  \n",
       "75%    8.888150e-04  7.738238e-04  6.145115e-04  5.224964e-04  \n",
       "max    7.026196e-03  6.447695e-03  5.423206e-03  4.922906e-03  "
      ]
     },
     "execution_count": 107,
     "metadata": {},
     "output_type": "execute_result"
    }
   ],
   "source": [
    "survival.transpose().describe()"
   ]
  },
  {
   "cell_type": "code",
   "execution_count": 162,
   "id": "db45177b-a40b-45c9-896d-afe3422b4826",
   "metadata": {
    "tags": []
   },
   "outputs": [
    {
     "data": {
      "text/html": [
       "<div>\n",
       "<style scoped>\n",
       "    .dataframe tbody tr th:only-of-type {\n",
       "        vertical-align: middle;\n",
       "    }\n",
       "\n",
       "    .dataframe tbody tr th {\n",
       "        vertical-align: top;\n",
       "    }\n",
       "\n",
       "    .dataframe thead th {\n",
       "        text-align: right;\n",
       "    }\n",
       "</style>\n",
       "<table border=\"1\" class=\"dataframe\">\n",
       "  <thead>\n",
       "    <tr style=\"text-align: right;\">\n",
       "      <th></th>\n",
       "      <th>time</th>\n",
       "      <th>event</th>\n",
       "      <th>new_time</th>\n",
       "      <th>new_event</th>\n",
       "    </tr>\n",
       "  </thead>\n",
       "  <tbody>\n",
       "    <tr>\n",
       "      <th>0</th>\n",
       "      <td>0.641096</td>\n",
       "      <td>1</td>\n",
       "      <td>1</td>\n",
       "      <td>1.0</td>\n",
       "    </tr>\n",
       "    <tr>\n",
       "      <th>1</th>\n",
       "      <td>3.657534</td>\n",
       "      <td>1</td>\n",
       "      <td>4</td>\n",
       "      <td>1.0</td>\n",
       "    </tr>\n",
       "    <tr>\n",
       "      <th>2</th>\n",
       "      <td>5.008219</td>\n",
       "      <td>0</td>\n",
       "      <td>5</td>\n",
       "      <td>0.0</td>\n",
       "    </tr>\n",
       "    <tr>\n",
       "      <th>3</th>\n",
       "      <td>3.347945</td>\n",
       "      <td>0</td>\n",
       "      <td>3</td>\n",
       "      <td>0.0</td>\n",
       "    </tr>\n",
       "    <tr>\n",
       "      <th>4</th>\n",
       "      <td>0.531507</td>\n",
       "      <td>1</td>\n",
       "      <td>1</td>\n",
       "      <td>1.0</td>\n",
       "    </tr>\n",
       "    <tr>\n",
       "      <th>...</th>\n",
       "      <td>...</td>\n",
       "      <td>...</td>\n",
       "      <td>...</td>\n",
       "      <td>...</td>\n",
       "    </tr>\n",
       "    <tr>\n",
       "      <th>422</th>\n",
       "      <td>0.400000</td>\n",
       "      <td>1</td>\n",
       "      <td>1</td>\n",
       "      <td>1.0</td>\n",
       "    </tr>\n",
       "    <tr>\n",
       "      <th>423</th>\n",
       "      <td>1.465753</td>\n",
       "      <td>1</td>\n",
       "      <td>2</td>\n",
       "      <td>1.0</td>\n",
       "    </tr>\n",
       "    <tr>\n",
       "      <th>424</th>\n",
       "      <td>0.257534</td>\n",
       "      <td>1</td>\n",
       "      <td>1</td>\n",
       "      <td>1.0</td>\n",
       "    </tr>\n",
       "    <tr>\n",
       "      <th>425</th>\n",
       "      <td>0.764384</td>\n",
       "      <td>1</td>\n",
       "      <td>1</td>\n",
       "      <td>1.0</td>\n",
       "    </tr>\n",
       "    <tr>\n",
       "      <th>426</th>\n",
       "      <td>3.994521</td>\n",
       "      <td>1</td>\n",
       "      <td>5</td>\n",
       "      <td>1.0</td>\n",
       "    </tr>\n",
       "  </tbody>\n",
       "</table>\n",
       "<p>427 rows × 4 columns</p>\n",
       "</div>"
      ],
      "text/plain": [
       "         time  event  new_time  new_event\n",
       "0    0.641096      1         1        1.0\n",
       "1    3.657534      1         4        1.0\n",
       "2    5.008219      0         5        0.0\n",
       "3    3.347945      0         3        0.0\n",
       "4    0.531507      1         1        1.0\n",
       "..        ...    ...       ...        ...\n",
       "422  0.400000      1         1        1.0\n",
       "423  1.465753      1         2        1.0\n",
       "424  0.257534      1         1        1.0\n",
       "425  0.764384      1         1        1.0\n",
       "426  3.994521      1         5        1.0\n",
       "\n",
       "[427 rows x 4 columns]"
      ]
     },
     "execution_count": 162,
     "metadata": {},
     "output_type": "execute_result"
    }
   ],
   "source": [
    "train_data"
   ]
  },
  {
   "cell_type": "code",
   "execution_count": 124,
   "id": "5e233ee3-4209-4670-983a-2812a9022568",
   "metadata": {
    "tags": []
   },
   "outputs": [],
   "source": [
    "new_times =torch.cat(all_times, dim=0)\n",
    "new_events =torch.cat(all_events, dim=0)"
   ]
  },
  {
   "cell_type": "code",
   "execution_count": 125,
   "id": "5b43f6f2-261e-4c42-a419-2a9cbeeeac35",
   "metadata": {
    "tags": []
   },
   "outputs": [],
   "source": [
    "predictions=pd.DataFrame(np.zeros((new_times.shape[0], 20))).T"
   ]
  },
  {
   "cell_type": "code",
   "execution_count": 223,
   "id": "589d140c-1f00-4369-81a9-fc16870ccdcc",
   "metadata": {
    "tags": []
   },
   "outputs": [],
   "source": [
    "evel =EvalSurv(predictions,new_times.cpu().numpy(), new_events.cpu().numpy(), censor_surv=\"km\")"
   ]
  },
  {
   "cell_type": "code",
   "execution_count": 224,
   "id": "f78f77b4-c3f2-4f20-b993-b0b6ae44d86e",
   "metadata": {
    "tags": []
   },
   "outputs": [],
   "source": [
    "c_index = evel.concordance_td()"
   ]
  },
  {
   "cell_type": "code",
   "execution_count": 225,
   "id": "5cc48684-8271-4dfd-881d-36342284d720",
   "metadata": {
    "tags": []
   },
   "outputs": [
    {
     "data": {
      "text/plain": [
       "0.5531400966183575"
      ]
     },
     "execution_count": 225,
     "metadata": {},
     "output_type": "execute_result"
    }
   ],
   "source": [
    "c_index"
   ]
  },
  {
   "cell_type": "code",
   "execution_count": 154,
   "id": "d315182d-33bd-407a-8038-5561cd6df389",
   "metadata": {
    "tags": []
   },
   "outputs": [],
   "source": [
    "result = np.stack(([0.99, 0.95, 0.69, 0.69, 0.49, 0.24, 0.0, 0.0, 0.0, 0.0, 0.0, 0.0, 0.0,0.0,  0.0, 0.0, 0.0,0.0, 0.0,0.0],) * new_times.shape[0], axis=1)"
   ]
  },
  {
   "cell_type": "code",
   "execution_count": 269,
   "id": "ba073a17-b72a-43ea-9307-6161f67a6946",
   "metadata": {
    "tags": []
   },
   "outputs": [],
   "source": [
    "result =np.stack((1-cumulative, )* new_times.shape[0], axis=1)"
   ]
  },
  {
   "cell_type": "code",
   "execution_count": 270,
   "id": "ce26f20d-001f-459f-8180-c3567abd3c70",
   "metadata": {
    "tags": []
   },
   "outputs": [
    {
     "data": {
      "text/plain": [
       "(20, 105)"
      ]
     },
     "execution_count": 270,
     "metadata": {},
     "output_type": "execute_result"
    }
   ],
   "source": [
    "result.shape"
   ]
  },
  {
   "cell_type": "code",
   "execution_count": 271,
   "id": "56daa5af-bc9c-4150-b0f0-4164bab52ba6",
   "metadata": {
    "tags": []
   },
   "outputs": [],
   "source": [
    "predictions.loc[:,:] =result"
   ]
  },
  {
   "cell_type": "code",
   "execution_count": 272,
   "id": "f272a85a-48f6-4acb-813b-ecd8e37393f3",
   "metadata": {
    "tags": []
   },
   "outputs": [
    {
     "data": {
      "text/html": [
       "<div>\n",
       "<style scoped>\n",
       "    .dataframe tbody tr th:only-of-type {\n",
       "        vertical-align: middle;\n",
       "    }\n",
       "\n",
       "    .dataframe tbody tr th {\n",
       "        vertical-align: top;\n",
       "    }\n",
       "\n",
       "    .dataframe thead th {\n",
       "        text-align: right;\n",
       "    }\n",
       "</style>\n",
       "<table border=\"1\" class=\"dataframe\">\n",
       "  <thead>\n",
       "    <tr style=\"text-align: right;\">\n",
       "      <th></th>\n",
       "      <th>0</th>\n",
       "      <th>1</th>\n",
       "      <th>2</th>\n",
       "      <th>3</th>\n",
       "      <th>4</th>\n",
       "      <th>5</th>\n",
       "      <th>6</th>\n",
       "      <th>7</th>\n",
       "      <th>8</th>\n",
       "      <th>9</th>\n",
       "      <th>...</th>\n",
       "      <th>95</th>\n",
       "      <th>96</th>\n",
       "      <th>97</th>\n",
       "      <th>98</th>\n",
       "      <th>99</th>\n",
       "      <th>100</th>\n",
       "      <th>101</th>\n",
       "      <th>102</th>\n",
       "      <th>103</th>\n",
       "      <th>104</th>\n",
       "    </tr>\n",
       "  </thead>\n",
       "  <tbody>\n",
       "    <tr>\n",
       "      <th>0</th>\n",
       "      <td>0.706587</td>\n",
       "      <td>0.706587</td>\n",
       "      <td>0.706587</td>\n",
       "      <td>0.706587</td>\n",
       "      <td>0.706587</td>\n",
       "      <td>0.706587</td>\n",
       "      <td>0.706587</td>\n",
       "      <td>0.706587</td>\n",
       "      <td>0.706587</td>\n",
       "      <td>0.706587</td>\n",
       "      <td>...</td>\n",
       "      <td>0.706587</td>\n",
       "      <td>0.706587</td>\n",
       "      <td>0.706587</td>\n",
       "      <td>0.706587</td>\n",
       "      <td>0.706587</td>\n",
       "      <td>0.706587</td>\n",
       "      <td>0.706587</td>\n",
       "      <td>0.706587</td>\n",
       "      <td>0.706587</td>\n",
       "      <td>0.706587</td>\n",
       "    </tr>\n",
       "    <tr>\n",
       "      <th>1</th>\n",
       "      <td>0.407186</td>\n",
       "      <td>0.407186</td>\n",
       "      <td>0.407186</td>\n",
       "      <td>0.407186</td>\n",
       "      <td>0.407186</td>\n",
       "      <td>0.407186</td>\n",
       "      <td>0.407186</td>\n",
       "      <td>0.407186</td>\n",
       "      <td>0.407186</td>\n",
       "      <td>0.407186</td>\n",
       "      <td>...</td>\n",
       "      <td>0.407186</td>\n",
       "      <td>0.407186</td>\n",
       "      <td>0.407186</td>\n",
       "      <td>0.407186</td>\n",
       "      <td>0.407186</td>\n",
       "      <td>0.407186</td>\n",
       "      <td>0.407186</td>\n",
       "      <td>0.407186</td>\n",
       "      <td>0.407186</td>\n",
       "      <td>0.407186</td>\n",
       "    </tr>\n",
       "    <tr>\n",
       "      <th>2</th>\n",
       "      <td>0.269461</td>\n",
       "      <td>0.269461</td>\n",
       "      <td>0.269461</td>\n",
       "      <td>0.269461</td>\n",
       "      <td>0.269461</td>\n",
       "      <td>0.269461</td>\n",
       "      <td>0.269461</td>\n",
       "      <td>0.269461</td>\n",
       "      <td>0.269461</td>\n",
       "      <td>0.269461</td>\n",
       "      <td>...</td>\n",
       "      <td>0.269461</td>\n",
       "      <td>0.269461</td>\n",
       "      <td>0.269461</td>\n",
       "      <td>0.269461</td>\n",
       "      <td>0.269461</td>\n",
       "      <td>0.269461</td>\n",
       "      <td>0.269461</td>\n",
       "      <td>0.269461</td>\n",
       "      <td>0.269461</td>\n",
       "      <td>0.269461</td>\n",
       "    </tr>\n",
       "    <tr>\n",
       "      <th>3</th>\n",
       "      <td>0.269461</td>\n",
       "      <td>0.269461</td>\n",
       "      <td>0.269461</td>\n",
       "      <td>0.269461</td>\n",
       "      <td>0.269461</td>\n",
       "      <td>0.269461</td>\n",
       "      <td>0.269461</td>\n",
       "      <td>0.269461</td>\n",
       "      <td>0.269461</td>\n",
       "      <td>0.269461</td>\n",
       "      <td>...</td>\n",
       "      <td>0.269461</td>\n",
       "      <td>0.269461</td>\n",
       "      <td>0.269461</td>\n",
       "      <td>0.269461</td>\n",
       "      <td>0.269461</td>\n",
       "      <td>0.269461</td>\n",
       "      <td>0.269461</td>\n",
       "      <td>0.269461</td>\n",
       "      <td>0.269461</td>\n",
       "      <td>0.269461</td>\n",
       "    </tr>\n",
       "    <tr>\n",
       "      <th>4</th>\n",
       "      <td>0.185629</td>\n",
       "      <td>0.185629</td>\n",
       "      <td>0.185629</td>\n",
       "      <td>0.185629</td>\n",
       "      <td>0.185629</td>\n",
       "      <td>0.185629</td>\n",
       "      <td>0.185629</td>\n",
       "      <td>0.185629</td>\n",
       "      <td>0.185629</td>\n",
       "      <td>0.185629</td>\n",
       "      <td>...</td>\n",
       "      <td>0.185629</td>\n",
       "      <td>0.185629</td>\n",
       "      <td>0.185629</td>\n",
       "      <td>0.185629</td>\n",
       "      <td>0.185629</td>\n",
       "      <td>0.185629</td>\n",
       "      <td>0.185629</td>\n",
       "      <td>0.185629</td>\n",
       "      <td>0.185629</td>\n",
       "      <td>0.185629</td>\n",
       "    </tr>\n",
       "    <tr>\n",
       "      <th>5</th>\n",
       "      <td>0.137725</td>\n",
       "      <td>0.137725</td>\n",
       "      <td>0.137725</td>\n",
       "      <td>0.137725</td>\n",
       "      <td>0.137725</td>\n",
       "      <td>0.137725</td>\n",
       "      <td>0.137725</td>\n",
       "      <td>0.137725</td>\n",
       "      <td>0.137725</td>\n",
       "      <td>0.137725</td>\n",
       "      <td>...</td>\n",
       "      <td>0.137725</td>\n",
       "      <td>0.137725</td>\n",
       "      <td>0.137725</td>\n",
       "      <td>0.137725</td>\n",
       "      <td>0.137725</td>\n",
       "      <td>0.137725</td>\n",
       "      <td>0.137725</td>\n",
       "      <td>0.137725</td>\n",
       "      <td>0.137725</td>\n",
       "      <td>0.137725</td>\n",
       "    </tr>\n",
       "    <tr>\n",
       "      <th>6</th>\n",
       "      <td>0.113772</td>\n",
       "      <td>0.113772</td>\n",
       "      <td>0.113772</td>\n",
       "      <td>0.113772</td>\n",
       "      <td>0.113772</td>\n",
       "      <td>0.113772</td>\n",
       "      <td>0.113772</td>\n",
       "      <td>0.113772</td>\n",
       "      <td>0.113772</td>\n",
       "      <td>0.113772</td>\n",
       "      <td>...</td>\n",
       "      <td>0.113772</td>\n",
       "      <td>0.113772</td>\n",
       "      <td>0.113772</td>\n",
       "      <td>0.113772</td>\n",
       "      <td>0.113772</td>\n",
       "      <td>0.113772</td>\n",
       "      <td>0.113772</td>\n",
       "      <td>0.113772</td>\n",
       "      <td>0.113772</td>\n",
       "      <td>0.113772</td>\n",
       "    </tr>\n",
       "    <tr>\n",
       "      <th>7</th>\n",
       "      <td>0.113772</td>\n",
       "      <td>0.113772</td>\n",
       "      <td>0.113772</td>\n",
       "      <td>0.113772</td>\n",
       "      <td>0.113772</td>\n",
       "      <td>0.113772</td>\n",
       "      <td>0.113772</td>\n",
       "      <td>0.113772</td>\n",
       "      <td>0.113772</td>\n",
       "      <td>0.113772</td>\n",
       "      <td>...</td>\n",
       "      <td>0.113772</td>\n",
       "      <td>0.113772</td>\n",
       "      <td>0.113772</td>\n",
       "      <td>0.113772</td>\n",
       "      <td>0.113772</td>\n",
       "      <td>0.113772</td>\n",
       "      <td>0.113772</td>\n",
       "      <td>0.113772</td>\n",
       "      <td>0.113772</td>\n",
       "      <td>0.113772</td>\n",
       "    </tr>\n",
       "    <tr>\n",
       "      <th>8</th>\n",
       "      <td>0.095808</td>\n",
       "      <td>0.095808</td>\n",
       "      <td>0.095808</td>\n",
       "      <td>0.095808</td>\n",
       "      <td>0.095808</td>\n",
       "      <td>0.095808</td>\n",
       "      <td>0.095808</td>\n",
       "      <td>0.095808</td>\n",
       "      <td>0.095808</td>\n",
       "      <td>0.095808</td>\n",
       "      <td>...</td>\n",
       "      <td>0.095808</td>\n",
       "      <td>0.095808</td>\n",
       "      <td>0.095808</td>\n",
       "      <td>0.095808</td>\n",
       "      <td>0.095808</td>\n",
       "      <td>0.095808</td>\n",
       "      <td>0.095808</td>\n",
       "      <td>0.095808</td>\n",
       "      <td>0.095808</td>\n",
       "      <td>0.095808</td>\n",
       "    </tr>\n",
       "    <tr>\n",
       "      <th>9</th>\n",
       "      <td>0.077844</td>\n",
       "      <td>0.077844</td>\n",
       "      <td>0.077844</td>\n",
       "      <td>0.077844</td>\n",
       "      <td>0.077844</td>\n",
       "      <td>0.077844</td>\n",
       "      <td>0.077844</td>\n",
       "      <td>0.077844</td>\n",
       "      <td>0.077844</td>\n",
       "      <td>0.077844</td>\n",
       "      <td>...</td>\n",
       "      <td>0.077844</td>\n",
       "      <td>0.077844</td>\n",
       "      <td>0.077844</td>\n",
       "      <td>0.077844</td>\n",
       "      <td>0.077844</td>\n",
       "      <td>0.077844</td>\n",
       "      <td>0.077844</td>\n",
       "      <td>0.077844</td>\n",
       "      <td>0.077844</td>\n",
       "      <td>0.077844</td>\n",
       "    </tr>\n",
       "    <tr>\n",
       "      <th>10</th>\n",
       "      <td>0.053892</td>\n",
       "      <td>0.053892</td>\n",
       "      <td>0.053892</td>\n",
       "      <td>0.053892</td>\n",
       "      <td>0.053892</td>\n",
       "      <td>0.053892</td>\n",
       "      <td>0.053892</td>\n",
       "      <td>0.053892</td>\n",
       "      <td>0.053892</td>\n",
       "      <td>0.053892</td>\n",
       "      <td>...</td>\n",
       "      <td>0.053892</td>\n",
       "      <td>0.053892</td>\n",
       "      <td>0.053892</td>\n",
       "      <td>0.053892</td>\n",
       "      <td>0.053892</td>\n",
       "      <td>0.053892</td>\n",
       "      <td>0.053892</td>\n",
       "      <td>0.053892</td>\n",
       "      <td>0.053892</td>\n",
       "      <td>0.053892</td>\n",
       "    </tr>\n",
       "    <tr>\n",
       "      <th>11</th>\n",
       "      <td>0.053892</td>\n",
       "      <td>0.053892</td>\n",
       "      <td>0.053892</td>\n",
       "      <td>0.053892</td>\n",
       "      <td>0.053892</td>\n",
       "      <td>0.053892</td>\n",
       "      <td>0.053892</td>\n",
       "      <td>0.053892</td>\n",
       "      <td>0.053892</td>\n",
       "      <td>0.053892</td>\n",
       "      <td>...</td>\n",
       "      <td>0.053892</td>\n",
       "      <td>0.053892</td>\n",
       "      <td>0.053892</td>\n",
       "      <td>0.053892</td>\n",
       "      <td>0.053892</td>\n",
       "      <td>0.053892</td>\n",
       "      <td>0.053892</td>\n",
       "      <td>0.053892</td>\n",
       "      <td>0.053892</td>\n",
       "      <td>0.053892</td>\n",
       "    </tr>\n",
       "    <tr>\n",
       "      <th>12</th>\n",
       "      <td>0.047904</td>\n",
       "      <td>0.047904</td>\n",
       "      <td>0.047904</td>\n",
       "      <td>0.047904</td>\n",
       "      <td>0.047904</td>\n",
       "      <td>0.047904</td>\n",
       "      <td>0.047904</td>\n",
       "      <td>0.047904</td>\n",
       "      <td>0.047904</td>\n",
       "      <td>0.047904</td>\n",
       "      <td>...</td>\n",
       "      <td>0.047904</td>\n",
       "      <td>0.047904</td>\n",
       "      <td>0.047904</td>\n",
       "      <td>0.047904</td>\n",
       "      <td>0.047904</td>\n",
       "      <td>0.047904</td>\n",
       "      <td>0.047904</td>\n",
       "      <td>0.047904</td>\n",
       "      <td>0.047904</td>\n",
       "      <td>0.047904</td>\n",
       "    </tr>\n",
       "    <tr>\n",
       "      <th>13</th>\n",
       "      <td>0.035928</td>\n",
       "      <td>0.035928</td>\n",
       "      <td>0.035928</td>\n",
       "      <td>0.035928</td>\n",
       "      <td>0.035928</td>\n",
       "      <td>0.035928</td>\n",
       "      <td>0.035928</td>\n",
       "      <td>0.035928</td>\n",
       "      <td>0.035928</td>\n",
       "      <td>0.035928</td>\n",
       "      <td>...</td>\n",
       "      <td>0.035928</td>\n",
       "      <td>0.035928</td>\n",
       "      <td>0.035928</td>\n",
       "      <td>0.035928</td>\n",
       "      <td>0.035928</td>\n",
       "      <td>0.035928</td>\n",
       "      <td>0.035928</td>\n",
       "      <td>0.035928</td>\n",
       "      <td>0.035928</td>\n",
       "      <td>0.035928</td>\n",
       "    </tr>\n",
       "    <tr>\n",
       "      <th>14</th>\n",
       "      <td>0.029940</td>\n",
       "      <td>0.029940</td>\n",
       "      <td>0.029940</td>\n",
       "      <td>0.029940</td>\n",
       "      <td>0.029940</td>\n",
       "      <td>0.029940</td>\n",
       "      <td>0.029940</td>\n",
       "      <td>0.029940</td>\n",
       "      <td>0.029940</td>\n",
       "      <td>0.029940</td>\n",
       "      <td>...</td>\n",
       "      <td>0.029940</td>\n",
       "      <td>0.029940</td>\n",
       "      <td>0.029940</td>\n",
       "      <td>0.029940</td>\n",
       "      <td>0.029940</td>\n",
       "      <td>0.029940</td>\n",
       "      <td>0.029940</td>\n",
       "      <td>0.029940</td>\n",
       "      <td>0.029940</td>\n",
       "      <td>0.029940</td>\n",
       "    </tr>\n",
       "    <tr>\n",
       "      <th>15</th>\n",
       "      <td>0.029940</td>\n",
       "      <td>0.029940</td>\n",
       "      <td>0.029940</td>\n",
       "      <td>0.029940</td>\n",
       "      <td>0.029940</td>\n",
       "      <td>0.029940</td>\n",
       "      <td>0.029940</td>\n",
       "      <td>0.029940</td>\n",
       "      <td>0.029940</td>\n",
       "      <td>0.029940</td>\n",
       "      <td>...</td>\n",
       "      <td>0.029940</td>\n",
       "      <td>0.029940</td>\n",
       "      <td>0.029940</td>\n",
       "      <td>0.029940</td>\n",
       "      <td>0.029940</td>\n",
       "      <td>0.029940</td>\n",
       "      <td>0.029940</td>\n",
       "      <td>0.029940</td>\n",
       "      <td>0.029940</td>\n",
       "      <td>0.029940</td>\n",
       "    </tr>\n",
       "    <tr>\n",
       "      <th>16</th>\n",
       "      <td>0.011976</td>\n",
       "      <td>0.011976</td>\n",
       "      <td>0.011976</td>\n",
       "      <td>0.011976</td>\n",
       "      <td>0.011976</td>\n",
       "      <td>0.011976</td>\n",
       "      <td>0.011976</td>\n",
       "      <td>0.011976</td>\n",
       "      <td>0.011976</td>\n",
       "      <td>0.011976</td>\n",
       "      <td>...</td>\n",
       "      <td>0.011976</td>\n",
       "      <td>0.011976</td>\n",
       "      <td>0.011976</td>\n",
       "      <td>0.011976</td>\n",
       "      <td>0.011976</td>\n",
       "      <td>0.011976</td>\n",
       "      <td>0.011976</td>\n",
       "      <td>0.011976</td>\n",
       "      <td>0.011976</td>\n",
       "      <td>0.011976</td>\n",
       "    </tr>\n",
       "    <tr>\n",
       "      <th>17</th>\n",
       "      <td>0.005988</td>\n",
       "      <td>0.005988</td>\n",
       "      <td>0.005988</td>\n",
       "      <td>0.005988</td>\n",
       "      <td>0.005988</td>\n",
       "      <td>0.005988</td>\n",
       "      <td>0.005988</td>\n",
       "      <td>0.005988</td>\n",
       "      <td>0.005988</td>\n",
       "      <td>0.005988</td>\n",
       "      <td>...</td>\n",
       "      <td>0.005988</td>\n",
       "      <td>0.005988</td>\n",
       "      <td>0.005988</td>\n",
       "      <td>0.005988</td>\n",
       "      <td>0.005988</td>\n",
       "      <td>0.005988</td>\n",
       "      <td>0.005988</td>\n",
       "      <td>0.005988</td>\n",
       "      <td>0.005988</td>\n",
       "      <td>0.005988</td>\n",
       "    </tr>\n",
       "    <tr>\n",
       "      <th>18</th>\n",
       "      <td>0.005988</td>\n",
       "      <td>0.005988</td>\n",
       "      <td>0.005988</td>\n",
       "      <td>0.005988</td>\n",
       "      <td>0.005988</td>\n",
       "      <td>0.005988</td>\n",
       "      <td>0.005988</td>\n",
       "      <td>0.005988</td>\n",
       "      <td>0.005988</td>\n",
       "      <td>0.005988</td>\n",
       "      <td>...</td>\n",
       "      <td>0.005988</td>\n",
       "      <td>0.005988</td>\n",
       "      <td>0.005988</td>\n",
       "      <td>0.005988</td>\n",
       "      <td>0.005988</td>\n",
       "      <td>0.005988</td>\n",
       "      <td>0.005988</td>\n",
       "      <td>0.005988</td>\n",
       "      <td>0.005988</td>\n",
       "      <td>0.005988</td>\n",
       "    </tr>\n",
       "    <tr>\n",
       "      <th>19</th>\n",
       "      <td>0.000000</td>\n",
       "      <td>0.000000</td>\n",
       "      <td>0.000000</td>\n",
       "      <td>0.000000</td>\n",
       "      <td>0.000000</td>\n",
       "      <td>0.000000</td>\n",
       "      <td>0.000000</td>\n",
       "      <td>0.000000</td>\n",
       "      <td>0.000000</td>\n",
       "      <td>0.000000</td>\n",
       "      <td>...</td>\n",
       "      <td>0.000000</td>\n",
       "      <td>0.000000</td>\n",
       "      <td>0.000000</td>\n",
       "      <td>0.000000</td>\n",
       "      <td>0.000000</td>\n",
       "      <td>0.000000</td>\n",
       "      <td>0.000000</td>\n",
       "      <td>0.000000</td>\n",
       "      <td>0.000000</td>\n",
       "      <td>0.000000</td>\n",
       "    </tr>\n",
       "  </tbody>\n",
       "</table>\n",
       "<p>20 rows × 105 columns</p>\n",
       "</div>"
      ],
      "text/plain": [
       "         0         1         2         3         4         5         6    \\\n",
       "0   0.706587  0.706587  0.706587  0.706587  0.706587  0.706587  0.706587   \n",
       "1   0.407186  0.407186  0.407186  0.407186  0.407186  0.407186  0.407186   \n",
       "2   0.269461  0.269461  0.269461  0.269461  0.269461  0.269461  0.269461   \n",
       "3   0.269461  0.269461  0.269461  0.269461  0.269461  0.269461  0.269461   \n",
       "4   0.185629  0.185629  0.185629  0.185629  0.185629  0.185629  0.185629   \n",
       "5   0.137725  0.137725  0.137725  0.137725  0.137725  0.137725  0.137725   \n",
       "6   0.113772  0.113772  0.113772  0.113772  0.113772  0.113772  0.113772   \n",
       "7   0.113772  0.113772  0.113772  0.113772  0.113772  0.113772  0.113772   \n",
       "8   0.095808  0.095808  0.095808  0.095808  0.095808  0.095808  0.095808   \n",
       "9   0.077844  0.077844  0.077844  0.077844  0.077844  0.077844  0.077844   \n",
       "10  0.053892  0.053892  0.053892  0.053892  0.053892  0.053892  0.053892   \n",
       "11  0.053892  0.053892  0.053892  0.053892  0.053892  0.053892  0.053892   \n",
       "12  0.047904  0.047904  0.047904  0.047904  0.047904  0.047904  0.047904   \n",
       "13  0.035928  0.035928  0.035928  0.035928  0.035928  0.035928  0.035928   \n",
       "14  0.029940  0.029940  0.029940  0.029940  0.029940  0.029940  0.029940   \n",
       "15  0.029940  0.029940  0.029940  0.029940  0.029940  0.029940  0.029940   \n",
       "16  0.011976  0.011976  0.011976  0.011976  0.011976  0.011976  0.011976   \n",
       "17  0.005988  0.005988  0.005988  0.005988  0.005988  0.005988  0.005988   \n",
       "18  0.005988  0.005988  0.005988  0.005988  0.005988  0.005988  0.005988   \n",
       "19  0.000000  0.000000  0.000000  0.000000  0.000000  0.000000  0.000000   \n",
       "\n",
       "         7         8         9    ...       95        96        97        98   \\\n",
       "0   0.706587  0.706587  0.706587  ...  0.706587  0.706587  0.706587  0.706587   \n",
       "1   0.407186  0.407186  0.407186  ...  0.407186  0.407186  0.407186  0.407186   \n",
       "2   0.269461  0.269461  0.269461  ...  0.269461  0.269461  0.269461  0.269461   \n",
       "3   0.269461  0.269461  0.269461  ...  0.269461  0.269461  0.269461  0.269461   \n",
       "4   0.185629  0.185629  0.185629  ...  0.185629  0.185629  0.185629  0.185629   \n",
       "5   0.137725  0.137725  0.137725  ...  0.137725  0.137725  0.137725  0.137725   \n",
       "6   0.113772  0.113772  0.113772  ...  0.113772  0.113772  0.113772  0.113772   \n",
       "7   0.113772  0.113772  0.113772  ...  0.113772  0.113772  0.113772  0.113772   \n",
       "8   0.095808  0.095808  0.095808  ...  0.095808  0.095808  0.095808  0.095808   \n",
       "9   0.077844  0.077844  0.077844  ...  0.077844  0.077844  0.077844  0.077844   \n",
       "10  0.053892  0.053892  0.053892  ...  0.053892  0.053892  0.053892  0.053892   \n",
       "11  0.053892  0.053892  0.053892  ...  0.053892  0.053892  0.053892  0.053892   \n",
       "12  0.047904  0.047904  0.047904  ...  0.047904  0.047904  0.047904  0.047904   \n",
       "13  0.035928  0.035928  0.035928  ...  0.035928  0.035928  0.035928  0.035928   \n",
       "14  0.029940  0.029940  0.029940  ...  0.029940  0.029940  0.029940  0.029940   \n",
       "15  0.029940  0.029940  0.029940  ...  0.029940  0.029940  0.029940  0.029940   \n",
       "16  0.011976  0.011976  0.011976  ...  0.011976  0.011976  0.011976  0.011976   \n",
       "17  0.005988  0.005988  0.005988  ...  0.005988  0.005988  0.005988  0.005988   \n",
       "18  0.005988  0.005988  0.005988  ...  0.005988  0.005988  0.005988  0.005988   \n",
       "19  0.000000  0.000000  0.000000  ...  0.000000  0.000000  0.000000  0.000000   \n",
       "\n",
       "         99        100       101       102       103       104  \n",
       "0   0.706587  0.706587  0.706587  0.706587  0.706587  0.706587  \n",
       "1   0.407186  0.407186  0.407186  0.407186  0.407186  0.407186  \n",
       "2   0.269461  0.269461  0.269461  0.269461  0.269461  0.269461  \n",
       "3   0.269461  0.269461  0.269461  0.269461  0.269461  0.269461  \n",
       "4   0.185629  0.185629  0.185629  0.185629  0.185629  0.185629  \n",
       "5   0.137725  0.137725  0.137725  0.137725  0.137725  0.137725  \n",
       "6   0.113772  0.113772  0.113772  0.113772  0.113772  0.113772  \n",
       "7   0.113772  0.113772  0.113772  0.113772  0.113772  0.113772  \n",
       "8   0.095808  0.095808  0.095808  0.095808  0.095808  0.095808  \n",
       "9   0.077844  0.077844  0.077844  0.077844  0.077844  0.077844  \n",
       "10  0.053892  0.053892  0.053892  0.053892  0.053892  0.053892  \n",
       "11  0.053892  0.053892  0.053892  0.053892  0.053892  0.053892  \n",
       "12  0.047904  0.047904  0.047904  0.047904  0.047904  0.047904  \n",
       "13  0.035928  0.035928  0.035928  0.035928  0.035928  0.035928  \n",
       "14  0.029940  0.029940  0.029940  0.029940  0.029940  0.029940  \n",
       "15  0.029940  0.029940  0.029940  0.029940  0.029940  0.029940  \n",
       "16  0.011976  0.011976  0.011976  0.011976  0.011976  0.011976  \n",
       "17  0.005988  0.005988  0.005988  0.005988  0.005988  0.005988  \n",
       "18  0.005988  0.005988  0.005988  0.005988  0.005988  0.005988  \n",
       "19  0.000000  0.000000  0.000000  0.000000  0.000000  0.000000  \n",
       "\n",
       "[20 rows x 105 columns]"
      ]
     },
     "execution_count": 272,
     "metadata": {},
     "output_type": "execute_result"
    }
   ],
   "source": [
    "predictions"
   ]
  },
  {
   "cell_type": "code",
   "execution_count": 218,
   "id": "9dcdd2b3-0233-4276-8acb-b4ce228a279f",
   "metadata": {
    "tags": []
   },
   "outputs": [
    {
     "data": {
      "text/html": [
       "<div>\n",
       "<style scoped>\n",
       "    .dataframe tbody tr th:only-of-type {\n",
       "        vertical-align: middle;\n",
       "    }\n",
       "\n",
       "    .dataframe tbody tr th {\n",
       "        vertical-align: top;\n",
       "    }\n",
       "\n",
       "    .dataframe thead th {\n",
       "        text-align: right;\n",
       "    }\n",
       "</style>\n",
       "<table border=\"1\" class=\"dataframe\">\n",
       "  <thead>\n",
       "    <tr style=\"text-align: right;\">\n",
       "      <th></th>\n",
       "      <th>0</th>\n",
       "      <th>1</th>\n",
       "      <th>2</th>\n",
       "      <th>3</th>\n",
       "      <th>4</th>\n",
       "      <th>5</th>\n",
       "      <th>6</th>\n",
       "      <th>7</th>\n",
       "      <th>8</th>\n",
       "      <th>9</th>\n",
       "      <th>10</th>\n",
       "      <th>11</th>\n",
       "      <th>12</th>\n",
       "      <th>13</th>\n",
       "      <th>14</th>\n",
       "      <th>15</th>\n",
       "      <th>16</th>\n",
       "      <th>17</th>\n",
       "      <th>18</th>\n",
       "      <th>19</th>\n",
       "    </tr>\n",
       "  </thead>\n",
       "  <tbody>\n",
       "    <tr>\n",
       "      <th>count</th>\n",
       "      <td>105.000000</td>\n",
       "      <td>105.000000</td>\n",
       "      <td>105.000000</td>\n",
       "      <td>105.000000</td>\n",
       "      <td>105.000000</td>\n",
       "      <td>105.000000</td>\n",
       "      <td>1.050000e+02</td>\n",
       "      <td>1.050000e+02</td>\n",
       "      <td>1.050000e+02</td>\n",
       "      <td>1.050000e+02</td>\n",
       "      <td>1.050000e+02</td>\n",
       "      <td>1.050000e+02</td>\n",
       "      <td>1.050000e+02</td>\n",
       "      <td>1.050000e+02</td>\n",
       "      <td>1.050000e+02</td>\n",
       "      <td>1.050000e+02</td>\n",
       "      <td>1.050000e+02</td>\n",
       "      <td>1.050000e+02</td>\n",
       "      <td>1.050000e+02</td>\n",
       "      <td>1.050000e+02</td>\n",
       "    </tr>\n",
       "    <tr>\n",
       "      <th>mean</th>\n",
       "      <td>0.991462</td>\n",
       "      <td>0.957212</td>\n",
       "      <td>0.698389</td>\n",
       "      <td>0.697147</td>\n",
       "      <td>0.490462</td>\n",
       "      <td>0.244314</td>\n",
       "      <td>2.234410e-01</td>\n",
       "      <td>2.067554e-01</td>\n",
       "      <td>2.036178e-01</td>\n",
       "      <td>6.337971e-02</td>\n",
       "      <td>2.300086e-02</td>\n",
       "      <td>1.808211e-03</td>\n",
       "      <td>1.138080e-03</td>\n",
       "      <td>1.065238e-03</td>\n",
       "      <td>8.567965e-04</td>\n",
       "      <td>7.606725e-04</td>\n",
       "      <td>6.102688e-04</td>\n",
       "      <td>5.392261e-04</td>\n",
       "      <td>4.410201e-04</td>\n",
       "      <td>3.896223e-04</td>\n",
       "    </tr>\n",
       "    <tr>\n",
       "      <th>std</th>\n",
       "      <td>0.003673</td>\n",
       "      <td>0.051753</td>\n",
       "      <td>0.355590</td>\n",
       "      <td>0.355991</td>\n",
       "      <td>0.323090</td>\n",
       "      <td>0.203757</td>\n",
       "      <td>1.917508e-01</td>\n",
       "      <td>1.815781e-01</td>\n",
       "      <td>1.793934e-01</td>\n",
       "      <td>6.389119e-02</td>\n",
       "      <td>2.572827e-02</td>\n",
       "      <td>2.594129e-03</td>\n",
       "      <td>1.720925e-03</td>\n",
       "      <td>1.623187e-03</td>\n",
       "      <td>1.322248e-03</td>\n",
       "      <td>1.196960e-03</td>\n",
       "      <td>9.069471e-04</td>\n",
       "      <td>8.218633e-04</td>\n",
       "      <td>6.865923e-04</td>\n",
       "      <td>6.183924e-04</td>\n",
       "    </tr>\n",
       "    <tr>\n",
       "      <th>min</th>\n",
       "      <td>0.979399</td>\n",
       "      <td>0.665998</td>\n",
       "      <td>0.003967</td>\n",
       "      <td>0.003671</td>\n",
       "      <td>0.001714</td>\n",
       "      <td>0.000007</td>\n",
       "      <td>8.025046e-07</td>\n",
       "      <td>1.494428e-07</td>\n",
       "      <td>4.314110e-08</td>\n",
       "      <td>3.483875e-09</td>\n",
       "      <td>4.969635e-10</td>\n",
       "      <td>1.436541e-11</td>\n",
       "      <td>3.464937e-12</td>\n",
       "      <td>2.641940e-12</td>\n",
       "      <td>6.867243e-13</td>\n",
       "      <td>1.144065e-13</td>\n",
       "      <td>7.139968e-14</td>\n",
       "      <td>2.065336e-14</td>\n",
       "      <td>6.051374e-15</td>\n",
       "      <td>1.578758e-15</td>\n",
       "    </tr>\n",
       "    <tr>\n",
       "      <th>25%</th>\n",
       "      <td>0.989717</td>\n",
       "      <td>0.959710</td>\n",
       "      <td>0.400309</td>\n",
       "      <td>0.395530</td>\n",
       "      <td>0.129751</td>\n",
       "      <td>0.018051</td>\n",
       "      <td>1.158940e-02</td>\n",
       "      <td>4.574477e-03</td>\n",
       "      <td>4.011781e-03</td>\n",
       "      <td>8.143215e-04</td>\n",
       "      <td>1.203250e-04</td>\n",
       "      <td>4.119470e-06</td>\n",
       "      <td>1.588940e-06</td>\n",
       "      <td>1.303846e-06</td>\n",
       "      <td>7.066299e-07</td>\n",
       "      <td>3.932181e-07</td>\n",
       "      <td>3.363270e-07</td>\n",
       "      <td>2.111975e-07</td>\n",
       "      <td>9.880314e-08</td>\n",
       "      <td>6.759839e-08</td>\n",
       "    </tr>\n",
       "    <tr>\n",
       "      <th>50%</th>\n",
       "      <td>0.991917</td>\n",
       "      <td>0.974677</td>\n",
       "      <td>0.928461</td>\n",
       "      <td>0.927005</td>\n",
       "      <td>0.606256</td>\n",
       "      <td>0.257386</td>\n",
       "      <td>2.314530e-01</td>\n",
       "      <td>2.256885e-01</td>\n",
       "      <td>2.244699e-01</td>\n",
       "      <td>5.943473e-02</td>\n",
       "      <td>2.020098e-02</td>\n",
       "      <td>1.199781e-03</td>\n",
       "      <td>7.289503e-04</td>\n",
       "      <td>6.651345e-04</td>\n",
       "      <td>4.803510e-04</td>\n",
       "      <td>4.119830e-04</td>\n",
       "      <td>3.575808e-04</td>\n",
       "      <td>3.124754e-04</td>\n",
       "      <td>2.594089e-04</td>\n",
       "      <td>2.218053e-04</td>\n",
       "    </tr>\n",
       "    <tr>\n",
       "      <th>75%</th>\n",
       "      <td>0.994190</td>\n",
       "      <td>0.982092</td>\n",
       "      <td>0.954284</td>\n",
       "      <td>0.953909</td>\n",
       "      <td>0.776455</td>\n",
       "      <td>0.399944</td>\n",
       "      <td>3.741735e-01</td>\n",
       "      <td>3.486742e-01</td>\n",
       "      <td>3.461234e-01</td>\n",
       "      <td>1.033384e-01</td>\n",
       "      <td>3.413009e-02</td>\n",
       "      <td>2.570517e-03</td>\n",
       "      <td>1.641510e-03</td>\n",
       "      <td>1.539999e-03</td>\n",
       "      <td>1.260259e-03</td>\n",
       "      <td>1.070295e-03</td>\n",
       "      <td>8.888150e-04</td>\n",
       "      <td>7.738238e-04</td>\n",
       "      <td>6.145115e-04</td>\n",
       "      <td>5.224964e-04</td>\n",
       "    </tr>\n",
       "    <tr>\n",
       "      <th>max</th>\n",
       "      <td>0.997052</td>\n",
       "      <td>0.992046</td>\n",
       "      <td>0.977673</td>\n",
       "      <td>0.977380</td>\n",
       "      <td>0.940907</td>\n",
       "      <td>0.677576</td>\n",
       "      <td>6.585131e-01</td>\n",
       "      <td>6.447690e-01</td>\n",
       "      <td>6.402896e-01</td>\n",
       "      <td>2.918833e-01</td>\n",
       "      <td>1.397139e-01</td>\n",
       "      <td>1.925605e-02</td>\n",
       "      <td>1.336058e-02</td>\n",
       "      <td>1.281026e-02</td>\n",
       "      <td>1.055128e-02</td>\n",
       "      <td>9.630576e-03</td>\n",
       "      <td>7.026196e-03</td>\n",
       "      <td>6.447695e-03</td>\n",
       "      <td>5.423206e-03</td>\n",
       "      <td>4.922906e-03</td>\n",
       "    </tr>\n",
       "  </tbody>\n",
       "</table>\n",
       "</div>"
      ],
      "text/plain": [
       "               0           1           2           3           4           5   \\\n",
       "count  105.000000  105.000000  105.000000  105.000000  105.000000  105.000000   \n",
       "mean     0.991462    0.957212    0.698389    0.697147    0.490462    0.244314   \n",
       "std      0.003673    0.051753    0.355590    0.355991    0.323090    0.203757   \n",
       "min      0.979399    0.665998    0.003967    0.003671    0.001714    0.000007   \n",
       "25%      0.989717    0.959710    0.400309    0.395530    0.129751    0.018051   \n",
       "50%      0.991917    0.974677    0.928461    0.927005    0.606256    0.257386   \n",
       "75%      0.994190    0.982092    0.954284    0.953909    0.776455    0.399944   \n",
       "max      0.997052    0.992046    0.977673    0.977380    0.940907    0.677576   \n",
       "\n",
       "                 6             7             8             9             10  \\\n",
       "count  1.050000e+02  1.050000e+02  1.050000e+02  1.050000e+02  1.050000e+02   \n",
       "mean   2.234410e-01  2.067554e-01  2.036178e-01  6.337971e-02  2.300086e-02   \n",
       "std    1.917508e-01  1.815781e-01  1.793934e-01  6.389119e-02  2.572827e-02   \n",
       "min    8.025046e-07  1.494428e-07  4.314110e-08  3.483875e-09  4.969635e-10   \n",
       "25%    1.158940e-02  4.574477e-03  4.011781e-03  8.143215e-04  1.203250e-04   \n",
       "50%    2.314530e-01  2.256885e-01  2.244699e-01  5.943473e-02  2.020098e-02   \n",
       "75%    3.741735e-01  3.486742e-01  3.461234e-01  1.033384e-01  3.413009e-02   \n",
       "max    6.585131e-01  6.447690e-01  6.402896e-01  2.918833e-01  1.397139e-01   \n",
       "\n",
       "                 11            12            13            14            15  \\\n",
       "count  1.050000e+02  1.050000e+02  1.050000e+02  1.050000e+02  1.050000e+02   \n",
       "mean   1.808211e-03  1.138080e-03  1.065238e-03  8.567965e-04  7.606725e-04   \n",
       "std    2.594129e-03  1.720925e-03  1.623187e-03  1.322248e-03  1.196960e-03   \n",
       "min    1.436541e-11  3.464937e-12  2.641940e-12  6.867243e-13  1.144065e-13   \n",
       "25%    4.119470e-06  1.588940e-06  1.303846e-06  7.066299e-07  3.932181e-07   \n",
       "50%    1.199781e-03  7.289503e-04  6.651345e-04  4.803510e-04  4.119830e-04   \n",
       "75%    2.570517e-03  1.641510e-03  1.539999e-03  1.260259e-03  1.070295e-03   \n",
       "max    1.925605e-02  1.336058e-02  1.281026e-02  1.055128e-02  9.630576e-03   \n",
       "\n",
       "                 16            17            18            19  \n",
       "count  1.050000e+02  1.050000e+02  1.050000e+02  1.050000e+02  \n",
       "mean   6.102688e-04  5.392261e-04  4.410201e-04  3.896223e-04  \n",
       "std    9.069471e-04  8.218633e-04  6.865923e-04  6.183924e-04  \n",
       "min    7.139968e-14  2.065336e-14  6.051374e-15  1.578758e-15  \n",
       "25%    3.363270e-07  2.111975e-07  9.880314e-08  6.759839e-08  \n",
       "50%    3.575808e-04  3.124754e-04  2.594089e-04  2.218053e-04  \n",
       "75%    8.888150e-04  7.738238e-04  6.145115e-04  5.224964e-04  \n",
       "max    7.026196e-03  6.447695e-03  5.423206e-03  4.922906e-03  "
      ]
     },
     "execution_count": 218,
     "metadata": {},
     "output_type": "execute_result"
    }
   ],
   "source": [
    "survival.T.describe()"
   ]
  },
  {
   "cell_type": "code",
   "execution_count": 276,
   "id": "04021600-b05d-47e0-af1f-2e037c9598b0",
   "metadata": {
    "tags": []
   },
   "outputs": [
    {
     "data": {
      "text/plain": [
       "tensor([10,  4,  4,  3,  4, 11,  6,  1,  2,  1,  5,  2,  1,  8,  8,  4,  1,  1,\n",
       "         1,  2,  7,  6,  2,  7,  3,  1,  1,  1,  0,  3,  2,  0,  0,  1,  5,  1,\n",
       "         0,  4,  0,  2,  0,  0,  1,  2,  0,  0,  2,  0,  0,  0,  5,  4,  2,  2,\n",
       "         2,  0,  1,  1,  0,  1,  0,  5,  0,  1,  3,  2,  6,  0,  1,  1,  5,  4,\n",
       "         2,  2,  2,  1,  5,  1,  0,  2,  1,  3,  4,  2,  1,  1,  1,  0,  2,  2,\n",
       "         1,  2,  4,  2,  2,  0,  0,  0,  1,  2,  1,  0,  2,  1,  2])"
      ]
     },
     "execution_count": 276,
     "metadata": {},
     "output_type": "execute_result"
    }
   ],
   "source": [
    "new_times"
   ]
  },
  {
   "cell_type": "code",
   "execution_count": 277,
   "id": "3a3f6b14-93ec-4462-a571-7b1496d91046",
   "metadata": {
    "tags": []
   },
   "outputs": [
    {
     "data": {
      "text/plain": [
       "tensor([0., 1., 0., 1., 0., 0., 0., 0., 0., 0., 1., 1., 1., 0., 0., 1., 0., 0.,\n",
       "        0., 0., 0., 1., 1., 1., 0., 0., 0., 0., 0., 0., 0., 0., 0., 0., 0., 1.,\n",
       "        0., 0., 0., 0., 0., 0., 1., 0., 0., 0., 0., 0., 0., 0., 0., 1., 0., 1.,\n",
       "        1., 0., 0., 0., 0., 0., 0., 0., 0., 0., 1., 0., 0., 0., 0., 0., 1., 0.,\n",
       "        0., 0., 0., 0., 0., 0., 0., 0., 0., 0., 0., 1., 1., 1., 1., 0., 0., 0.,\n",
       "        1., 1., 1., 1., 1., 0., 0., 0., 1., 1., 1., 0., 1., 0., 1.])"
      ]
     },
     "execution_count": 277,
     "metadata": {},
     "output_type": "execute_result"
    }
   ],
   "source": [
    "new_events"
   ]
  },
  {
   "cell_type": "code",
   "execution_count": 273,
   "id": "d76b0167-df14-49f6-896b-bd367d742e77",
   "metadata": {
    "tags": []
   },
   "outputs": [],
   "source": [
    "evel =EvalSurv(predictions,new_times.cpu().numpy(), new_events.cpu().numpy())"
   ]
  },
  {
   "cell_type": "code",
   "execution_count": 274,
   "id": "6ac459d2-ae68-4b73-b694-70a47bfeb13f",
   "metadata": {
    "tags": []
   },
   "outputs": [],
   "source": [
    "c_index = evel.concordance_td()"
   ]
  },
  {
   "cell_type": "code",
   "execution_count": 275,
   "id": "012a3f11-8747-411a-994c-8c72c5cdd397",
   "metadata": {
    "tags": []
   },
   "outputs": [
    {
     "data": {
      "text/plain": [
       "0.5531400966183575"
      ]
     },
     "execution_count": 275,
     "metadata": {},
     "output_type": "execute_result"
    }
   ],
   "source": [
    "c_index"
   ]
  },
  {
   "cell_type": "code",
   "execution_count": 205,
   "id": "2a3e99e8-b67a-4215-b90e-b8fe7bff129d",
   "metadata": {
    "tags": []
   },
   "outputs": [
    {
     "name": "stdout",
     "output_type": "stream",
     "text": [
      "../../DRIM/data/TCGA/GBMLGG/RNA/7fe2d652-2dc5-4ac0-87d8-94fe389b8be0/4205fd72-6678-41d6-8059-2db00867a92a.rna_seq.augmented_star_gene_counts.csv\n"
     ]
    }
   ],
   "source": [
    "elems =next(iter(train_dataloader))"
   ]
  },
  {
   "cell_type": "code",
   "execution_count": 207,
   "id": "26cf672f-dff4-4cb9-a5d8-68e2f4bd77a9",
   "metadata": {
    "tags": []
   },
   "outputs": [
    {
     "data": {
      "text/plain": [
       "torch.Size([1, 1, 16304])"
      ]
     },
     "execution_count": 207,
     "metadata": {},
     "output_type": "execute_result"
    }
   ],
   "source": [
    "elems.shape"
   ]
  },
  {
   "cell_type": "code",
   "execution_count": 114,
   "id": "79fb0866-b6e0-4f41-9ae7-bf429c09433f",
   "metadata": {
    "tags": []
   },
   "outputs": [
    {
     "data": {
      "text/plain": [
       "425"
      ]
     },
     "execution_count": 114,
     "metadata": {},
     "output_type": "execute_result"
    }
   ],
   "source": [
    "dataset_train.shape[0]"
   ]
  },
  {
   "cell_type": "code",
   "execution_count": 226,
   "id": "d90b8294-90c7-44ef-98d2-a09468198baa",
   "metadata": {},
   "outputs": [],
   "source": [
    "ibs =evel.integrated_brier_score(np.linspace(0, new_times.cpu().numpy().max()))"
   ]
  },
  {
   "cell_type": "code",
   "execution_count": 230,
   "id": "5e522309-621f-4f49-83e6-a757f811ce4a",
   "metadata": {
    "tags": []
   },
   "outputs": [
    {
     "data": {
      "text/plain": [
       "0.2916142232458687"
      ]
     },
     "execution_count": 230,
     "metadata": {},
     "output_type": "execute_result"
    }
   ],
   "source": [
    "ibs"
   ]
  },
  {
   "cell_type": "code",
   "execution_count": 227,
   "id": "bdc2b5b7-d6cc-4db6-a1db-a05a0c0613ea",
   "metadata": {
    "tags": []
   },
   "outputs": [
    {
     "data": {
      "text/plain": [
       "0.8391070749881006"
      ]
     },
     "execution_count": 227,
     "metadata": {},
     "output_type": "execute_result"
    }
   ],
   "source": [
    "evel.integrated_nbll(np.linspace(0, new_times.cpu().numpy().max()))"
   ]
  },
  {
   "cell_type": "code",
   "execution_count": 228,
   "id": "4cc8a338-c514-4e44-a551-1ec05cc6b3f1",
   "metadata": {
    "tags": []
   },
   "outputs": [],
   "source": [
    "cs_score = (c_index + (1 - ibs)) / 2"
   ]
  },
  {
   "cell_type": "code",
   "execution_count": 229,
   "id": "6db5c62d-a488-4efc-9796-59d624b2ad13",
   "metadata": {
    "tags": []
   },
   "outputs": [
    {
     "data": {
      "text/plain": [
       "0.6307629366862444"
      ]
     },
     "execution_count": 229,
     "metadata": {},
     "output_type": "execute_result"
    }
   ],
   "source": [
    "cs_score"
   ]
  },
  {
   "cell_type": "code",
   "execution_count": null,
   "id": "381465e1-4a0f-4016-8bb0-08118a4eae6d",
   "metadata": {},
   "outputs": [],
   "source": []
  }
 ],
 "metadata": {
  "kernelspec": {
   "display_name": "Python 3 (ipykernel)",
   "language": "python",
   "name": "python3"
  },
  "language_info": {
   "codemirror_mode": {
    "name": "ipython",
    "version": 3
   },
   "file_extension": ".py",
   "mimetype": "text/x-python",
   "name": "python",
   "nbconvert_exporter": "python",
   "pygments_lexer": "ipython3",
   "version": "3.11.5"
  }
 },
 "nbformat": 4,
 "nbformat_minor": 5
}
