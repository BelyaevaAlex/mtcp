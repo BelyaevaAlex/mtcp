{
 "cells": [
  {
   "cell_type": "code",
   "execution_count": 56,
   "id": "51f9f307-9aa6-418b-9339-309e8a822859",
   "metadata": {
    "tags": []
   },
   "outputs": [],
   "source": [
    "import pandas as pd \n",
    "from pathlib import Path"
   ]
  },
  {
   "cell_type": "code",
   "execution_count": 57,
   "id": "da50d7f1-10da-4a33-9c26-6c91d10672cd",
   "metadata": {
    "tags": []
   },
   "outputs": [],
   "source": [
    "dataset_path='../../DRIM/data/TCGA/GBMLGG/raw_RNA/'"
   ]
  },
  {
   "cell_type": "code",
   "execution_count": 58,
   "id": "33c378a5-7533-4e9a-98d2-a96e2f401ff0",
   "metadata": {
    "tags": []
   },
   "outputs": [],
   "source": [
    "sample_id ='00362664-cb13-4998-a26c-618dba69ea00'"
   ]
  },
  {
   "cell_type": "code",
   "execution_count": 59,
   "id": "62367b1a-79d7-461b-ae08-94231ed35dbd",
   "metadata": {
    "tags": []
   },
   "outputs": [],
   "source": [
    "sample_data_path =Path(dataset_path) / sample_id / 'a7732b3f-6294-47ec-b869-0aac6ee6c815.rna_seq.augmented_star_gene_counts.tsv'"
   ]
  },
  {
   "cell_type": "code",
   "execution_count": 60,
   "id": "bd8b3c5a-10c2-4c1f-a3d1-a197b17ec582",
   "metadata": {
    "tags": []
   },
   "outputs": [],
   "source": [
    "sample_data = pd.read_table(sample_data_path)"
   ]
  },
  {
   "cell_type": "code",
   "execution_count": 61,
   "id": "97d71fac-06c6-47c7-9317-565d805766cd",
   "metadata": {
    "tags": []
   },
   "outputs": [
    {
     "data": {
      "text/html": [
       "<div>\n",
       "<style scoped>\n",
       "    .dataframe tbody tr th:only-of-type {\n",
       "        vertical-align: middle;\n",
       "    }\n",
       "\n",
       "    .dataframe tbody tr th {\n",
       "        vertical-align: top;\n",
       "    }\n",
       "\n",
       "    .dataframe thead th {\n",
       "        text-align: right;\n",
       "    }\n",
       "</style>\n",
       "<table border=\"1\" class=\"dataframe\">\n",
       "  <thead>\n",
       "    <tr style=\"text-align: right;\">\n",
       "      <th></th>\n",
       "      <th></th>\n",
       "      <th></th>\n",
       "      <th></th>\n",
       "      <th></th>\n",
       "      <th></th>\n",
       "      <th></th>\n",
       "      <th></th>\n",
       "      <th># gene-model: GENCODE v36</th>\n",
       "    </tr>\n",
       "  </thead>\n",
       "  <tbody>\n",
       "    <tr>\n",
       "      <th>gene_id</th>\n",
       "      <th>gene_name</th>\n",
       "      <th>gene_type</th>\n",
       "      <th>unstranded</th>\n",
       "      <th>stranded_first</th>\n",
       "      <th>stranded_second</th>\n",
       "      <th>tpm_unstranded</th>\n",
       "      <th>fpkm_unstranded</th>\n",
       "      <td>fpkm_uq_unstranded</td>\n",
       "    </tr>\n",
       "    <tr>\n",
       "      <th>N_unmapped</th>\n",
       "      <th>NaN</th>\n",
       "      <th>NaN</th>\n",
       "      <th>2800310</th>\n",
       "      <th>2800310</th>\n",
       "      <th>2800310</th>\n",
       "      <th>NaN</th>\n",
       "      <th>NaN</th>\n",
       "      <td>NaN</td>\n",
       "    </tr>\n",
       "    <tr>\n",
       "      <th>N_multimapping</th>\n",
       "      <th>NaN</th>\n",
       "      <th>NaN</th>\n",
       "      <th>6575856</th>\n",
       "      <th>6575856</th>\n",
       "      <th>6575856</th>\n",
       "      <th>NaN</th>\n",
       "      <th>NaN</th>\n",
       "      <td>NaN</td>\n",
       "    </tr>\n",
       "    <tr>\n",
       "      <th>N_noFeature</th>\n",
       "      <th>NaN</th>\n",
       "      <th>NaN</th>\n",
       "      <th>4096328</th>\n",
       "      <th>42598823</th>\n",
       "      <th>42961358</th>\n",
       "      <th>NaN</th>\n",
       "      <th>NaN</th>\n",
       "      <td>NaN</td>\n",
       "    </tr>\n",
       "    <tr>\n",
       "      <th>N_ambiguous</th>\n",
       "      <th>NaN</th>\n",
       "      <th>NaN</th>\n",
       "      <th>8182106</th>\n",
       "      <th>1964691</th>\n",
       "      <th>1946794</th>\n",
       "      <th>NaN</th>\n",
       "      <th>NaN</th>\n",
       "      <td>NaN</td>\n",
       "    </tr>\n",
       "    <tr>\n",
       "      <th>...</th>\n",
       "      <th>...</th>\n",
       "      <th>...</th>\n",
       "      <th>...</th>\n",
       "      <th>...</th>\n",
       "      <th>...</th>\n",
       "      <th>...</th>\n",
       "      <th>...</th>\n",
       "      <td>...</td>\n",
       "    </tr>\n",
       "    <tr>\n",
       "      <th>ENSG00000288669.1</th>\n",
       "      <th>AC008763.4</th>\n",
       "      <th>protein_coding</th>\n",
       "      <th>0</th>\n",
       "      <th>1</th>\n",
       "      <th>0</th>\n",
       "      <th>0.0000</th>\n",
       "      <th>0.0000</th>\n",
       "      <td>0.0000</td>\n",
       "    </tr>\n",
       "    <tr>\n",
       "      <th>ENSG00000288670.1</th>\n",
       "      <th>AL592295.6</th>\n",
       "      <th>lncRNA</th>\n",
       "      <th>1201</th>\n",
       "      <th>632</th>\n",
       "      <th>655</th>\n",
       "      <th>30.1440</th>\n",
       "      <th>9.3454</th>\n",
       "      <td>9.6219</td>\n",
       "    </tr>\n",
       "    <tr>\n",
       "      <th>ENSG00000288671.1</th>\n",
       "      <th>AC006486.3</th>\n",
       "      <th>protein_coding</th>\n",
       "      <th>0</th>\n",
       "      <th>0</th>\n",
       "      <th>0</th>\n",
       "      <th>0.0000</th>\n",
       "      <th>0.0000</th>\n",
       "      <td>0.0000</td>\n",
       "    </tr>\n",
       "    <tr>\n",
       "      <th>ENSG00000288674.1</th>\n",
       "      <th>AL391628.1</th>\n",
       "      <th>protein_coding</th>\n",
       "      <th>5</th>\n",
       "      <th>2</th>\n",
       "      <th>3</th>\n",
       "      <th>0.0236</th>\n",
       "      <th>0.0073</th>\n",
       "      <td>0.0075</td>\n",
       "    </tr>\n",
       "    <tr>\n",
       "      <th>ENSG00000288675.1</th>\n",
       "      <th>AP006621.6</th>\n",
       "      <th>protein_coding</th>\n",
       "      <th>151</th>\n",
       "      <th>128</th>\n",
       "      <th>131</th>\n",
       "      <th>4.0765</th>\n",
       "      <th>1.2638</th>\n",
       "      <td>1.3012</td>\n",
       "    </tr>\n",
       "  </tbody>\n",
       "</table>\n",
       "<p>60665 rows × 1 columns</p>\n",
       "</div>"
      ],
      "text/plain": [
       "                                                                                                                     # gene-model: GENCODE v36\n",
       "gene_id           gene_name  gene_type      unstranded stranded_first stranded_second tpm_unstranded fpkm_unstranded        fpkm_uq_unstranded\n",
       "N_unmapped        NaN        NaN            2800310    2800310        2800310         NaN            NaN                                   NaN\n",
       "N_multimapping    NaN        NaN            6575856    6575856        6575856         NaN            NaN                                   NaN\n",
       "N_noFeature       NaN        NaN            4096328    42598823       42961358        NaN            NaN                                   NaN\n",
       "N_ambiguous       NaN        NaN            8182106    1964691        1946794         NaN            NaN                                   NaN\n",
       "...                                                                                                                                        ...\n",
       "ENSG00000288669.1 AC008763.4 protein_coding 0          1              0               0.0000         0.0000                             0.0000\n",
       "ENSG00000288670.1 AL592295.6 lncRNA         1201       632            655             30.1440        9.3454                             9.6219\n",
       "ENSG00000288671.1 AC006486.3 protein_coding 0          0              0               0.0000         0.0000                             0.0000\n",
       "ENSG00000288674.1 AL391628.1 protein_coding 5          2              3               0.0236         0.0073                             0.0075\n",
       "ENSG00000288675.1 AP006621.6 protein_coding 151        128            131             4.0765         1.2638                             1.3012\n",
       "\n",
       "[60665 rows x 1 columns]"
      ]
     },
     "execution_count": 61,
     "metadata": {},
     "output_type": "execute_result"
    }
   ],
   "source": [
    "sample_data"
   ]
  },
  {
   "cell_type": "markdown",
   "id": "d7bbdfcc-7650-4705-9a76-a3cc3d64825f",
   "metadata": {},
   "source": [
    "## Воспользуемся препроцессингом из прошлой статьи"
   ]
  },
  {
   "cell_type": "code",
   "execution_count": 62,
   "id": "59d0615a-2e98-45ed-91c2-6ceb7f843238",
   "metadata": {
    "tags": []
   },
   "outputs": [],
   "source": [
    "# import needed libraries\n",
    "import pandas as pd\n",
    "import requests\n",
    "import io\n",
    "import pandas as pd\n",
    "import os\n",
    "import numpy as np\n",
    "from collections import OrderedDict\n",
    "import itertools\n",
    "from typing import Tuple, Dict\n",
    "import tqdm\n",
    "import matplotlib.pyplot as plt\n",
    "import json\n",
    "from sklearn.model_selection import StratifiedKFold\n",
    "from PIL import Image\n",
    "from IPython import display\n",
    "# import pyvips\n",
    "import torch\n",
    "import torch.nn.functional as F\n",
    "import cv2\n",
    "import tqdm\n",
    "from sklearn.preprocessing import StandardScaler\n",
    "from sklearn.preprocessing import FunctionTransformer\n",
    "from sklearn.pipeline import Pipeline\n",
    "from joblib import dump, load\n",
    "import torchvision\n",
    "from torchvision.transforms import ToTensor\n",
    "import torch\n",
    "import json\n",
    "\n",
    "base_path = '../../DRIM/data/TCGA/GBMLGG/'"
   ]
  },
  {
   "cell_type": "code",
   "execution_count": 63,
   "id": "212068d1-5f2d-40b9-9157-86f122407a76",
   "metadata": {
    "tags": []
   },
   "outputs": [
    {
     "name": "stdout",
     "output_type": "stream",
     "text": [
      "Thu Dec  5 12:07:39 2024       \n",
      "+---------------------------------------------------------------------------------------+\n",
      "| NVIDIA-SMI 535.161.07             Driver Version: 535.161.07   CUDA Version: 12.2     |\n",
      "|-----------------------------------------+----------------------+----------------------+\n",
      "| GPU  Name                 Persistence-M | Bus-Id        Disp.A | Volatile Uncorr. ECC |\n",
      "| Fan  Temp   Perf          Pwr:Usage/Cap |         Memory-Usage | GPU-Util  Compute M. |\n",
      "|                                         |                      |               MIG M. |\n",
      "|=========================================+======================+======================|\n",
      "|   0  NVIDIA RTX 6000 Ada Gene...    Off | 00000000:38:00.0 Off |                  Off |\n",
      "| 30%   27C    P8              24W / 300W |      4MiB / 49140MiB |      0%      Default |\n",
      "|                                         |                      |                  N/A |\n",
      "+-----------------------------------------+----------------------+----------------------+\n",
      "|   1  NVIDIA RTX 6000 Ada Gene...    Off | 00000000:49:00.0 Off |                  Off |\n",
      "| 41%   68C    P2             271W / 300W |  14193MiB / 49140MiB |     81%      Default |\n",
      "|                                         |                      |                  N/A |\n",
      "+-----------------------------------------+----------------------+----------------------+\n",
      "|   2  NVIDIA RTX 6000 Ada Gene...    Off | 00000000:5A:00.0 Off |                  Off |\n",
      "| 30%   26C    P8              28W / 300W |      4MiB / 49140MiB |      0%      Default |\n",
      "|                                         |                      |                  N/A |\n",
      "+-----------------------------------------+----------------------+----------------------+\n",
      "|   3  NVIDIA A40                     Off | 00000000:98:00.0 Off |                    0 |\n",
      "|  0%   25C    P8              20W / 300W |      3MiB / 46068MiB |      0%      Default |\n",
      "|                                         |                      |                  N/A |\n",
      "+-----------------------------------------+----------------------+----------------------+\n",
      "|   4  NVIDIA RTX 6000 Ada Gene...    Off | 00000000:C8:00.0 Off |                  Off |\n",
      "| 30%   53C    P2             124W / 300W |   6093MiB / 49140MiB |     75%      Default |\n",
      "|                                         |                      |                  N/A |\n",
      "+-----------------------------------------+----------------------+----------------------+\n",
      "|   5  NVIDIA RTX 6000 Ada Gene...    Off | 00000000:D8:00.0 Off |                  Off |\n",
      "| 30%   53C    P2             142W / 300W |  10295MiB / 49140MiB |     78%      Default |\n",
      "|                                         |                      |                  N/A |\n",
      "+-----------------------------------------+----------------------+----------------------+\n",
      "                                                                                         \n",
      "+---------------------------------------------------------------------------------------+\n",
      "| Processes:                                                                            |\n",
      "|  GPU   GI   CI        PID   Type   Process name                            GPU Memory |\n",
      "|        ID   ID                                                             Usage      |\n",
      "|=======================================================================================|\n",
      "+---------------------------------------------------------------------------------------+\n"
     ]
    }
   ],
   "source": [
    "!nvidia-smi"
   ]
  },
  {
   "cell_type": "code",
   "execution_count": 64,
   "id": "75f797fe-fc64-468b-9eb3-26a20b1641a9",
   "metadata": {
    "tags": []
   },
   "outputs": [],
   "source": [
    "#!pip3 install torch torchvision torchaudio --index-url https://download.pytorch.org/whl/cu121\n",
    "#!pip install opencv-python"
   ]
  },
  {
   "cell_type": "code",
   "execution_count": 65,
   "id": "e3c9db16-69c9-4d68-a7d9-98c22642d667",
   "metadata": {
    "tags": []
   },
   "outputs": [
    {
     "data": {
      "text/plain": [
       "(1104, 18)"
      ]
     },
     "execution_count": 65,
     "metadata": {},
     "output_type": "execute_result"
    }
   ],
   "source": [
    "dataframe = pd.read_csv('../../DRIM/data/files/clinical_data.tsv', sep='\\t')\n",
    "dataframe.shape"
   ]
  },
  {
   "cell_type": "code",
   "execution_count": 11,
   "id": "d3481285-f4c1-471f-90d6-cdacbaf5a4c5",
   "metadata": {
    "tags": []
   },
   "outputs": [
    {
     "data": {
      "text/plain": [
       "(1104, 18)"
      ]
     },
     "execution_count": 11,
     "metadata": {},
     "output_type": "execute_result"
    }
   ],
   "source": [
    "dataframe = dataframe[dataframe.project_id.isin(['GBM', 'LGG'])]\n",
    "dataframe.shape"
   ]
  },
  {
   "cell_type": "code",
   "execution_count": 12,
   "id": "e2f6f2b3-24b5-4a7e-b90d-16b553b67d20",
   "metadata": {
    "tags": []
   },
   "outputs": [
    {
     "data": {
      "text/plain": [
       "group\n",
       "train    886\n",
       "test     218\n",
       "Name: count, dtype: int64"
      ]
     },
     "execution_count": 12,
     "metadata": {},
     "output_type": "execute_result"
    }
   ],
   "source": [
    "dataframe['group'].value_counts()"
   ]
  },
  {
   "cell_type": "code",
   "execution_count": 13,
   "id": "bb6566e3-138c-4493-aa29-83cfdb33918d",
   "metadata": {
    "tags": []
   },
   "outputs": [],
   "source": [
    "# helpers function\n",
    "def request_file_info(data_type):\n",
    "    \"\"\"\n",
    "    Adapted from Vale-Silva's preprocessing.\n",
    "    \"\"\"\n",
    "    fields = [\n",
    "        'file_name',\n",
    "        'cases.submitter_id',\n",
    "        'cases.samples.sample_type',\n",
    "        'cases.project.project_id',\n",
    "        'cases.project.primary_site',\n",
    "        ]\n",
    "\n",
    "    fields = ','.join(fields)\n",
    "\n",
    "    files_endpt = 'https://api.gdc.cancer.gov/files'\n",
    "\n",
    "    filters = {\n",
    "        'op': 'and',\n",
    "        'content':[\n",
    "             {\n",
    "        \"op\": \"in\",\n",
    "        \"content\":{\n",
    "            \"field\": \"cases.project.primary_site\",\n",
    "            \"value\": [\"Brain\"]\n",
    "            }\n",
    "        },{\n",
    "            'op': 'in',\n",
    "            'content':{\n",
    "                'field': 'files.experimental_strategy',\n",
    "                'value': [data_type]\n",
    "                }\n",
    "            }  \n",
    "        ]\n",
    "    }\n",
    "\n",
    "    params = {\n",
    "        'filters': filters,\n",
    "        'fields': fields,\n",
    "        'format': 'TSV',\n",
    "        'size': '200000'\n",
    "        }\n",
    "\n",
    "    response = requests.post(files_endpt, headers = {'Content-Type': 'application/json'}, json = params)\n",
    "\n",
    "    return pd.read_csv(io.StringIO(response.content.decode('utf-8')), sep='\\t')"
   ]
  },
  {
   "cell_type": "code",
   "execution_count": 14,
   "id": "2cce6970-5640-4ccd-9fb3-447c8ddf6d8f",
   "metadata": {
    "tags": []
   },
   "outputs": [],
   "source": [
    "def make_patient_file_map(df, base_dir):\n",
    "    \"\"\"\n",
    "    Adapted from Vale-Silva's preprocessing.\n",
    "    \"\"\"\n",
    "    \n",
    "    d = {}\n",
    "    for _, row in df.iterrows():\n",
    "        patient = row['cases.0.submitter_id']\n",
    "        if os.path.exists(os.path.join(base_dir, row.id, row.file_name)):\n",
    "            if patient in d:\n",
    "                if not isinstance(d[patient], tuple):\n",
    "                    d[patient] = (\n",
    "                        d[patient],\n",
    "                        os.path.join(base_dir, row.id, row.file_name))\n",
    "                else:\n",
    "                    d[patient] += os.path.join(base_dir, row.id, row.file_name),\n",
    "            else:\n",
    "                d[patient] = os.path.join(base_dir, row.id, row.file_name)\n",
    "\n",
    "    return d"
   ]
  },
  {
   "cell_type": "markdown",
   "id": "be895b1e-b627-4393-af03-82c4ec53e965",
   "metadata": {},
   "source": [
    "# 2. Clinical Data <a name=\"p2\"></a>"
   ]
  },
  {
   "cell_type": "code",
   "execution_count": 15,
   "id": "d533982c-3ddd-4697-b6c1-e3d8a91a6dbb",
   "metadata": {
    "tags": []
   },
   "outputs": [],
   "source": [
    "%%capture\n",
    "supplementary = pd.read_csv('../../DRIM/data/files/supplementary_data.tsv', sep='\\t')"
   ]
  },
  {
   "cell_type": "code",
   "execution_count": 16,
   "id": "6a4a397b-b782-41b8-b4e1-d2e136c3d7a8",
   "metadata": {
    "tags": []
   },
   "outputs": [],
   "source": [
    "mapper_clin = {\n",
    "    'patient': 'submitter_id', \n",
    "    'IDH.status': 'IDH', \n",
    "    'MGMT.promoter.status': 'MGMT',\n",
    "    'X1p.19q.codeletion': 'X1p19q',\n",
    "    'Chr.19.20.co.gain': '19.20.gain',\n",
    "    'Chr.7.gain.Chr.10.loss': '7g10l',\n",
    "    'TERT.expression.status': 'TERT',\n",
    "    'ATRX.status': 'ATRX',\n",
    "}"
   ]
  },
  {
   "cell_type": "code",
   "execution_count": 17,
   "id": "0e87d5ad-3f06-4166-b60c-9187e48d41e2",
   "metadata": {
    "tags": []
   },
   "outputs": [],
   "source": [
    "supplementary = supplementary.drop(columns=['IDH', 'Mutations', 'TERT']).rename(columns=mapper_clin)[list(mapper_clin.values())]\n",
    "supplementary = supplementary[~supplementary.duplicated(subset=['submitter_id'], keep='first')].dropna(subset='submitter_id')"
   ]
  },
  {
   "cell_type": "code",
   "execution_count": 18,
   "id": "d3485cdc-9c37-4456-a6b5-ac5cb957bd2f",
   "metadata": {
    "tags": []
   },
   "outputs": [
    {
     "data": {
      "text/plain": [
       "(1104, 25)"
      ]
     },
     "execution_count": 18,
     "metadata": {},
     "output_type": "execute_result"
    }
   ],
   "source": [
    "dataframe = dataframe.merge(supplementary, how='left', on='submitter_id')\n",
    "dataframe.shape"
   ]
  },
  {
   "cell_type": "code",
   "execution_count": 19,
   "id": "ca1f48b8-0efe-45c4-bd73-a62fe52434c5",
   "metadata": {
    "tags": []
   },
   "outputs": [
    {
     "name": "stdout",
     "output_type": "stream",
     "text": [
      "submitter_id\n",
      "TCGA-CS-4938    1\n",
      "TCGA-06-5415    1\n",
      "TCGA-06-5859    1\n",
      "TCGA-06-5858    1\n",
      "TCGA-06-5856    1\n",
      "               ..\n",
      "TCGA-P5-A77X    1\n",
      "TCGA-P5-A780    1\n",
      "TCGA-P5-A781    1\n",
      "TCGA-QH-A65R    1\n",
      "TCGA-RR-A6KC    1\n",
      "Name: count, Length: 1104, dtype: int64\n",
      "IDH\n",
      "WT        529\n",
      "Mutant    453\n",
      "Name: count, dtype: int64\n",
      "MGMT\n",
      "Methylated      607\n",
      "Unmethylated    311\n",
      "Name: count, dtype: int64\n",
      "X1p19q\n",
      "non-codel    913\n",
      "codel        169\n",
      "Name: count, dtype: int64\n",
      "19.20.gain\n",
      "No chr 19/20 gain    969\n",
      "Gain chr 19/20       104\n",
      "Name: count, dtype: int64\n",
      "7g10l\n",
      "No combined CNA             644\n",
      "Gain chr 7 & loss chr 10    429\n",
      "Name: count, dtype: int64\n",
      "TERT\n",
      "Expressed        348\n",
      "Not expressed    312\n",
      "Name: count, dtype: int64\n",
      "ATRX\n",
      "WT        601\n",
      "Mutant    208\n",
      "Name: count, dtype: int64\n"
     ]
    }
   ],
   "source": [
    "for col in list(mapper_clin.values()):\n",
    "    print(dataframe[col].value_counts())"
   ]
  },
  {
   "cell_type": "code",
   "execution_count": 20,
   "id": "da4096ef-31fe-4122-81a3-31821c5696e6",
   "metadata": {
    "tags": []
   },
   "outputs": [
    {
     "data": {
      "text/html": [
       "<div>\n",
       "<style scoped>\n",
       "    .dataframe tbody tr th:only-of-type {\n",
       "        vertical-align: middle;\n",
       "    }\n",
       "\n",
       "    .dataframe tbody tr th {\n",
       "        vertical-align: top;\n",
       "    }\n",
       "\n",
       "    .dataframe thead th {\n",
       "        text-align: right;\n",
       "    }\n",
       "</style>\n",
       "<table border=\"1\" class=\"dataframe\">\n",
       "  <thead>\n",
       "    <tr style=\"text-align: right;\">\n",
       "      <th></th>\n",
       "      <th>Unnamed: 0</th>\n",
       "      <th>submitter_id</th>\n",
       "      <th>tumor_stage</th>\n",
       "      <th>age_at_diagnosis</th>\n",
       "      <th>prior_treatment</th>\n",
       "      <th>prior_malignancy</th>\n",
       "      <th>synchronous_malignancy</th>\n",
       "      <th>days_to_last_follow_up</th>\n",
       "      <th>gender</th>\n",
       "      <th>race</th>\n",
       "      <th>...</th>\n",
       "      <th>time</th>\n",
       "      <th>event</th>\n",
       "      <th>group</th>\n",
       "      <th>IDH</th>\n",
       "      <th>MGMT</th>\n",
       "      <th>X1p19q</th>\n",
       "      <th>19.20.gain</th>\n",
       "      <th>7g10l</th>\n",
       "      <th>TERT</th>\n",
       "      <th>ATRX</th>\n",
       "    </tr>\n",
       "  </thead>\n",
       "  <tbody>\n",
       "    <tr>\n",
       "      <th>0</th>\n",
       "      <td>607</td>\n",
       "      <td>TCGA-CS-4938</td>\n",
       "      <td>NaN</td>\n",
       "      <td>11509.0</td>\n",
       "      <td>No</td>\n",
       "      <td>no</td>\n",
       "      <td>No</td>\n",
       "      <td>3574.0</td>\n",
       "      <td>female</td>\n",
       "      <td>white</td>\n",
       "      <td>...</td>\n",
       "      <td>9.791781</td>\n",
       "      <td>0</td>\n",
       "      <td>train</td>\n",
       "      <td>Mutant</td>\n",
       "      <td>Unmethylated</td>\n",
       "      <td>non-codel</td>\n",
       "      <td>No chr 19/20 gain</td>\n",
       "      <td>No combined CNA</td>\n",
       "      <td>Not expressed</td>\n",
       "      <td>Mutant</td>\n",
       "    </tr>\n",
       "    <tr>\n",
       "      <th>1</th>\n",
       "      <td>608</td>\n",
       "      <td>TCGA-CS-4941</td>\n",
       "      <td>NaN</td>\n",
       "      <td>24578.0</td>\n",
       "      <td>No</td>\n",
       "      <td>no</td>\n",
       "      <td>No</td>\n",
       "      <td>NaN</td>\n",
       "      <td>male</td>\n",
       "      <td>white</td>\n",
       "      <td>...</td>\n",
       "      <td>0.641096</td>\n",
       "      <td>1</td>\n",
       "      <td>train</td>\n",
       "      <td>WT</td>\n",
       "      <td>Methylated</td>\n",
       "      <td>non-codel</td>\n",
       "      <td>No chr 19/20 gain</td>\n",
       "      <td>Gain chr 7 &amp; loss chr 10</td>\n",
       "      <td>Expressed</td>\n",
       "      <td>WT</td>\n",
       "    </tr>\n",
       "    <tr>\n",
       "      <th>2</th>\n",
       "      <td>609</td>\n",
       "      <td>TCGA-CS-4942</td>\n",
       "      <td>NaN</td>\n",
       "      <td>16297.0</td>\n",
       "      <td>No</td>\n",
       "      <td>no</td>\n",
       "      <td>No</td>\n",
       "      <td>NaN</td>\n",
       "      <td>female</td>\n",
       "      <td>black or african american</td>\n",
       "      <td>...</td>\n",
       "      <td>3.657534</td>\n",
       "      <td>1</td>\n",
       "      <td>train</td>\n",
       "      <td>Mutant</td>\n",
       "      <td>Unmethylated</td>\n",
       "      <td>non-codel</td>\n",
       "      <td>No chr 19/20 gain</td>\n",
       "      <td>No combined CNA</td>\n",
       "      <td>Not expressed</td>\n",
       "      <td>Mutant</td>\n",
       "    </tr>\n",
       "    <tr>\n",
       "      <th>3</th>\n",
       "      <td>610</td>\n",
       "      <td>TCGA-CS-4943</td>\n",
       "      <td>NaN</td>\n",
       "      <td>13565.0</td>\n",
       "      <td>No</td>\n",
       "      <td>no</td>\n",
       "      <td>No</td>\n",
       "      <td>NaN</td>\n",
       "      <td>male</td>\n",
       "      <td>white</td>\n",
       "      <td>...</td>\n",
       "      <td>3.030137</td>\n",
       "      <td>1</td>\n",
       "      <td>train</td>\n",
       "      <td>Mutant</td>\n",
       "      <td>Methylated</td>\n",
       "      <td>non-codel</td>\n",
       "      <td>No chr 19/20 gain</td>\n",
       "      <td>No combined CNA</td>\n",
       "      <td>Not expressed</td>\n",
       "      <td>Mutant</td>\n",
       "    </tr>\n",
       "    <tr>\n",
       "      <th>4</th>\n",
       "      <td>611</td>\n",
       "      <td>TCGA-CS-4944</td>\n",
       "      <td>NaN</td>\n",
       "      <td>18494.0</td>\n",
       "      <td>No</td>\n",
       "      <td>no</td>\n",
       "      <td>No</td>\n",
       "      <td>1828.0</td>\n",
       "      <td>male</td>\n",
       "      <td>white</td>\n",
       "      <td>...</td>\n",
       "      <td>5.008219</td>\n",
       "      <td>0</td>\n",
       "      <td>train</td>\n",
       "      <td>Mutant</td>\n",
       "      <td>Methylated</td>\n",
       "      <td>non-codel</td>\n",
       "      <td>No chr 19/20 gain</td>\n",
       "      <td>No combined CNA</td>\n",
       "      <td>Expressed</td>\n",
       "      <td>WT</td>\n",
       "    </tr>\n",
       "    <tr>\n",
       "      <th>...</th>\n",
       "      <td>...</td>\n",
       "      <td>...</td>\n",
       "      <td>...</td>\n",
       "      <td>...</td>\n",
       "      <td>...</td>\n",
       "      <td>...</td>\n",
       "      <td>...</td>\n",
       "      <td>...</td>\n",
       "      <td>...</td>\n",
       "      <td>...</td>\n",
       "      <td>...</td>\n",
       "      <td>...</td>\n",
       "      <td>...</td>\n",
       "      <td>...</td>\n",
       "      <td>...</td>\n",
       "      <td>...</td>\n",
       "      <td>...</td>\n",
       "      <td>...</td>\n",
       "      <td>...</td>\n",
       "      <td>...</td>\n",
       "      <td>...</td>\n",
       "    </tr>\n",
       "    <tr>\n",
       "      <th>1099</th>\n",
       "      <td>4475</td>\n",
       "      <td>TCGA-87-5896</td>\n",
       "      <td>NaN</td>\n",
       "      <td>18391.0</td>\n",
       "      <td>No</td>\n",
       "      <td>NaN</td>\n",
       "      <td>NaN</td>\n",
       "      <td>800.0</td>\n",
       "      <td>female</td>\n",
       "      <td>white</td>\n",
       "      <td>...</td>\n",
       "      <td>2.191781</td>\n",
       "      <td>0</td>\n",
       "      <td>test</td>\n",
       "      <td>WT</td>\n",
       "      <td>Unmethylated</td>\n",
       "      <td>non-codel</td>\n",
       "      <td>No chr 19/20 gain</td>\n",
       "      <td>Gain chr 7 &amp; loss chr 10</td>\n",
       "      <td>NaN</td>\n",
       "      <td>WT</td>\n",
       "    </tr>\n",
       "    <tr>\n",
       "      <th>1100</th>\n",
       "      <td>4476</td>\n",
       "      <td>TCGA-OX-A56R</td>\n",
       "      <td>NaN</td>\n",
       "      <td>25178.0</td>\n",
       "      <td>No</td>\n",
       "      <td>no</td>\n",
       "      <td>No</td>\n",
       "      <td>NaN</td>\n",
       "      <td>male</td>\n",
       "      <td>black or african american</td>\n",
       "      <td>...</td>\n",
       "      <td>0.493151</td>\n",
       "      <td>1</td>\n",
       "      <td>train</td>\n",
       "      <td>WT</td>\n",
       "      <td>Methylated</td>\n",
       "      <td>non-codel</td>\n",
       "      <td>No chr 19/20 gain</td>\n",
       "      <td>Gain chr 7 &amp; loss chr 10</td>\n",
       "      <td>NaN</td>\n",
       "      <td>WT</td>\n",
       "    </tr>\n",
       "    <tr>\n",
       "      <th>1101</th>\n",
       "      <td>4477</td>\n",
       "      <td>TCGA-RR-A6KA</td>\n",
       "      <td>NaN</td>\n",
       "      <td>26582.0</td>\n",
       "      <td>No</td>\n",
       "      <td>no</td>\n",
       "      <td>No</td>\n",
       "      <td>NaN</td>\n",
       "      <td>female</td>\n",
       "      <td>black or african american</td>\n",
       "      <td>...</td>\n",
       "      <td>0.523288</td>\n",
       "      <td>1</td>\n",
       "      <td>train</td>\n",
       "      <td>WT</td>\n",
       "      <td>Methylated</td>\n",
       "      <td>non-codel</td>\n",
       "      <td>Gain chr 19/20</td>\n",
       "      <td>No combined CNA</td>\n",
       "      <td>NaN</td>\n",
       "      <td>WT</td>\n",
       "    </tr>\n",
       "    <tr>\n",
       "      <th>1102</th>\n",
       "      <td>4478</td>\n",
       "      <td>TCGA-RR-A6KB</td>\n",
       "      <td>NaN</td>\n",
       "      <td>18713.0</td>\n",
       "      <td>No</td>\n",
       "      <td>no</td>\n",
       "      <td>No</td>\n",
       "      <td>0.0</td>\n",
       "      <td>male</td>\n",
       "      <td>black or african american</td>\n",
       "      <td>...</td>\n",
       "      <td>0.000000</td>\n",
       "      <td>0</td>\n",
       "      <td>train</td>\n",
       "      <td>WT</td>\n",
       "      <td>Unmethylated</td>\n",
       "      <td>non-codel</td>\n",
       "      <td>No chr 19/20 gain</td>\n",
       "      <td>Gain chr 7 &amp; loss chr 10</td>\n",
       "      <td>NaN</td>\n",
       "      <td>WT</td>\n",
       "    </tr>\n",
       "    <tr>\n",
       "      <th>1103</th>\n",
       "      <td>4479</td>\n",
       "      <td>TCGA-RR-A6KC</td>\n",
       "      <td>NaN</td>\n",
       "      <td>20302.0</td>\n",
       "      <td>No</td>\n",
       "      <td>no</td>\n",
       "      <td>No</td>\n",
       "      <td>NaN</td>\n",
       "      <td>male</td>\n",
       "      <td>black or african american</td>\n",
       "      <td>...</td>\n",
       "      <td>1.712329</td>\n",
       "      <td>1</td>\n",
       "      <td>train</td>\n",
       "      <td>WT</td>\n",
       "      <td>Unmethylated</td>\n",
       "      <td>non-codel</td>\n",
       "      <td>Gain chr 19/20</td>\n",
       "      <td>Gain chr 7 &amp; loss chr 10</td>\n",
       "      <td>NaN</td>\n",
       "      <td>WT</td>\n",
       "    </tr>\n",
       "  </tbody>\n",
       "</table>\n",
       "<p>1104 rows × 25 columns</p>\n",
       "</div>"
      ],
      "text/plain": [
       "      Unnamed: 0  submitter_id  tumor_stage  age_at_diagnosis prior_treatment  \\\n",
       "0            607  TCGA-CS-4938          NaN           11509.0              No   \n",
       "1            608  TCGA-CS-4941          NaN           24578.0              No   \n",
       "2            609  TCGA-CS-4942          NaN           16297.0              No   \n",
       "3            610  TCGA-CS-4943          NaN           13565.0              No   \n",
       "4            611  TCGA-CS-4944          NaN           18494.0              No   \n",
       "...          ...           ...          ...               ...             ...   \n",
       "1099        4475  TCGA-87-5896          NaN           18391.0              No   \n",
       "1100        4476  TCGA-OX-A56R          NaN           25178.0              No   \n",
       "1101        4477  TCGA-RR-A6KA          NaN           26582.0              No   \n",
       "1102        4478  TCGA-RR-A6KB          NaN           18713.0              No   \n",
       "1103        4479  TCGA-RR-A6KC          NaN           20302.0              No   \n",
       "\n",
       "     prior_malignancy synchronous_malignancy  days_to_last_follow_up  gender  \\\n",
       "0                  no                     No                  3574.0  female   \n",
       "1                  no                     No                     NaN    male   \n",
       "2                  no                     No                     NaN  female   \n",
       "3                  no                     No                     NaN    male   \n",
       "4                  no                     No                  1828.0    male   \n",
       "...               ...                    ...                     ...     ...   \n",
       "1099              NaN                    NaN                   800.0  female   \n",
       "1100               no                     No                     NaN    male   \n",
       "1101               no                     No                     NaN  female   \n",
       "1102               no                     No                     0.0    male   \n",
       "1103               no                     No                     NaN    male   \n",
       "\n",
       "                           race  ...      time  event  group     IDH  \\\n",
       "0                         white  ...  9.791781      0  train  Mutant   \n",
       "1                         white  ...  0.641096      1  train      WT   \n",
       "2     black or african american  ...  3.657534      1  train  Mutant   \n",
       "3                         white  ...  3.030137      1  train  Mutant   \n",
       "4                         white  ...  5.008219      0  train  Mutant   \n",
       "...                         ...  ...       ...    ...    ...     ...   \n",
       "1099                      white  ...  2.191781      0   test      WT   \n",
       "1100  black or african american  ...  0.493151      1  train      WT   \n",
       "1101  black or african american  ...  0.523288      1  train      WT   \n",
       "1102  black or african american  ...  0.000000      0  train      WT   \n",
       "1103  black or african american  ...  1.712329      1  train      WT   \n",
       "\n",
       "              MGMT     X1p19q         19.20.gain                     7g10l  \\\n",
       "0     Unmethylated  non-codel  No chr 19/20 gain           No combined CNA   \n",
       "1       Methylated  non-codel  No chr 19/20 gain  Gain chr 7 & loss chr 10   \n",
       "2     Unmethylated  non-codel  No chr 19/20 gain           No combined CNA   \n",
       "3       Methylated  non-codel  No chr 19/20 gain           No combined CNA   \n",
       "4       Methylated  non-codel  No chr 19/20 gain           No combined CNA   \n",
       "...            ...        ...                ...                       ...   \n",
       "1099  Unmethylated  non-codel  No chr 19/20 gain  Gain chr 7 & loss chr 10   \n",
       "1100    Methylated  non-codel  No chr 19/20 gain  Gain chr 7 & loss chr 10   \n",
       "1101    Methylated  non-codel     Gain chr 19/20           No combined CNA   \n",
       "1102  Unmethylated  non-codel  No chr 19/20 gain  Gain chr 7 & loss chr 10   \n",
       "1103  Unmethylated  non-codel     Gain chr 19/20  Gain chr 7 & loss chr 10   \n",
       "\n",
       "               TERT    ATRX  \n",
       "0     Not expressed  Mutant  \n",
       "1         Expressed      WT  \n",
       "2     Not expressed  Mutant  \n",
       "3     Not expressed  Mutant  \n",
       "4         Expressed      WT  \n",
       "...             ...     ...  \n",
       "1099            NaN      WT  \n",
       "1100            NaN      WT  \n",
       "1101            NaN      WT  \n",
       "1102            NaN      WT  \n",
       "1103            NaN      WT  \n",
       "\n",
       "[1104 rows x 25 columns]"
      ]
     },
     "execution_count": 20,
     "metadata": {},
     "output_type": "execute_result"
    }
   ],
   "source": [
    "dataframe"
   ]
  },
  {
   "cell_type": "markdown",
   "id": "6bd92859-1c13-4a7d-9a27-4e24e7e40322",
   "metadata": {},
   "source": [
    "# 4. RNASeq <a name=\"p4\"></a>"
   ]
  },
  {
   "cell_type": "code",
   "execution_count": 29,
   "id": "32c86641-852a-4eeb-be50-9b147812b23e",
   "metadata": {
    "tags": []
   },
   "outputs": [
    {
     "name": "stdout",
     "output_type": "stream",
     "text": [
      "CPU times: user 78.5 ms, sys: 1.01 ms, total: 79.5 ms\n",
      "Wall time: 3.38 s\n"
     ]
    },
    {
     "data": {
      "text/plain": [
       "(6390, 6)"
      ]
     },
     "execution_count": 29,
     "metadata": {},
     "output_type": "execute_result"
    }
   ],
   "source": [
    "%%time\n",
    "\n",
    "mRNA_files = request_file_info(data_type='RNA-Seq')\n",
    "mRNA_files.shape"
   ]
  },
  {
   "cell_type": "code",
   "execution_count": 30,
   "id": "7882bef3-9f65-44b5-ac8f-5a1c3fbfe004",
   "metadata": {
    "tags": []
   },
   "outputs": [
    {
     "data": {
      "text/plain": [
       "(674, 6)"
      ]
     },
     "execution_count": 30,
     "metadata": {},
     "output_type": "execute_result"
    }
   ],
   "source": [
    "mRNA_files = mRNA_files[mRNA_files['cases.0.project.project_id'].str.startswith('TCGA')]\n",
    "mRNA_files = mRNA_files[mRNA_files['file_name'].str.endswith('rna_seq.augmented_star_gene_counts.tsv')]\n",
    "mRNA_files = mRNA_files[mRNA_files['cases.0.samples.0.sample_type'] == 'Primary Tumor']\n",
    "mRNA_files.shape"
   ]
  },
  {
   "cell_type": "code",
   "execution_count": 31,
   "id": "b6c46db1-7570-461f-8e1a-2500c733f6bb",
   "metadata": {
    "tags": []
   },
   "outputs": [
    {
     "name": "stdout",
     "output_type": "stream",
     "text": [
      "All rows:        674\n",
      "Unique patients: 672\n"
     ]
    }
   ],
   "source": [
    "print('All rows:       ', mRNA_files.shape[0])\n",
    "print('Unique patients:', mRNA_files['cases.0.submitter_id'].unique().shape[0])"
   ]
  },
  {
   "cell_type": "code",
   "execution_count": 32,
   "id": "b96804ba-f8c2-4b99-bfb1-03357d2be483",
   "metadata": {
    "tags": []
   },
   "outputs": [
    {
     "data": {
      "text/plain": [
       "(672, 6)"
      ]
     },
     "execution_count": 32,
     "metadata": {},
     "output_type": "execute_result"
    }
   ],
   "source": [
    "mRNA_files = mRNA_files[~mRNA_files.duplicated(subset=['cases.0.submitter_id'], keep='first')]\n",
    "mRNA_files.shape"
   ]
  },
  {
   "cell_type": "code",
   "execution_count": 33,
   "id": "3e405a23-a180-4ce3-a1e3-96c5f88f424f",
   "metadata": {
    "tags": []
   },
   "outputs": [
    {
     "data": {
      "text/plain": [
       "664"
      ]
     },
     "execution_count": 33,
     "metadata": {},
     "output_type": "execute_result"
    }
   ],
   "source": [
    "file_map = make_patient_file_map(mRNA_files, os.path.join(base_path, 'raw_RNA'))\n",
    "file_map = {k: file_map[k] for k in file_map if k in list(dataframe['submitter_id'])}\n",
    "len(file_map)"
   ]
  },
  {
   "cell_type": "code",
   "execution_count": 34,
   "id": "9bbc656c-b547-4cf2-b194-ca4061c5db52",
   "metadata": {
    "tags": []
   },
   "outputs": [],
   "source": [
    "RNA_mapping = pd.DataFrame([(k, v) for k, v in file_map.items()], columns=('submitter_id', 'RNA'))\n",
    "dataframe = dataframe.merge(RNA_mapping, how='left', on='submitter_id')"
   ]
  },
  {
   "cell_type": "code",
   "execution_count": 37,
   "id": "f30dd557-e57a-4116-9e3c-d5d578041092",
   "metadata": {
    "tags": []
   },
   "outputs": [
    {
     "data": {
      "text/plain": [
       "664"
      ]
     },
     "execution_count": 37,
     "metadata": {},
     "output_type": "execute_result"
    }
   ],
   "source": [
    "dataframe.RNA.notnull().sum()"
   ]
  },
  {
   "cell_type": "markdown",
   "id": "83742c7d-0be7-47bb-ab83-efb7b5a41f5a",
   "metadata": {},
   "source": [
    "## Preprocessing\n",
    "In this section, we only consider genes coding for proteins, and we also remove genes with a variance of less than 0.1 on the training set."
   ]
  },
  {
   "cell_type": "code",
   "execution_count": 38,
   "id": "d61cda0b-caee-4162-a65d-14147f311d18",
   "metadata": {
    "tags": []
   },
   "outputs": [
    {
     "data": {
      "text/plain": [
       "532"
      ]
     },
     "execution_count": 38,
     "metadata": {},
     "output_type": "execute_result"
    }
   ],
   "source": [
    "def load_single_file_RNA(path):\n",
    "    temp_df = pd.read_csv(path, sep='\\t', skiprows=6, usecols=[0, 2, 8], names=['gene_id', 'gene_type', 'fpkm_uq_unstranded']).set_index('gene_id')#, 2, 3, 4, 5, 6, 7, 8])\n",
    "    temp_df = temp_df[temp_df['gene_type'] == 'protein_coding']['fpkm_uq_unstranded']\n",
    "    return temp_df\n",
    "\n",
    "dataframe_train = dataframe[dataframe.group == 'train']\n",
    "file_map_train = make_patient_file_map(mRNA_files, os.path.join(base_path, 'raw_RNA'))\n",
    "file_map_train = {k: file_map[k] for k in file_map if k in list(dataframe_train['submitter_id'])}\n",
    "len(file_map_train)"
   ]
  },
  {
   "cell_type": "code",
   "execution_count": 39,
   "id": "a0c866a6-69e3-4b5a-93e5-29191f39eb2f",
   "metadata": {
    "tags": []
   },
   "outputs": [],
   "source": [
    "rna_train_dataframe = pd.concat([load_single_file_RNA(path) for path in file_map_train.values()], axis=1)"
   ]
  },
  {
   "cell_type": "code",
   "execution_count": 40,
   "id": "830c0635-4a06-4564-a5bc-f5cdab21e0ce",
   "metadata": {
    "tags": []
   },
   "outputs": [],
   "source": [
    "gene_description = rna_train_dataframe.T.describe()"
   ]
  },
  {
   "cell_type": "code",
   "execution_count": 41,
   "id": "f993a644-21dc-4289-8928-880f39487d91",
   "metadata": {
    "tags": []
   },
   "outputs": [
    {
     "data": {
      "text/html": [
       "<div>\n",
       "<style scoped>\n",
       "    .dataframe tbody tr th:only-of-type {\n",
       "        vertical-align: middle;\n",
       "    }\n",
       "\n",
       "    .dataframe tbody tr th {\n",
       "        vertical-align: top;\n",
       "    }\n",
       "\n",
       "    .dataframe thead th {\n",
       "        text-align: right;\n",
       "    }\n",
       "</style>\n",
       "<table border=\"1\" class=\"dataframe\">\n",
       "  <thead>\n",
       "    <tr style=\"text-align: right;\">\n",
       "      <th>gene_id</th>\n",
       "      <th>ENSG00000000003.15</th>\n",
       "      <th>ENSG00000000005.6</th>\n",
       "      <th>ENSG00000000419.13</th>\n",
       "      <th>ENSG00000000457.14</th>\n",
       "      <th>ENSG00000000460.17</th>\n",
       "      <th>ENSG00000000938.13</th>\n",
       "      <th>ENSG00000000971.16</th>\n",
       "      <th>ENSG00000001036.14</th>\n",
       "      <th>ENSG00000001084.13</th>\n",
       "      <th>ENSG00000001167.14</th>\n",
       "      <th>...</th>\n",
       "      <th>ENSG00000288649.1</th>\n",
       "      <th>ENSG00000288654.1</th>\n",
       "      <th>ENSG00000288656.1</th>\n",
       "      <th>ENSG00000288658.1</th>\n",
       "      <th>ENSG00000288660.1</th>\n",
       "      <th>ENSG00000288661.1</th>\n",
       "      <th>ENSG00000288669.1</th>\n",
       "      <th>ENSG00000288671.1</th>\n",
       "      <th>ENSG00000288674.1</th>\n",
       "      <th>ENSG00000288675.1</th>\n",
       "    </tr>\n",
       "  </thead>\n",
       "  <tbody>\n",
       "    <tr>\n",
       "      <th>count</th>\n",
       "      <td>532.000000</td>\n",
       "      <td>532.000000</td>\n",
       "      <td>532.000000</td>\n",
       "      <td>532.000000</td>\n",
       "      <td>532.000000</td>\n",
       "      <td>532.000000</td>\n",
       "      <td>532.000000</td>\n",
       "      <td>532.000000</td>\n",
       "      <td>532.000000</td>\n",
       "      <td>532.000000</td>\n",
       "      <td>...</td>\n",
       "      <td>532.0</td>\n",
       "      <td>532.0</td>\n",
       "      <td>532.000000</td>\n",
       "      <td>532.000000</td>\n",
       "      <td>532.000000</td>\n",
       "      <td>532.0</td>\n",
       "      <td>532.000000</td>\n",
       "      <td>532.0</td>\n",
       "      <td>532.000000</td>\n",
       "      <td>532.000000</td>\n",
       "    </tr>\n",
       "    <tr>\n",
       "      <th>mean</th>\n",
       "      <td>16.516526</td>\n",
       "      <td>0.460505</td>\n",
       "      <td>19.835028</td>\n",
       "      <td>1.684326</td>\n",
       "      <td>0.949447</td>\n",
       "      <td>3.260354</td>\n",
       "      <td>3.056973</td>\n",
       "      <td>8.886332</td>\n",
       "      <td>8.401908</td>\n",
       "      <td>7.555184</td>\n",
       "      <td>...</td>\n",
       "      <td>0.0</td>\n",
       "      <td>0.0</td>\n",
       "      <td>0.001792</td>\n",
       "      <td>0.439711</td>\n",
       "      <td>0.022902</td>\n",
       "      <td>0.0</td>\n",
       "      <td>0.000729</td>\n",
       "      <td>0.0</td>\n",
       "      <td>0.010868</td>\n",
       "      <td>0.710279</td>\n",
       "    </tr>\n",
       "    <tr>\n",
       "      <th>std</th>\n",
       "      <td>9.744088</td>\n",
       "      <td>3.821636</td>\n",
       "      <td>6.563378</td>\n",
       "      <td>0.341117</td>\n",
       "      <td>0.524027</td>\n",
       "      <td>2.503685</td>\n",
       "      <td>9.265542</td>\n",
       "      <td>6.750917</td>\n",
       "      <td>4.541117</td>\n",
       "      <td>2.408429</td>\n",
       "      <td>...</td>\n",
       "      <td>0.0</td>\n",
       "      <td>0.0</td>\n",
       "      <td>0.003519</td>\n",
       "      <td>0.603313</td>\n",
       "      <td>0.036959</td>\n",
       "      <td>0.0</td>\n",
       "      <td>0.002916</td>\n",
       "      <td>0.0</td>\n",
       "      <td>0.008565</td>\n",
       "      <td>0.471296</td>\n",
       "    </tr>\n",
       "    <tr>\n",
       "      <th>min</th>\n",
       "      <td>1.670300</td>\n",
       "      <td>0.000000</td>\n",
       "      <td>8.945500</td>\n",
       "      <td>0.767800</td>\n",
       "      <td>0.186600</td>\n",
       "      <td>0.543800</td>\n",
       "      <td>0.195000</td>\n",
       "      <td>0.333800</td>\n",
       "      <td>0.835500</td>\n",
       "      <td>1.897700</td>\n",
       "      <td>...</td>\n",
       "      <td>0.0</td>\n",
       "      <td>0.0</td>\n",
       "      <td>0.000000</td>\n",
       "      <td>0.000000</td>\n",
       "      <td>0.000000</td>\n",
       "      <td>0.0</td>\n",
       "      <td>0.000000</td>\n",
       "      <td>0.0</td>\n",
       "      <td>0.000000</td>\n",
       "      <td>0.082200</td>\n",
       "    </tr>\n",
       "    <tr>\n",
       "      <th>25%</th>\n",
       "      <td>11.430450</td>\n",
       "      <td>0.037075</td>\n",
       "      <td>15.757025</td>\n",
       "      <td>1.455200</td>\n",
       "      <td>0.585150</td>\n",
       "      <td>1.742625</td>\n",
       "      <td>0.796500</td>\n",
       "      <td>4.073275</td>\n",
       "      <td>5.046775</td>\n",
       "      <td>5.982375</td>\n",
       "      <td>...</td>\n",
       "      <td>0.0</td>\n",
       "      <td>0.0</td>\n",
       "      <td>0.000000</td>\n",
       "      <td>0.113150</td>\n",
       "      <td>0.000000</td>\n",
       "      <td>0.0</td>\n",
       "      <td>0.000000</td>\n",
       "      <td>0.0</td>\n",
       "      <td>0.005675</td>\n",
       "      <td>0.426200</td>\n",
       "    </tr>\n",
       "    <tr>\n",
       "      <th>50%</th>\n",
       "      <td>14.637200</td>\n",
       "      <td>0.073200</td>\n",
       "      <td>18.042500</td>\n",
       "      <td>1.655000</td>\n",
       "      <td>0.833700</td>\n",
       "      <td>2.568250</td>\n",
       "      <td>1.432950</td>\n",
       "      <td>6.424700</td>\n",
       "      <td>7.589100</td>\n",
       "      <td>7.140350</td>\n",
       "      <td>...</td>\n",
       "      <td>0.0</td>\n",
       "      <td>0.0</td>\n",
       "      <td>0.000000</td>\n",
       "      <td>0.224850</td>\n",
       "      <td>0.000000</td>\n",
       "      <td>0.0</td>\n",
       "      <td>0.000000</td>\n",
       "      <td>0.0</td>\n",
       "      <td>0.009400</td>\n",
       "      <td>0.612950</td>\n",
       "    </tr>\n",
       "    <tr>\n",
       "      <th>75%</th>\n",
       "      <td>19.533200</td>\n",
       "      <td>0.144800</td>\n",
       "      <td>21.810175</td>\n",
       "      <td>1.850950</td>\n",
       "      <td>1.165775</td>\n",
       "      <td>3.915625</td>\n",
       "      <td>2.930925</td>\n",
       "      <td>12.461325</td>\n",
       "      <td>10.708500</td>\n",
       "      <td>8.606525</td>\n",
       "      <td>...</td>\n",
       "      <td>0.0</td>\n",
       "      <td>0.0</td>\n",
       "      <td>0.003625</td>\n",
       "      <td>0.508450</td>\n",
       "      <td>0.032225</td>\n",
       "      <td>0.0</td>\n",
       "      <td>0.000000</td>\n",
       "      <td>0.0</td>\n",
       "      <td>0.014425</td>\n",
       "      <td>0.886450</td>\n",
       "    </tr>\n",
       "    <tr>\n",
       "      <th>max</th>\n",
       "      <td>112.397800</td>\n",
       "      <td>67.389800</td>\n",
       "      <td>62.112300</td>\n",
       "      <td>3.623200</td>\n",
       "      <td>4.044100</td>\n",
       "      <td>25.299400</td>\n",
       "      <td>170.688200</td>\n",
       "      <td>36.041900</td>\n",
       "      <td>46.288400</td>\n",
       "      <td>20.948600</td>\n",
       "      <td>...</td>\n",
       "      <td>0.0</td>\n",
       "      <td>0.0</td>\n",
       "      <td>0.020900</td>\n",
       "      <td>4.768300</td>\n",
       "      <td>0.298400</td>\n",
       "      <td>0.0</td>\n",
       "      <td>0.042600</td>\n",
       "      <td>0.0</td>\n",
       "      <td>0.118600</td>\n",
       "      <td>5.283000</td>\n",
       "    </tr>\n",
       "  </tbody>\n",
       "</table>\n",
       "<p>8 rows × 19962 columns</p>\n",
       "</div>"
      ],
      "text/plain": [
       "gene_id  ENSG00000000003.15  ENSG00000000005.6  ENSG00000000419.13  \\\n",
       "count            532.000000         532.000000          532.000000   \n",
       "mean              16.516526           0.460505           19.835028   \n",
       "std                9.744088           3.821636            6.563378   \n",
       "min                1.670300           0.000000            8.945500   \n",
       "25%               11.430450           0.037075           15.757025   \n",
       "50%               14.637200           0.073200           18.042500   \n",
       "75%               19.533200           0.144800           21.810175   \n",
       "max              112.397800          67.389800           62.112300   \n",
       "\n",
       "gene_id  ENSG00000000457.14  ENSG00000000460.17  ENSG00000000938.13  \\\n",
       "count            532.000000          532.000000          532.000000   \n",
       "mean               1.684326            0.949447            3.260354   \n",
       "std                0.341117            0.524027            2.503685   \n",
       "min                0.767800            0.186600            0.543800   \n",
       "25%                1.455200            0.585150            1.742625   \n",
       "50%                1.655000            0.833700            2.568250   \n",
       "75%                1.850950            1.165775            3.915625   \n",
       "max                3.623200            4.044100           25.299400   \n",
       "\n",
       "gene_id  ENSG00000000971.16  ENSG00000001036.14  ENSG00000001084.13  \\\n",
       "count            532.000000          532.000000          532.000000   \n",
       "mean               3.056973            8.886332            8.401908   \n",
       "std                9.265542            6.750917            4.541117   \n",
       "min                0.195000            0.333800            0.835500   \n",
       "25%                0.796500            4.073275            5.046775   \n",
       "50%                1.432950            6.424700            7.589100   \n",
       "75%                2.930925           12.461325           10.708500   \n",
       "max              170.688200           36.041900           46.288400   \n",
       "\n",
       "gene_id  ENSG00000001167.14  ...  ENSG00000288649.1  ENSG00000288654.1  \\\n",
       "count            532.000000  ...              532.0              532.0   \n",
       "mean               7.555184  ...                0.0                0.0   \n",
       "std                2.408429  ...                0.0                0.0   \n",
       "min                1.897700  ...                0.0                0.0   \n",
       "25%                5.982375  ...                0.0                0.0   \n",
       "50%                7.140350  ...                0.0                0.0   \n",
       "75%                8.606525  ...                0.0                0.0   \n",
       "max               20.948600  ...                0.0                0.0   \n",
       "\n",
       "gene_id  ENSG00000288656.1  ENSG00000288658.1  ENSG00000288660.1  \\\n",
       "count           532.000000         532.000000         532.000000   \n",
       "mean              0.001792           0.439711           0.022902   \n",
       "std               0.003519           0.603313           0.036959   \n",
       "min               0.000000           0.000000           0.000000   \n",
       "25%               0.000000           0.113150           0.000000   \n",
       "50%               0.000000           0.224850           0.000000   \n",
       "75%               0.003625           0.508450           0.032225   \n",
       "max               0.020900           4.768300           0.298400   \n",
       "\n",
       "gene_id  ENSG00000288661.1  ENSG00000288669.1  ENSG00000288671.1  \\\n",
       "count                532.0         532.000000              532.0   \n",
       "mean                   0.0           0.000729                0.0   \n",
       "std                    0.0           0.002916                0.0   \n",
       "min                    0.0           0.000000                0.0   \n",
       "25%                    0.0           0.000000                0.0   \n",
       "50%                    0.0           0.000000                0.0   \n",
       "75%                    0.0           0.000000                0.0   \n",
       "max                    0.0           0.042600                0.0   \n",
       "\n",
       "gene_id  ENSG00000288674.1  ENSG00000288675.1  \n",
       "count           532.000000         532.000000  \n",
       "mean              0.010868           0.710279  \n",
       "std               0.008565           0.471296  \n",
       "min               0.000000           0.082200  \n",
       "25%               0.005675           0.426200  \n",
       "50%               0.009400           0.612950  \n",
       "75%               0.014425           0.886450  \n",
       "max               0.118600           5.283000  \n",
       "\n",
       "[8 rows x 19962 columns]"
      ]
     },
     "execution_count": 41,
     "metadata": {},
     "output_type": "execute_result"
    }
   ],
   "source": [
    "gene_description"
   ]
  },
  {
   "cell_type": "code",
   "execution_count": 42,
   "id": "487b19b4-16a8-4ddb-b055-66f851d53e26",
   "metadata": {
    "tags": []
   },
   "outputs": [],
   "source": [
    "genes_to_keep = gene_description.columns[gene_description.iloc[2, :] > 0.1].values.tolist()"
   ]
  },
  {
   "cell_type": "code",
   "execution_count": 43,
   "id": "c4c30411-aabf-42d7-8d96-696f6d4a0a54",
   "metadata": {
    "tags": []
   },
   "outputs": [],
   "source": [
    "def load_preprocessed_single_file_RNA(path, genes_to_keep=genes_to_keep):\n",
    "    temp_df = load_single_file_RNA(path)\n",
    "    return temp_df.loc[genes_to_keep]"
   ]
  },
  {
   "cell_type": "code",
   "execution_count": 45,
   "id": "78ed8144-9223-4135-8f32-b0fbf8be7cda",
   "metadata": {
    "tags": []
   },
   "outputs": [
    {
     "data": {
      "text/plain": [
       "16304"
      ]
     },
     "execution_count": 45,
     "metadata": {},
     "output_type": "execute_result"
    }
   ],
   "source": [
    "len(genes_to_keep)"
   ]
  },
  {
   "cell_type": "code",
   "execution_count": null,
   "id": "32abae5f-66f8-4404-ac73-7a629068d1aa",
   "metadata": {},
   "outputs": [],
   "source": []
  },
  {
   "cell_type": "code",
   "execution_count": 46,
   "id": "3f7ec0e4-76f2-4102-a03a-0767f243fdd8",
   "metadata": {
    "tags": []
   },
   "outputs": [
    {
     "name": "stderr",
     "output_type": "stream",
     "text": [
      "100%|█████████████████████████████████████████████████████████████████████████████████████████████████████████████████████████████████████████████████████████████████████████████████████████████████████████████████████| 664/664 [00:57<00:00, 11.45it/s]\n"
     ]
    }
   ],
   "source": [
    "output_path = os.path.join(base_path, 'RNA')\n",
    "\n",
    "if not os.path.exists(output_path):\n",
    "    os.makedirs(output_path)\n",
    "\n",
    "for patient, filepath in tqdm.tqdm(file_map.items()):\n",
    "    idx, filename = filepath.split('/')[-2:]\n",
    "    if not os.path.exists(os.path.join(output_path, idx)):\n",
    "        os.makedirs(os.path.join(output_path, idx))\n",
    "        \n",
    "    temp_df = load_preprocessed_single_file_RNA(filepath)\n",
    "    temp_df.to_csv(os.path.join(output_path, idx, filename.replace('tsv', 'csv')))"
   ]
  },
  {
   "cell_type": "code",
   "execution_count": 48,
   "id": "86201166-91d2-4de7-811a-785130ff973c",
   "metadata": {
    "tags": []
   },
   "outputs": [],
   "source": [
    "def replace_rna(x):\n",
    "    if pd.isna(x):\n",
    "        return x\n",
    "    else:\n",
    "        return str(x).replace('raw_RNA', 'RNA').replace('tsv', 'csv')\n",
    "    \n",
    "    \n",
    "dataframe['RNA'] = dataframe['RNA'].apply(replace_rna)"
   ]
  },
  {
   "cell_type": "code",
   "execution_count": 51,
   "id": "b880ee72-8ecf-493a-b581-0c8765f42433",
   "metadata": {
    "tags": []
   },
   "outputs": [],
   "source": [
    "dataframe.to_csv('../../DRIM/data/files/dataset.csv', index=False)"
   ]
  },
  {
   "cell_type": "code",
   "execution_count": null,
   "id": "6217aa11-c4f2-490e-be0d-17edc5cb081b",
   "metadata": {},
   "outputs": [],
   "source": []
  }
 ],
 "metadata": {
  "kernelspec": {
   "display_name": "Python 3 (ipykernel)",
   "language": "python",
   "name": "python3"
  },
  "language_info": {
   "codemirror_mode": {
    "name": "ipython",
    "version": 3
   },
   "file_extension": ".py",
   "mimetype": "text/x-python",
   "name": "python",
   "nbconvert_exporter": "python",
   "pygments_lexer": "ipython3",
   "version": "3.11.5"
  }
 },
 "nbformat": 4,
 "nbformat_minor": 5
}
